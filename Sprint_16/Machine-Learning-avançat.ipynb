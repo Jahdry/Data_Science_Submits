{
 "cells": [
  {
   "cell_type": "markdown",
   "source": [
    "TEXT MINING"
   ],
   "metadata": {}
  },
  {
   "cell_type": "markdown",
   "source": [
    "# S16 T01: Pipelines, grid search i text mining"
   ],
   "metadata": {}
  },
  {
   "cell_type": "code",
   "execution_count": 1,
   "source": [
    "# Imoporting packages\n",
    "# ==============================================================================\n",
    "import pandas as pd \n",
    "import datetime as dt\n",
    "import numpy as np \n",
    "import seaborn as sns\n",
    "import matplotlib.pyplot as plt \n",
    "from scipy import stats\n",
    "import math\n",
    "from collections import Counter\n",
    "\n",
    "from sklearn import preprocessing as prp\n",
    "from sklearn import model_selection as ms\n",
    "from sklearn.decomposition import PCA\n",
    "from sklearn import ensemble\n",
    "from sklearn import metrics\n",
    "from sklearn import pipeline\n",
    "from sklearn import compose\n",
    "\n",
    "from textblob import TextBlob\n",
    "\n",
    "import nltk\n",
    "from nltk import tokenize \n",
    "from nltk.corpus import stopwords\n",
    "from nltk.probability import FreqDist\n",
    "from nltk.stem import PorterStemmer\n",
    "\n",
    "nltk.download('punkt')\n",
    "nltk.download('stopwords')\n",
    "nltk.download('wordnet')\n",
    "nltk.download('averaged_perceptron_tagger')\n",
    "\n",
    "from nltk.stem.wordnet import WordNetLemmatizer\n",
    "from nltk.stem.porter import PorterStemmer\n",
    "\n",
    "# Pandas Configuration\n",
    "# ==============================================================================\n",
    "pd.set_option('float_format', '{:.2f}'.format) # float numbers with 2 decimals\n",
    "pd.set_option(\"display.max_columns\", None) # Display all columns\n",
    "\n",
    "# Seaborn configuration\n",
    "# ==============================================================================\n",
    "sns.set_theme(style='darkgrid', palette='deep')\n",
    "dims = (20, 16)\n",
    "\n",
    "# Warnings configuration\n",
    "# ==============================================================================\n",
    "import warnings\n",
    "warnings.filterwarnings('ignore')"
   ],
   "outputs": [
    {
     "output_type": "stream",
     "name": "stderr",
     "text": [
      "[nltk_data] Downloading package punkt to /Users/Jahdry/nltk_data...\n",
      "[nltk_data]   Package punkt is already up-to-date!\n",
      "[nltk_data] Downloading package stopwords to\n",
      "[nltk_data]     /Users/Jahdry/nltk_data...\n",
      "[nltk_data]   Package stopwords is already up-to-date!\n",
      "[nltk_data] Downloading package wordnet to /Users/Jahdry/nltk_data...\n",
      "[nltk_data]   Package wordnet is already up-to-date!\n",
      "[nltk_data] Downloading package averaged_perceptron_tagger to\n",
      "[nltk_data]     /Users/Jahdry/nltk_data...\n",
      "[nltk_data]   Package averaged_perceptron_tagger is already up-to-\n",
      "[nltk_data]       date!\n"
     ]
    }
   ],
   "metadata": {}
  },
  {
   "cell_type": "markdown",
   "source": [
    "\n",
    "## **Nivell 1**\n",
    "- Exercici 1\n",
    "\n",
    "Agafa el conjunt de dades que vulguis i realitza un pipeline i un gridsearch aplicant l'algorisme de Random Forest."
   ],
   "metadata": {}
  },
  {
   "cell_type": "markdown",
   "source": [
    "For this exercise NBA_player_data_Eur_Units.csv will be used. This is a Dataset preprocessed and modified from the origina [NBA Players stats since 1950](https://www.kaggle.com/drgilermo/nba-players-stats) on Kaggle.  \n",
    "\n",
    "The current dataset has been converted to international units and has no missing values. You can see the prior data processing [here](https://github.com/Jahdry/Data_Science_Submits/blob/main/Sprint9/Feature_engineering.ipynb)."
   ],
   "metadata": {}
  },
  {
   "cell_type": "markdown",
   "source": [
    "### **Loading the data and showing its caracteristics**"
   ],
   "metadata": {}
  },
  {
   "cell_type": "code",
   "execution_count": 2,
   "source": [
    "# Loading the dataset\n",
    "nba_players = pd.read_csv('../db/NBA PLAYERS STATS/player_data_Eur_units.csv', index_col=0)\n",
    "nba_players.head()"
   ],
   "outputs": [
    {
     "output_type": "execute_result",
     "data": {
      "text/html": [
       "<div>\n",
       "<style scoped>\n",
       "    .dataframe tbody tr th:only-of-type {\n",
       "        vertical-align: middle;\n",
       "    }\n",
       "\n",
       "    .dataframe tbody tr th {\n",
       "        vertical-align: top;\n",
       "    }\n",
       "\n",
       "    .dataframe thead th {\n",
       "        text-align: right;\n",
       "    }\n",
       "</style>\n",
       "<table border=\"1\" class=\"dataframe\">\n",
       "  <thead>\n",
       "    <tr style=\"text-align: right;\">\n",
       "      <th></th>\n",
       "      <th>year_start</th>\n",
       "      <th>year_end</th>\n",
       "      <th>position</th>\n",
       "      <th>position_numeric</th>\n",
       "      <th>height</th>\n",
       "      <th>height cm</th>\n",
       "      <th>weight</th>\n",
       "      <th>weight Kg</th>\n",
       "      <th>birth_date</th>\n",
       "      <th>college</th>\n",
       "    </tr>\n",
       "    <tr>\n",
       "      <th>name</th>\n",
       "      <th></th>\n",
       "      <th></th>\n",
       "      <th></th>\n",
       "      <th></th>\n",
       "      <th></th>\n",
       "      <th></th>\n",
       "      <th></th>\n",
       "      <th></th>\n",
       "      <th></th>\n",
       "      <th></th>\n",
       "    </tr>\n",
       "  </thead>\n",
       "  <tbody>\n",
       "    <tr>\n",
       "      <th>Alaa Abdelnaby</th>\n",
       "      <td>1991</td>\n",
       "      <td>1995</td>\n",
       "      <td>F-C</td>\n",
       "      <td>4</td>\n",
       "      <td>6-10</td>\n",
       "      <td>208</td>\n",
       "      <td>240.00</td>\n",
       "      <td>108.86</td>\n",
       "      <td>June 24, 1968</td>\n",
       "      <td>Duke University</td>\n",
       "    </tr>\n",
       "    <tr>\n",
       "      <th>Zaid Abdul-Aziz</th>\n",
       "      <td>1969</td>\n",
       "      <td>1978</td>\n",
       "      <td>C-F</td>\n",
       "      <td>4</td>\n",
       "      <td>6-9</td>\n",
       "      <td>205</td>\n",
       "      <td>235.00</td>\n",
       "      <td>106.60</td>\n",
       "      <td>April 7, 1946</td>\n",
       "      <td>Iowa State University</td>\n",
       "    </tr>\n",
       "    <tr>\n",
       "      <th>Kareem Abdul-Jabbar</th>\n",
       "      <td>1970</td>\n",
       "      <td>1989</td>\n",
       "      <td>C</td>\n",
       "      <td>5</td>\n",
       "      <td>7-2</td>\n",
       "      <td>218</td>\n",
       "      <td>225.00</td>\n",
       "      <td>102.06</td>\n",
       "      <td>April 16, 1947</td>\n",
       "      <td>University of California, Los Angeles</td>\n",
       "    </tr>\n",
       "    <tr>\n",
       "      <th>Mahmoud Abdul-Rauf</th>\n",
       "      <td>1991</td>\n",
       "      <td>2001</td>\n",
       "      <td>G</td>\n",
       "      <td>1</td>\n",
       "      <td>6-1</td>\n",
       "      <td>185</td>\n",
       "      <td>162.00</td>\n",
       "      <td>73.48</td>\n",
       "      <td>March 9, 1969</td>\n",
       "      <td>Louisiana State University</td>\n",
       "    </tr>\n",
       "    <tr>\n",
       "      <th>Tariq Abdul-Wahad</th>\n",
       "      <td>1998</td>\n",
       "      <td>2003</td>\n",
       "      <td>F</td>\n",
       "      <td>3</td>\n",
       "      <td>6-6</td>\n",
       "      <td>198</td>\n",
       "      <td>223.00</td>\n",
       "      <td>101.15</td>\n",
       "      <td>November 3, 1974</td>\n",
       "      <td>San Jose State University</td>\n",
       "    </tr>\n",
       "  </tbody>\n",
       "</table>\n",
       "</div>"
      ],
      "text/plain": [
       "                     year_start  year_end position  position_numeric height  \\\n",
       "name                                                                          \n",
       "Alaa Abdelnaby             1991      1995      F-C                 4   6-10   \n",
       "Zaid Abdul-Aziz            1969      1978      C-F                 4    6-9   \n",
       "Kareem Abdul-Jabbar        1970      1989        C                 5    7-2   \n",
       "Mahmoud Abdul-Rauf         1991      2001        G                 1    6-1   \n",
       "Tariq Abdul-Wahad          1998      2003        F                 3    6-6   \n",
       "\n",
       "                     height cm  weight  weight Kg        birth_date  \\\n",
       "name                                                                  \n",
       "Alaa Abdelnaby             208  240.00     108.86     June 24, 1968   \n",
       "Zaid Abdul-Aziz            205  235.00     106.60     April 7, 1946   \n",
       "Kareem Abdul-Jabbar        218  225.00     102.06    April 16, 1947   \n",
       "Mahmoud Abdul-Rauf         185  162.00      73.48     March 9, 1969   \n",
       "Tariq Abdul-Wahad          198  223.00     101.15  November 3, 1974   \n",
       "\n",
       "                                                   college  \n",
       "name                                                        \n",
       "Alaa Abdelnaby                             Duke University  \n",
       "Zaid Abdul-Aziz                      Iowa State University  \n",
       "Kareem Abdul-Jabbar  University of California, Los Angeles  \n",
       "Mahmoud Abdul-Rauf              Louisiana State University  \n",
       "Tariq Abdul-Wahad                San Jose State University  "
      ]
     },
     "metadata": {},
     "execution_count": 2
    }
   ],
   "metadata": {}
  },
  {
   "cell_type": "code",
   "execution_count": 3,
   "source": [
    "nba_players.describe(include='all')"
   ],
   "outputs": [
    {
     "output_type": "execute_result",
     "data": {
      "text/html": [
       "<div>\n",
       "<style scoped>\n",
       "    .dataframe tbody tr th:only-of-type {\n",
       "        vertical-align: middle;\n",
       "    }\n",
       "\n",
       "    .dataframe tbody tr th {\n",
       "        vertical-align: top;\n",
       "    }\n",
       "\n",
       "    .dataframe thead th {\n",
       "        text-align: right;\n",
       "    }\n",
       "</style>\n",
       "<table border=\"1\" class=\"dataframe\">\n",
       "  <thead>\n",
       "    <tr style=\"text-align: right;\">\n",
       "      <th></th>\n",
       "      <th>year_start</th>\n",
       "      <th>year_end</th>\n",
       "      <th>position</th>\n",
       "      <th>position_numeric</th>\n",
       "      <th>height</th>\n",
       "      <th>height cm</th>\n",
       "      <th>weight</th>\n",
       "      <th>weight Kg</th>\n",
       "      <th>birth_date</th>\n",
       "      <th>college</th>\n",
       "    </tr>\n",
       "  </thead>\n",
       "  <tbody>\n",
       "    <tr>\n",
       "      <th>count</th>\n",
       "      <td>4213.00</td>\n",
       "      <td>4213.00</td>\n",
       "      <td>4213</td>\n",
       "      <td>4213.00</td>\n",
       "      <td>4213</td>\n",
       "      <td>4213.00</td>\n",
       "      <td>4213.00</td>\n",
       "      <td>4213.00</td>\n",
       "      <td>4213</td>\n",
       "      <td>4213</td>\n",
       "    </tr>\n",
       "    <tr>\n",
       "      <th>unique</th>\n",
       "      <td>nan</td>\n",
       "      <td>nan</td>\n",
       "      <td>7</td>\n",
       "      <td>nan</td>\n",
       "      <td>28</td>\n",
       "      <td>nan</td>\n",
       "      <td>nan</td>\n",
       "      <td>nan</td>\n",
       "      <td>3893</td>\n",
       "      <td>470</td>\n",
       "    </tr>\n",
       "    <tr>\n",
       "      <th>top</th>\n",
       "      <td>nan</td>\n",
       "      <td>nan</td>\n",
       "      <td>G</td>\n",
       "      <td>nan</td>\n",
       "      <td>6-7</td>\n",
       "      <td>nan</td>\n",
       "      <td>nan</td>\n",
       "      <td>nan</td>\n",
       "      <td>October 25, 1948</td>\n",
       "      <td>University of Kentucky</td>\n",
       "    </tr>\n",
       "    <tr>\n",
       "      <th>freq</th>\n",
       "      <td>nan</td>\n",
       "      <td>nan</td>\n",
       "      <td>1501</td>\n",
       "      <td>nan</td>\n",
       "      <td>441</td>\n",
       "      <td>nan</td>\n",
       "      <td>nan</td>\n",
       "      <td>nan</td>\n",
       "      <td>3</td>\n",
       "      <td>99</td>\n",
       "    </tr>\n",
       "    <tr>\n",
       "      <th>mean</th>\n",
       "      <td>1984.06</td>\n",
       "      <td>1988.27</td>\n",
       "      <td>NaN</td>\n",
       "      <td>2.49</td>\n",
       "      <td>NaN</td>\n",
       "      <td>197.24</td>\n",
       "      <td>207.72</td>\n",
       "      <td>94.22</td>\n",
       "      <td>NaN</td>\n",
       "      <td>NaN</td>\n",
       "    </tr>\n",
       "    <tr>\n",
       "      <th>std</th>\n",
       "      <td>20.70</td>\n",
       "      <td>21.59</td>\n",
       "      <td>NaN</td>\n",
       "      <td>1.34</td>\n",
       "      <td>NaN</td>\n",
       "      <td>9.05</td>\n",
       "      <td>25.45</td>\n",
       "      <td>11.54</td>\n",
       "      <td>NaN</td>\n",
       "      <td>NaN</td>\n",
       "    </tr>\n",
       "    <tr>\n",
       "      <th>min</th>\n",
       "      <td>1947.00</td>\n",
       "      <td>1947.00</td>\n",
       "      <td>NaN</td>\n",
       "      <td>1.00</td>\n",
       "      <td>NaN</td>\n",
       "      <td>160.00</td>\n",
       "      <td>133.00</td>\n",
       "      <td>60.33</td>\n",
       "      <td>NaN</td>\n",
       "      <td>NaN</td>\n",
       "    </tr>\n",
       "    <tr>\n",
       "      <th>25%</th>\n",
       "      <td>1969.00</td>\n",
       "      <td>1972.00</td>\n",
       "      <td>NaN</td>\n",
       "      <td>1.00</td>\n",
       "      <td>NaN</td>\n",
       "      <td>190.00</td>\n",
       "      <td>189.00</td>\n",
       "      <td>85.73</td>\n",
       "      <td>NaN</td>\n",
       "      <td>NaN</td>\n",
       "    </tr>\n",
       "    <tr>\n",
       "      <th>50%</th>\n",
       "      <td>1985.00</td>\n",
       "      <td>1990.00</td>\n",
       "      <td>NaN</td>\n",
       "      <td>3.00</td>\n",
       "      <td>NaN</td>\n",
       "      <td>198.00</td>\n",
       "      <td>205.00</td>\n",
       "      <td>92.99</td>\n",
       "      <td>NaN</td>\n",
       "      <td>NaN</td>\n",
       "    </tr>\n",
       "    <tr>\n",
       "      <th>75%</th>\n",
       "      <td>2001.00</td>\n",
       "      <td>2007.00</td>\n",
       "      <td>NaN</td>\n",
       "      <td>3.00</td>\n",
       "      <td>NaN</td>\n",
       "      <td>205.00</td>\n",
       "      <td>225.00</td>\n",
       "      <td>102.06</td>\n",
       "      <td>NaN</td>\n",
       "      <td>NaN</td>\n",
       "    </tr>\n",
       "    <tr>\n",
       "      <th>max</th>\n",
       "      <td>2018.00</td>\n",
       "      <td>2018.00</td>\n",
       "      <td>NaN</td>\n",
       "      <td>5.00</td>\n",
       "      <td>NaN</td>\n",
       "      <td>231.00</td>\n",
       "      <td>360.00</td>\n",
       "      <td>163.30</td>\n",
       "      <td>NaN</td>\n",
       "      <td>NaN</td>\n",
       "    </tr>\n",
       "  </tbody>\n",
       "</table>\n",
       "</div>"
      ],
      "text/plain": [
       "        year_start  year_end position  position_numeric height  height cm  \\\n",
       "count      4213.00   4213.00     4213           4213.00   4213    4213.00   \n",
       "unique         nan       nan        7               nan     28        nan   \n",
       "top            nan       nan        G               nan    6-7        nan   \n",
       "freq           nan       nan     1501               nan    441        nan   \n",
       "mean       1984.06   1988.27      NaN              2.49    NaN     197.24   \n",
       "std          20.70     21.59      NaN              1.34    NaN       9.05   \n",
       "min        1947.00   1947.00      NaN              1.00    NaN     160.00   \n",
       "25%        1969.00   1972.00      NaN              1.00    NaN     190.00   \n",
       "50%        1985.00   1990.00      NaN              3.00    NaN     198.00   \n",
       "75%        2001.00   2007.00      NaN              3.00    NaN     205.00   \n",
       "max        2018.00   2018.00      NaN              5.00    NaN     231.00   \n",
       "\n",
       "        weight  weight Kg        birth_date                 college  \n",
       "count  4213.00    4213.00              4213                    4213  \n",
       "unique     nan        nan              3893                     470  \n",
       "top        nan        nan  October 25, 1948  University of Kentucky  \n",
       "freq       nan        nan                 3                      99  \n",
       "mean    207.72      94.22               NaN                     NaN  \n",
       "std      25.45      11.54               NaN                     NaN  \n",
       "min     133.00      60.33               NaN                     NaN  \n",
       "25%     189.00      85.73               NaN                     NaN  \n",
       "50%     205.00      92.99               NaN                     NaN  \n",
       "75%     225.00     102.06               NaN                     NaN  \n",
       "max     360.00     163.30               NaN                     NaN  "
      ]
     },
     "metadata": {},
     "execution_count": 3
    }
   ],
   "metadata": {}
  },
  {
   "cell_type": "code",
   "execution_count": 4,
   "source": [
    "nba_players.info()"
   ],
   "outputs": [
    {
     "output_type": "stream",
     "name": "stdout",
     "text": [
      "<class 'pandas.core.frame.DataFrame'>\n",
      "Index: 4213 entries, Alaa Abdelnaby to Matt Zunic\n",
      "Data columns (total 10 columns):\n",
      " #   Column            Non-Null Count  Dtype  \n",
      "---  ------            --------------  -----  \n",
      " 0   year_start        4213 non-null   int64  \n",
      " 1   year_end          4213 non-null   int64  \n",
      " 2   position          4213 non-null   object \n",
      " 3   position_numeric  4213 non-null   int64  \n",
      " 4   height            4213 non-null   object \n",
      " 5   height cm         4213 non-null   int64  \n",
      " 6   weight            4213 non-null   float64\n",
      " 7   weight Kg         4213 non-null   float64\n",
      " 8   birth_date        4213 non-null   object \n",
      " 9   college           4213 non-null   object \n",
      "dtypes: float64(2), int64(4), object(4)\n",
      "memory usage: 362.1+ KB\n"
     ]
    }
   ],
   "metadata": {}
  },
  {
   "cell_type": "markdown",
   "source": [
    "### **Defining the process will be aplied to the data**"
   ],
   "metadata": {}
  },
  {
   "cell_type": "code",
   "execution_count": 5,
   "source": [
    "# Convert the dtypes and create 2 new Atributes 'birth_year' and birth_month'\n",
    "\n",
    "nba_1 = nba_players.copy()\n",
    "nba_1['birth_date'] = pd.to_datetime(nba_1['birth_date'])\n",
    "nba_1['birth_year'] = nba_1['birth_date'].dt.year\n",
    "nba_1['birth_month'] = nba_1['birth_date'].dt.month.astype(object)\n",
    "nba_1['position_numeric'] = nba_1['position_numeric'].astype(object)\n",
    "nba_1.info()\n",
    "    "
   ],
   "outputs": [
    {
     "output_type": "stream",
     "name": "stdout",
     "text": [
      "<class 'pandas.core.frame.DataFrame'>\n",
      "Index: 4213 entries, Alaa Abdelnaby to Matt Zunic\n",
      "Data columns (total 12 columns):\n",
      " #   Column            Non-Null Count  Dtype         \n",
      "---  ------            --------------  -----         \n",
      " 0   year_start        4213 non-null   int64         \n",
      " 1   year_end          4213 non-null   int64         \n",
      " 2   position          4213 non-null   object        \n",
      " 3   position_numeric  4213 non-null   object        \n",
      " 4   height            4213 non-null   object        \n",
      " 5   height cm         4213 non-null   int64         \n",
      " 6   weight            4213 non-null   float64       \n",
      " 7   weight Kg         4213 non-null   float64       \n",
      " 8   birth_date        4213 non-null   datetime64[ns]\n",
      " 9   college           4213 non-null   object        \n",
      " 10  birth_year        4213 non-null   int64         \n",
      " 11  birth_month       4213 non-null   object        \n",
      "dtypes: datetime64[ns](1), float64(2), int64(4), object(5)\n",
      "memory usage: 427.9+ KB\n"
     ]
    }
   ],
   "metadata": {}
  },
  {
   "cell_type": "code",
   "execution_count": 6,
   "source": [
    "# Dividing the dataset in train/test\n",
    "X1 = nba_1.drop('height cm', 1)\n",
    "y1 = nba_1['height cm']"
   ],
   "outputs": [],
   "metadata": {}
  },
  {
   "cell_type": "code",
   "execution_count": 7,
   "source": [
    "# Dropping the attributes that doesn't add value or have duplicated info as attributes in Imperial Units,\n",
    "# North american player possition and the birthdate in format datetype. For this example the attribute college will also be removed as it would increase our dataframe widely when converting to One Hot attributes.\n",
    "\n",
    "X1= X1.drop(columns=['college', 'birth_date', 'weight', 'height', 'position'])"
   ],
   "outputs": [],
   "metadata": {}
  },
  {
   "cell_type": "code",
   "execution_count": 8,
   "source": [
    "# Transforming the attributes depending on its type: \n",
    "\n",
    "feat_numeric = X1.select_dtypes(exclude='object')\n",
    "feat_cat = X1.select_dtypes(include='object')\n",
    "\n",
    "transformer_num = prp.StandardScaler(with_mean= True, with_std=True) #Standard Scaler for numerical attributes\n",
    "transformer_cat = prp.OneHotEncoder(sparse=False) #Dummy Matrix for categorical attribute"
   ],
   "outputs": [],
   "metadata": {}
  },
  {
   "cell_type": "code",
   "execution_count": 9,
   "source": [
    "# Converting the arrays into a single Dataframe\n",
    "X_num = transformer_num.fit_transform(feat_numeric)\n",
    "X_num = pd.DataFrame(X_num, columns=feat_numeric.columns, index=feat_numeric.index)\n",
    "\n",
    "X_cat = transformer_cat.fit_transform(feat_cat)\n",
    "X_cat = pd.DataFrame(X_cat, index=feat_cat.index)\n",
    "\n",
    "X = pd.concat([X_num, X_cat], axis=1)\n",
    "X"
   ],
   "outputs": [
    {
     "output_type": "execute_result",
     "data": {
      "text/html": [
       "<div>\n",
       "<style scoped>\n",
       "    .dataframe tbody tr th:only-of-type {\n",
       "        vertical-align: middle;\n",
       "    }\n",
       "\n",
       "    .dataframe tbody tr th {\n",
       "        vertical-align: top;\n",
       "    }\n",
       "\n",
       "    .dataframe thead th {\n",
       "        text-align: right;\n",
       "    }\n",
       "</style>\n",
       "<table border=\"1\" class=\"dataframe\">\n",
       "  <thead>\n",
       "    <tr style=\"text-align: right;\">\n",
       "      <th></th>\n",
       "      <th>year_start</th>\n",
       "      <th>year_end</th>\n",
       "      <th>weight Kg</th>\n",
       "      <th>birth_year</th>\n",
       "      <th>0</th>\n",
       "      <th>1</th>\n",
       "      <th>2</th>\n",
       "      <th>3</th>\n",
       "      <th>4</th>\n",
       "      <th>5</th>\n",
       "      <th>6</th>\n",
       "      <th>7</th>\n",
       "      <th>8</th>\n",
       "      <th>9</th>\n",
       "      <th>10</th>\n",
       "      <th>11</th>\n",
       "      <th>12</th>\n",
       "      <th>13</th>\n",
       "      <th>14</th>\n",
       "      <th>15</th>\n",
       "      <th>16</th>\n",
       "    </tr>\n",
       "    <tr>\n",
       "      <th>name</th>\n",
       "      <th></th>\n",
       "      <th></th>\n",
       "      <th></th>\n",
       "      <th></th>\n",
       "      <th></th>\n",
       "      <th></th>\n",
       "      <th></th>\n",
       "      <th></th>\n",
       "      <th></th>\n",
       "      <th></th>\n",
       "      <th></th>\n",
       "      <th></th>\n",
       "      <th></th>\n",
       "      <th></th>\n",
       "      <th></th>\n",
       "      <th></th>\n",
       "      <th></th>\n",
       "      <th></th>\n",
       "      <th></th>\n",
       "      <th></th>\n",
       "      <th></th>\n",
       "    </tr>\n",
       "  </thead>\n",
       "  <tbody>\n",
       "    <tr>\n",
       "      <th>Alaa Abdelnaby</th>\n",
       "      <td>0.34</td>\n",
       "      <td>0.31</td>\n",
       "      <td>1.27</td>\n",
       "      <td>0.37</td>\n",
       "      <td>0.00</td>\n",
       "      <td>0.00</td>\n",
       "      <td>0.00</td>\n",
       "      <td>1.00</td>\n",
       "      <td>0.00</td>\n",
       "      <td>0.00</td>\n",
       "      <td>0.00</td>\n",
       "      <td>0.00</td>\n",
       "      <td>0.00</td>\n",
       "      <td>0.00</td>\n",
       "      <td>1.00</td>\n",
       "      <td>0.00</td>\n",
       "      <td>0.00</td>\n",
       "      <td>0.00</td>\n",
       "      <td>0.00</td>\n",
       "      <td>0.00</td>\n",
       "      <td>0.00</td>\n",
       "    </tr>\n",
       "    <tr>\n",
       "      <th>Zaid Abdul-Aziz</th>\n",
       "      <td>-0.73</td>\n",
       "      <td>-0.48</td>\n",
       "      <td>1.07</td>\n",
       "      <td>-0.66</td>\n",
       "      <td>0.00</td>\n",
       "      <td>0.00</td>\n",
       "      <td>0.00</td>\n",
       "      <td>1.00</td>\n",
       "      <td>0.00</td>\n",
       "      <td>0.00</td>\n",
       "      <td>0.00</td>\n",
       "      <td>0.00</td>\n",
       "      <td>1.00</td>\n",
       "      <td>0.00</td>\n",
       "      <td>0.00</td>\n",
       "      <td>0.00</td>\n",
       "      <td>0.00</td>\n",
       "      <td>0.00</td>\n",
       "      <td>0.00</td>\n",
       "      <td>0.00</td>\n",
       "      <td>0.00</td>\n",
       "    </tr>\n",
       "    <tr>\n",
       "      <th>Kareem Abdul-Jabbar</th>\n",
       "      <td>-0.68</td>\n",
       "      <td>0.03</td>\n",
       "      <td>0.68</td>\n",
       "      <td>-0.61</td>\n",
       "      <td>0.00</td>\n",
       "      <td>0.00</td>\n",
       "      <td>0.00</td>\n",
       "      <td>0.00</td>\n",
       "      <td>1.00</td>\n",
       "      <td>0.00</td>\n",
       "      <td>0.00</td>\n",
       "      <td>0.00</td>\n",
       "      <td>1.00</td>\n",
       "      <td>0.00</td>\n",
       "      <td>0.00</td>\n",
       "      <td>0.00</td>\n",
       "      <td>0.00</td>\n",
       "      <td>0.00</td>\n",
       "      <td>0.00</td>\n",
       "      <td>0.00</td>\n",
       "      <td>0.00</td>\n",
       "    </tr>\n",
       "    <tr>\n",
       "      <th>Mahmoud Abdul-Rauf</th>\n",
       "      <td>0.34</td>\n",
       "      <td>0.59</td>\n",
       "      <td>-1.80</td>\n",
       "      <td>0.42</td>\n",
       "      <td>1.00</td>\n",
       "      <td>0.00</td>\n",
       "      <td>0.00</td>\n",
       "      <td>0.00</td>\n",
       "      <td>0.00</td>\n",
       "      <td>0.00</td>\n",
       "      <td>0.00</td>\n",
       "      <td>1.00</td>\n",
       "      <td>0.00</td>\n",
       "      <td>0.00</td>\n",
       "      <td>0.00</td>\n",
       "      <td>0.00</td>\n",
       "      <td>0.00</td>\n",
       "      <td>0.00</td>\n",
       "      <td>0.00</td>\n",
       "      <td>0.00</td>\n",
       "      <td>0.00</td>\n",
       "    </tr>\n",
       "    <tr>\n",
       "      <th>Tariq Abdul-Wahad</th>\n",
       "      <td>0.67</td>\n",
       "      <td>0.68</td>\n",
       "      <td>0.60</td>\n",
       "      <td>0.65</td>\n",
       "      <td>0.00</td>\n",
       "      <td>0.00</td>\n",
       "      <td>1.00</td>\n",
       "      <td>0.00</td>\n",
       "      <td>0.00</td>\n",
       "      <td>0.00</td>\n",
       "      <td>0.00</td>\n",
       "      <td>0.00</td>\n",
       "      <td>0.00</td>\n",
       "      <td>0.00</td>\n",
       "      <td>0.00</td>\n",
       "      <td>0.00</td>\n",
       "      <td>0.00</td>\n",
       "      <td>0.00</td>\n",
       "      <td>0.00</td>\n",
       "      <td>1.00</td>\n",
       "      <td>0.00</td>\n",
       "    </tr>\n",
       "    <tr>\n",
       "      <th>...</th>\n",
       "      <td>...</td>\n",
       "      <td>...</td>\n",
       "      <td>...</td>\n",
       "      <td>...</td>\n",
       "      <td>...</td>\n",
       "      <td>...</td>\n",
       "      <td>...</td>\n",
       "      <td>...</td>\n",
       "      <td>...</td>\n",
       "      <td>...</td>\n",
       "      <td>...</td>\n",
       "      <td>...</td>\n",
       "      <td>...</td>\n",
       "      <td>...</td>\n",
       "      <td>...</td>\n",
       "      <td>...</td>\n",
       "      <td>...</td>\n",
       "      <td>...</td>\n",
       "      <td>...</td>\n",
       "      <td>...</td>\n",
       "      <td>...</td>\n",
       "    </tr>\n",
       "    <tr>\n",
       "      <th>Derrick Zimmerman</th>\n",
       "      <td>1.06</td>\n",
       "      <td>0.82</td>\n",
       "      <td>-0.50</td>\n",
       "      <td>0.98</td>\n",
       "      <td>1.00</td>\n",
       "      <td>0.00</td>\n",
       "      <td>0.00</td>\n",
       "      <td>0.00</td>\n",
       "      <td>0.00</td>\n",
       "      <td>0.00</td>\n",
       "      <td>0.00</td>\n",
       "      <td>0.00</td>\n",
       "      <td>0.00</td>\n",
       "      <td>0.00</td>\n",
       "      <td>0.00</td>\n",
       "      <td>0.00</td>\n",
       "      <td>0.00</td>\n",
       "      <td>0.00</td>\n",
       "      <td>0.00</td>\n",
       "      <td>0.00</td>\n",
       "      <td>1.00</td>\n",
       "    </tr>\n",
       "    <tr>\n",
       "      <th>Stephen Zimmerman</th>\n",
       "      <td>1.59</td>\n",
       "      <td>1.33</td>\n",
       "      <td>1.27</td>\n",
       "      <td>1.68</td>\n",
       "      <td>0.00</td>\n",
       "      <td>0.00</td>\n",
       "      <td>0.00</td>\n",
       "      <td>0.00</td>\n",
       "      <td>1.00</td>\n",
       "      <td>0.00</td>\n",
       "      <td>0.00</td>\n",
       "      <td>0.00</td>\n",
       "      <td>0.00</td>\n",
       "      <td>0.00</td>\n",
       "      <td>0.00</td>\n",
       "      <td>0.00</td>\n",
       "      <td>0.00</td>\n",
       "      <td>1.00</td>\n",
       "      <td>0.00</td>\n",
       "      <td>0.00</td>\n",
       "      <td>0.00</td>\n",
       "    </tr>\n",
       "    <tr>\n",
       "      <th>Jim Zoet</th>\n",
       "      <td>-0.05</td>\n",
       "      <td>-0.24</td>\n",
       "      <td>1.27</td>\n",
       "      <td>-0.33</td>\n",
       "      <td>0.00</td>\n",
       "      <td>0.00</td>\n",
       "      <td>0.00</td>\n",
       "      <td>0.00</td>\n",
       "      <td>1.00</td>\n",
       "      <td>0.00</td>\n",
       "      <td>0.00</td>\n",
       "      <td>0.00</td>\n",
       "      <td>0.00</td>\n",
       "      <td>0.00</td>\n",
       "      <td>0.00</td>\n",
       "      <td>0.00</td>\n",
       "      <td>0.00</td>\n",
       "      <td>0.00</td>\n",
       "      <td>0.00</td>\n",
       "      <td>0.00</td>\n",
       "      <td>1.00</td>\n",
       "    </tr>\n",
       "    <tr>\n",
       "      <th>Bill Zopf</th>\n",
       "      <td>-0.63</td>\n",
       "      <td>-0.80</td>\n",
       "      <td>-1.48</td>\n",
       "      <td>-0.57</td>\n",
       "      <td>1.00</td>\n",
       "      <td>0.00</td>\n",
       "      <td>0.00</td>\n",
       "      <td>0.00</td>\n",
       "      <td>0.00</td>\n",
       "      <td>0.00</td>\n",
       "      <td>0.00</td>\n",
       "      <td>0.00</td>\n",
       "      <td>0.00</td>\n",
       "      <td>0.00</td>\n",
       "      <td>1.00</td>\n",
       "      <td>0.00</td>\n",
       "      <td>0.00</td>\n",
       "      <td>0.00</td>\n",
       "      <td>0.00</td>\n",
       "      <td>0.00</td>\n",
       "      <td>0.00</td>\n",
       "    </tr>\n",
       "    <tr>\n",
       "      <th>Matt Zunic</th>\n",
       "      <td>-1.69</td>\n",
       "      <td>-1.82</td>\n",
       "      <td>-0.50</td>\n",
       "      <td>-1.92</td>\n",
       "      <td>0.00</td>\n",
       "      <td>1.00</td>\n",
       "      <td>0.00</td>\n",
       "      <td>0.00</td>\n",
       "      <td>0.00</td>\n",
       "      <td>0.00</td>\n",
       "      <td>0.00</td>\n",
       "      <td>0.00</td>\n",
       "      <td>0.00</td>\n",
       "      <td>0.00</td>\n",
       "      <td>0.00</td>\n",
       "      <td>0.00</td>\n",
       "      <td>0.00</td>\n",
       "      <td>0.00</td>\n",
       "      <td>0.00</td>\n",
       "      <td>0.00</td>\n",
       "      <td>1.00</td>\n",
       "    </tr>\n",
       "  </tbody>\n",
       "</table>\n",
       "<p>4213 rows × 21 columns</p>\n",
       "</div>"
      ],
      "text/plain": [
       "                     year_start  year_end  weight Kg  birth_year    0    1  \\\n",
       "name                                                                         \n",
       "Alaa Abdelnaby             0.34      0.31       1.27        0.37 0.00 0.00   \n",
       "Zaid Abdul-Aziz           -0.73     -0.48       1.07       -0.66 0.00 0.00   \n",
       "Kareem Abdul-Jabbar       -0.68      0.03       0.68       -0.61 0.00 0.00   \n",
       "Mahmoud Abdul-Rauf         0.34      0.59      -1.80        0.42 1.00 0.00   \n",
       "Tariq Abdul-Wahad          0.67      0.68       0.60        0.65 0.00 0.00   \n",
       "...                         ...       ...        ...         ...  ...  ...   \n",
       "Derrick Zimmerman          1.06      0.82      -0.50        0.98 1.00 0.00   \n",
       "Stephen Zimmerman          1.59      1.33       1.27        1.68 0.00 0.00   \n",
       "Jim Zoet                  -0.05     -0.24       1.27       -0.33 0.00 0.00   \n",
       "Bill Zopf                 -0.63     -0.80      -1.48       -0.57 1.00 0.00   \n",
       "Matt Zunic                -1.69     -1.82      -0.50       -1.92 0.00 1.00   \n",
       "\n",
       "                       2    3    4    5    6    7    8    9   10   11   12  \\\n",
       "name                                                                         \n",
       "Alaa Abdelnaby      0.00 1.00 0.00 0.00 0.00 0.00 0.00 0.00 1.00 0.00 0.00   \n",
       "Zaid Abdul-Aziz     0.00 1.00 0.00 0.00 0.00 0.00 1.00 0.00 0.00 0.00 0.00   \n",
       "Kareem Abdul-Jabbar 0.00 0.00 1.00 0.00 0.00 0.00 1.00 0.00 0.00 0.00 0.00   \n",
       "Mahmoud Abdul-Rauf  0.00 0.00 0.00 0.00 0.00 1.00 0.00 0.00 0.00 0.00 0.00   \n",
       "Tariq Abdul-Wahad   1.00 0.00 0.00 0.00 0.00 0.00 0.00 0.00 0.00 0.00 0.00   \n",
       "...                  ...  ...  ...  ...  ...  ...  ...  ...  ...  ...  ...   \n",
       "Derrick Zimmerman   0.00 0.00 0.00 0.00 0.00 0.00 0.00 0.00 0.00 0.00 0.00   \n",
       "Stephen Zimmerman   0.00 0.00 1.00 0.00 0.00 0.00 0.00 0.00 0.00 0.00 0.00   \n",
       "Jim Zoet            0.00 0.00 1.00 0.00 0.00 0.00 0.00 0.00 0.00 0.00 0.00   \n",
       "Bill Zopf           0.00 0.00 0.00 0.00 0.00 0.00 0.00 0.00 1.00 0.00 0.00   \n",
       "Matt Zunic          0.00 0.00 0.00 0.00 0.00 0.00 0.00 0.00 0.00 0.00 0.00   \n",
       "\n",
       "                      13   14   15   16  \n",
       "name                                     \n",
       "Alaa Abdelnaby      0.00 0.00 0.00 0.00  \n",
       "Zaid Abdul-Aziz     0.00 0.00 0.00 0.00  \n",
       "Kareem Abdul-Jabbar 0.00 0.00 0.00 0.00  \n",
       "Mahmoud Abdul-Rauf  0.00 0.00 0.00 0.00  \n",
       "Tariq Abdul-Wahad   0.00 0.00 1.00 0.00  \n",
       "...                  ...  ...  ...  ...  \n",
       "Derrick Zimmerman   0.00 0.00 0.00 1.00  \n",
       "Stephen Zimmerman   1.00 0.00 0.00 0.00  \n",
       "Jim Zoet            0.00 0.00 0.00 1.00  \n",
       "Bill Zopf           0.00 0.00 0.00 0.00  \n",
       "Matt Zunic          0.00 0.00 0.00 1.00  \n",
       "\n",
       "[4213 rows x 21 columns]"
      ]
     },
     "metadata": {},
     "execution_count": 9
    }
   ],
   "metadata": {}
  },
  {
   "cell_type": "code",
   "execution_count": 10,
   "source": [
    "# randomly split the data intro train/test\n",
    "X1_train, X1_test, y1_train, y1_test = ms.train_test_split(X1, y1,test_size=0.25,random_state=42)"
   ],
   "outputs": [],
   "metadata": {}
  },
  {
   "cell_type": "code",
   "execution_count": 11,
   "source": [
    "# Generating and fitting the model \n",
    "random_forest = ensemble.RandomForestRegressor(max_depth=50, random_state=42)\n",
    "random_forest.fit(X1_train, y1_train)\n",
    "\n",
    "# Obtaining RMSE scores for the train and test Data. \n",
    "\n",
    "train_score = random_forest.score(X1_train, y1_train)\n",
    "test_score = random_forest.score(X1_test, y1_test)\n",
    "train_predict  = random_forest.predict(X1_train)\n",
    "test_predict = random_forest.predict(X1_test)\n",
    "\n",
    "train_RMSE = metrics.mean_squared_error(y1_train, train_predict)\n",
    "test_RMSE = metrics.mean_squared_error(y1_test, test_predict)\n",
    "\n",
    "scorers={'Manual Processing': [train_score, train_RMSE, test_score, test_RMSE]}\n",
    "\n",
    "print(train_RMSE, test_RMSE)"
   ],
   "outputs": [
    {
     "output_type": "stream",
     "name": "stdout",
     "text": [
      "2.1182453619584907 12.706872368811506\n"
     ]
    }
   ],
   "metadata": {}
  },
  {
   "cell_type": "markdown",
   "source": [
    "### **Setting the pipeline**"
   ],
   "metadata": {}
  },
  {
   "cell_type": "code",
   "execution_count": 12,
   "source": [
    "from sklearn.base import BaseEstimator, TransformerMixin\n",
    "\n",
    "# Transforming Attributes 'birth_date' to 'datetime' and adding 'birht_year' and 'birht_month'.\n",
    "# Transforming 'possition_numeri' to 'object' as they are categories.\n",
    "\n",
    "class Transformer():\n",
    "\n",
    "    def __init__(self):\n",
    "        pass\n",
    "\n",
    "    def fit(self, X, y=None):\n",
    "        return self\n",
    "    \n",
    "    def transform(self, dataframe):\n",
    "        copy = dataframe.copy()\n",
    "        copy['birth_date'] = pd.to_datetime(copy['birth_date'])\n",
    "        copy['birth_year'] = copy['birth_date'].dt.year\n",
    "        copy['birth_month'] = copy['birth_date'].dt.month\n",
    "        copy['position_numeric'] = copy['position_numeric'].astype(object)\n",
    "        copy.drop('birth_date', 1, inplace=False)\n",
    "        return copy\n",
    "    "
   ],
   "outputs": [],
   "metadata": {}
  },
  {
   "cell_type": "code",
   "execution_count": 13,
   "source": [
    "# Dividing dependent and independent Attributes\n",
    "X = nba_players.drop('height cm', 1)\n",
    "y = nba_players['height cm']\n",
    "\n",
    "# randomly split the datainto train/test\n",
    "X_train, X_test, y_train, y_test = ms.train_test_split(X, y,test_size=0.25,random_state=42)\n",
    "\n",
    "# generating the model object\n",
    "random_forest = ensemble.RandomForestRegressor(random_state=42, n_jobs=3)\n",
    "\n",
    "# Creating the transformers to apply to de data t make that same processing that decribed above.\n",
    "preprocessor = compose.ColumnTransformer(transformers=[\n",
    "    #('drop', 'drop', ['college', 'birth_date', 'weight', 'height', 'position']),\n",
    "    ('scaling', prp.StandardScaler(with_mean= True, with_std=True), ['year_start','year_end','weight Kg','birth_year', 'birth_month']),\n",
    "    ('onehot', prp.OneHotEncoder(sparse=False), ['position_numeric'])]\n",
    "    , n_jobs=3)\n",
    "\n",
    "# setting the steps in the pipeline:\n",
    "# (Transform dtypes --> Transform Attrbutes (StandardScaler + OneHot) --> model processing)\n",
    "nba_pipeline = pipeline.Pipeline(steps=[\n",
    "    ('data_trans', Transformer()),\n",
    "    ('pre_processing', preprocessor),\n",
    "    ('random_forest', random_forest)])"
   ],
   "outputs": [],
   "metadata": {}
  },
  {
   "cell_type": "code",
   "execution_count": 14,
   "source": [
    "# Fitting the model with the train values\n",
    "nba_pipeline.fit(X_train, y_train)"
   ],
   "outputs": [
    {
     "output_type": "execute_result",
     "data": {
      "text/plain": [
       "Pipeline(steps=[('data_trans', <__main__.Transformer object at 0x7f85ce0f2880>),\n",
       "                ('pre_processing',\n",
       "                 ColumnTransformer(n_jobs=3,\n",
       "                                   transformers=[('scaling', StandardScaler(),\n",
       "                                                  ['year_start', 'year_end',\n",
       "                                                   'weight Kg', 'birth_year',\n",
       "                                                   'birth_month']),\n",
       "                                                 ('onehot',\n",
       "                                                  OneHotEncoder(sparse=False),\n",
       "                                                  ['position_numeric'])])),\n",
       "                ('random_forest',\n",
       "                 RandomForestRegressor(n_jobs=3, random_state=42))])"
      ]
     },
     "metadata": {},
     "execution_count": 14
    }
   ],
   "metadata": {}
  },
  {
   "cell_type": "code",
   "execution_count": 15,
   "source": [
    "# Predictions and scorers of the model\n",
    "y_train_predict  = nba_pipeline.predict(X_train)\n",
    "y_test_predict = nba_pipeline.predict(X_test)\n",
    "\n",
    "train_score = nba_pipeline.score(X_train, y_train)\n",
    "test_score = nba_pipeline.score(X_test, y_test)\n",
    "train_RMSE = metrics.mean_squared_error(y_train, y_train_predict)\n",
    "test_RMSE = metrics.mean_squared_error(y_test, y_test_predict)\n",
    "\n",
    "scorers['Pipeline'] = [train_score, train_RMSE, test_score, test_RMSE]\n",
    "\n",
    "print( f'Score:\\nTrain = {train_score}, Test = {test_score}')\n",
    "print( f'RMSE:\\nTrain = {train_RMSE}, Test = {test_RMSE}')"
   ],
   "outputs": [
    {
     "output_type": "stream",
     "name": "stdout",
     "text": [
      "Score:\n",
      "Train = 0.9744841504278827, Test = 0.8358714979403449\n",
      "RMSE:\n",
      "Train = 2.117525300644274, Test = 12.829271438553377\n"
     ]
    }
   ],
   "metadata": {}
  },
  {
   "cell_type": "markdown",
   "source": [
    "**The results of the manual processing and the pipeline are the same, indicating that the process described in the pipelie is analog to the manual.**"
   ],
   "metadata": {}
  },
  {
   "cell_type": "markdown",
   "source": [
    "### **Hyperparameter Tuning with 'Grid Search'**"
   ],
   "metadata": {}
  },
  {
   "cell_type": "code",
   "execution_count": 16,
   "source": [
    "n_estimators = [10, 100]\n",
    "criterion =['mse', 'mae']\n",
    "max_depth = [10,100,None]\n",
    "min_samples_split = [2,5]\n",
    "max_features = ['auto']\n",
    "ccp_alpha = [0.0, 0.01, 0.1]\n",
    "parameters = {\n",
    "    'random_forest__n_estimators': n_estimators,\n",
    "    'random_forest__criterion':criterion, \n",
    "    'random_forest__max_depth':max_depth, \n",
    "    'random_forest__min_samples_split':min_samples_split, \n",
    "    'random_forest__max_features': max_features,\n",
    "    }\n",
    "grid = ms.GridSearchCV(estimator= nba_pipeline, param_grid=parameters, cv=5)\n",
    "\n",
    "grid.fit(X_train, y_train)"
   ],
   "outputs": [
    {
     "output_type": "execute_result",
     "data": {
      "text/plain": [
       "GridSearchCV(cv=5,\n",
       "             estimator=Pipeline(steps=[('data_trans',\n",
       "                                        <__main__.Transformer object at 0x7f85ce0f2880>),\n",
       "                                       ('pre_processing',\n",
       "                                        ColumnTransformer(n_jobs=3,\n",
       "                                                          transformers=[('scaling',\n",
       "                                                                         StandardScaler(),\n",
       "                                                                         ['year_start',\n",
       "                                                                          'year_end',\n",
       "                                                                          'weight '\n",
       "                                                                          'Kg',\n",
       "                                                                          'birth_year',\n",
       "                                                                          'birth_month']),\n",
       "                                                                        ('onehot',\n",
       "                                                                         OneHotEncoder(sparse=False),\n",
       "                                                                         ['position_numeric'])])),\n",
       "                                       ('random_forest',\n",
       "                                        RandomForestRegressor(n_jobs=3,\n",
       "                                                              random_state=42))]),\n",
       "             param_grid={'random_forest__criterion': ['mse', 'mae'],\n",
       "                         'random_forest__max_depth': [10, 100, None],\n",
       "                         'random_forest__max_features': ['auto'],\n",
       "                         'random_forest__min_samples_split': [2, 5],\n",
       "                         'random_forest__n_estimators': [10, 100]})"
      ]
     },
     "metadata": {},
     "execution_count": 16
    }
   ],
   "metadata": {}
  },
  {
   "cell_type": "code",
   "execution_count": 17,
   "source": [
    "y_train_predict = grid.predict(X_train)\n",
    "y_test_predict = grid.predict(X_test)\n",
    "\n",
    "\n",
    "train_score = grid.score(X_train, y_train)\n",
    "test_score = grid.score(X_test, y_test)\n",
    "train_RMSE = metrics.mean_squared_error(y_train, y_train_predict)\n",
    "test_RMSE = metrics.mean_squared_error(y_test, y_test_predict)\n",
    "\n",
    "scorers['GridSearch'] = [train_score, train_RMSE, test_score, test_RMSE]\n",
    "\n",
    "print ('Best Score:', grid.score(X_test,y_test))\n",
    "print ('Best Parameters: ', grid.best_params_)\n",
    "print ('Train Score: ', train_score)\n",
    "print ('Test Score: ', test_score)\n",
    "print ('Train RMSE: ', train_RMSE)\n",
    "print ('Test RMSE: ', test_RMSE)"
   ],
   "outputs": [
    {
     "output_type": "stream",
     "name": "stdout",
     "text": [
      "Best Score: 0.8489459908156629\n",
      "Best Parameters:  {'random_forest__criterion': 'mae', 'random_forest__max_depth': 10, 'random_forest__max_features': 'auto', 'random_forest__min_samples_split': 5, 'random_forest__n_estimators': 100}\n",
      "Train Score:  0.8935488380125215\n",
      "Test Score:  0.8489459908156629\n",
      "Train RMSE:  8.834235683760681\n",
      "Test RMSE:  11.807290393738139\n"
     ]
    }
   ],
   "metadata": {}
  },
  {
   "cell_type": "code",
   "execution_count": 18,
   "source": [
    "scorers_df = pd.DataFrame(scorers, index=['train_score', 'Train_RMSE', 'test_score', 'test_RMSE'])\n",
    "scorers_df"
   ],
   "outputs": [
    {
     "output_type": "execute_result",
     "data": {
      "text/html": [
       "<div>\n",
       "<style scoped>\n",
       "    .dataframe tbody tr th:only-of-type {\n",
       "        vertical-align: middle;\n",
       "    }\n",
       "\n",
       "    .dataframe tbody tr th {\n",
       "        vertical-align: top;\n",
       "    }\n",
       "\n",
       "    .dataframe thead th {\n",
       "        text-align: right;\n",
       "    }\n",
       "</style>\n",
       "<table border=\"1\" class=\"dataframe\">\n",
       "  <thead>\n",
       "    <tr style=\"text-align: right;\">\n",
       "      <th></th>\n",
       "      <th>Manual Processing</th>\n",
       "      <th>Pipeline</th>\n",
       "      <th>GridSearch</th>\n",
       "    </tr>\n",
       "  </thead>\n",
       "  <tbody>\n",
       "    <tr>\n",
       "      <th>train_score</th>\n",
       "      <td>0.97</td>\n",
       "      <td>0.97</td>\n",
       "      <td>0.89</td>\n",
       "    </tr>\n",
       "    <tr>\n",
       "      <th>Train_RMSE</th>\n",
       "      <td>2.12</td>\n",
       "      <td>2.12</td>\n",
       "      <td>8.83</td>\n",
       "    </tr>\n",
       "    <tr>\n",
       "      <th>test_score</th>\n",
       "      <td>0.84</td>\n",
       "      <td>0.84</td>\n",
       "      <td>0.85</td>\n",
       "    </tr>\n",
       "    <tr>\n",
       "      <th>test_RMSE</th>\n",
       "      <td>12.71</td>\n",
       "      <td>12.83</td>\n",
       "      <td>11.81</td>\n",
       "    </tr>\n",
       "  </tbody>\n",
       "</table>\n",
       "</div>"
      ],
      "text/plain": [
       "             Manual Processing  Pipeline  GridSearch\n",
       "train_score               0.97      0.97        0.89\n",
       "Train_RMSE                2.12      2.12        8.83\n",
       "test_score                0.84      0.84        0.85\n",
       "test_RMSE                12.71     12.83       11.81"
      ]
     },
     "metadata": {},
     "execution_count": 18
    }
   ],
   "metadata": {}
  },
  {
   "cell_type": "markdown",
   "source": [
    "**Using the best paramenters, found by the GridSearch, the metrics using train data are worst but better with the test data, compared with raw processing**"
   ],
   "metadata": {}
  },
  {
   "cell_type": "markdown",
   "source": [
    "\n",
    "- Exercici 2\n",
    "\n",
    "Agafa un text en anglès que vulguis, i calcula'n la freqüència de les paraules"
   ],
   "metadata": {}
  },
  {
   "cell_type": "markdown",
   "source": [
    "### **Selecting the paragraph**"
   ],
   "metadata": {}
  },
  {
   "cell_type": "code",
   "execution_count": 19,
   "source": [
    "# Praragraf from George Orwell's 1984 about Doublethinking\n",
    "# ============================================================================\n",
    "\n",
    "text = \"\"\"To know and not to know, to be conscious of complete truthfulness while telling carefully constructed lies, to hold simultaneously two opinions which cancelled out,\n",
    "knowing them to be contradictory and believing in both of them, to use logic against logic, to repudiate morality while laying claim to it,\n",
    "to believe that democracy was impossible and that the Party was the guardian of democracy, to forget whatever it was necessary to forget, \n",
    "then to draw it back into memory again at the moment when it was needed, and then promptly to forget it again: and above all,\n",
    "to apply the same process to the process itself. That was the ultimate subtlety: consciously to induce unconsciousness, and then,\n",
    "once again, to become unconscious of the act of hypnosis you had just performed. Even to understand the word ‘doublethink’ involved the use of doublethink.\"\"\"\n",
    "\n",
    "# transforming to lowercase\n",
    "text = text.lower()\n",
    "text"
   ],
   "outputs": [
    {
     "output_type": "execute_result",
     "data": {
      "text/plain": [
       "'to know and not to know, to be conscious of complete truthfulness while telling carefully constructed lies, to hold simultaneously two opinions which cancelled out,\\nknowing them to be contradictory and believing in both of them, to use logic against logic, to repudiate morality while laying claim to it,\\nto believe that democracy was impossible and that the party was the guardian of democracy, to forget whatever it was necessary to forget, \\nthen to draw it back into memory again at the moment when it was needed, and then promptly to forget it again: and above all,\\nto apply the same process to the process itself. that was the ultimate subtlety: consciously to induce unconsciousness, and then,\\nonce again, to become unconscious of the act of hypnosis you had just performed. even to understand the word ‘doublethink’ involved the use of doublethink.'"
      ]
     },
     "metadata": {},
     "execution_count": 19
    }
   ],
   "metadata": {}
  },
  {
   "cell_type": "markdown",
   "source": [
    "### **Tokenization**"
   ],
   "metadata": {}
  },
  {
   "cell_type": "code",
   "execution_count": 20,
   "source": [
    "# Sentence Tokenization\n",
    "\n",
    "token_sent = tokenize.sent_tokenize(text)\n",
    "for i in token_sent:\n",
    "    print(i)"
   ],
   "outputs": [
    {
     "output_type": "stream",
     "name": "stdout",
     "text": [
      "to know and not to know, to be conscious of complete truthfulness while telling carefully constructed lies, to hold simultaneously two opinions which cancelled out,\n",
      "knowing them to be contradictory and believing in both of them, to use logic against logic, to repudiate morality while laying claim to it,\n",
      "to believe that democracy was impossible and that the party was the guardian of democracy, to forget whatever it was necessary to forget, \n",
      "then to draw it back into memory again at the moment when it was needed, and then promptly to forget it again: and above all,\n",
      "to apply the same process to the process itself.\n",
      "that was the ultimate subtlety: consciously to induce unconsciousness, and then,\n",
      "once again, to become unconscious of the act of hypnosis you had just performed.\n",
      "even to understand the word ‘doublethink’ involved the use of doublethink.\n"
     ]
    }
   ],
   "metadata": {}
  },
  {
   "cell_type": "code",
   "execution_count": 21,
   "source": [
    "# Word Tokenization\n",
    "\n",
    "token_word = tokenize.word_tokenize(text)\n",
    "word_dict = Counter(token_word)\n",
    "print(word_dict)\n",
    "print(len(word_dict))"
   ],
   "outputs": [
    {
     "output_type": "stream",
     "name": "stdout",
     "text": [
      "Counter({'to': 18, ',': 13, 'the': 9, 'and': 6, 'of': 6, 'it': 5, 'was': 5, 'that': 3, 'forget': 3, 'then': 3, 'again': 3, '.': 3, 'know': 2, 'be': 2, 'while': 2, 'them': 2, 'use': 2, 'logic': 2, 'democracy': 2, ':': 2, 'process': 2, 'doublethink': 2, 'not': 1, 'conscious': 1, 'complete': 1, 'truthfulness': 1, 'telling': 1, 'carefully': 1, 'constructed': 1, 'lies': 1, 'hold': 1, 'simultaneously': 1, 'two': 1, 'opinions': 1, 'which': 1, 'cancelled': 1, 'out': 1, 'knowing': 1, 'contradictory': 1, 'believing': 1, 'in': 1, 'both': 1, 'against': 1, 'repudiate': 1, 'morality': 1, 'laying': 1, 'claim': 1, 'believe': 1, 'impossible': 1, 'party': 1, 'guardian': 1, 'whatever': 1, 'necessary': 1, 'draw': 1, 'back': 1, 'into': 1, 'memory': 1, 'at': 1, 'moment': 1, 'when': 1, 'needed': 1, 'promptly': 1, 'above': 1, 'all': 1, 'apply': 1, 'same': 1, 'itself': 1, 'ultimate': 1, 'subtlety': 1, 'consciously': 1, 'induce': 1, 'unconsciousness': 1, 'once': 1, 'become': 1, 'unconscious': 1, 'act': 1, 'hypnosis': 1, 'you': 1, 'had': 1, 'just': 1, 'performed': 1, 'even': 1, 'understand': 1, 'word': 1, '‘': 1, '’': 1, 'involved': 1})\n",
      "87\n"
     ]
    }
   ],
   "metadata": {}
  },
  {
   "cell_type": "code",
   "execution_count": 22,
   "source": [
    "freq_dist = FreqDist(token_word)\n",
    "print(freq_dist)\n",
    "print(freq_dist.most_common(10))"
   ],
   "outputs": [
    {
     "output_type": "stream",
     "name": "stdout",
     "text": [
      "<FreqDist with 87 samples and 162 outcomes>\n",
      "[('to', 18), (',', 13), ('the', 9), ('and', 6), ('of', 6), ('it', 5), ('was', 5), ('that', 3), ('forget', 3), ('then', 3)]\n"
     ]
    }
   ],
   "metadata": {}
  },
  {
   "cell_type": "code",
   "execution_count": 23,
   "source": [
    "fig = plt.subplots(figsize=(25,10))\n",
    "freq_dist.plot(100,cumulative=False)\n",
    "plt.show()"
   ],
   "outputs": [
    {
     "output_type": "display_data",
     "data": {
      "image/png": "[encoded data removed]",
      "text/plain": [
       "<Figure size 1800x720 with 1 Axes>"
      ]
     },
     "metadata": {}
    }
   ],
   "metadata": {}
  },
  {
   "cell_type": "code",
   "execution_count": 24,
   "source": [
    "# Word tokenization with RegEx to remove punctuation\n",
    "\n",
    "token_regex = tokenize.RegexpTokenizer(r'\\w+')\n",
    "token = token_regex.tokenize(text)\n",
    "print(token)"
   ],
   "outputs": [
    {
     "output_type": "stream",
     "name": "stdout",
     "text": [
      "['to', 'know', 'and', 'not', 'to', 'know', 'to', 'be', 'conscious', 'of', 'complete', 'truthfulness', 'while', 'telling', 'carefully', 'constructed', 'lies', 'to', 'hold', 'simultaneously', 'two', 'opinions', 'which', 'cancelled', 'out', 'knowing', 'them', 'to', 'be', 'contradictory', 'and', 'believing', 'in', 'both', 'of', 'them', 'to', 'use', 'logic', 'against', 'logic', 'to', 'repudiate', 'morality', 'while', 'laying', 'claim', 'to', 'it', 'to', 'believe', 'that', 'democracy', 'was', 'impossible', 'and', 'that', 'the', 'party', 'was', 'the', 'guardian', 'of', 'democracy', 'to', 'forget', 'whatever', 'it', 'was', 'necessary', 'to', 'forget', 'then', 'to', 'draw', 'it', 'back', 'into', 'memory', 'again', 'at', 'the', 'moment', 'when', 'it', 'was', 'needed', 'and', 'then', 'promptly', 'to', 'forget', 'it', 'again', 'and', 'above', 'all', 'to', 'apply', 'the', 'same', 'process', 'to', 'the', 'process', 'itself', 'that', 'was', 'the', 'ultimate', 'subtlety', 'consciously', 'to', 'induce', 'unconsciousness', 'and', 'then', 'once', 'again', 'to', 'become', 'unconscious', 'of', 'the', 'act', 'of', 'hypnosis', 'you', 'had', 'just', 'performed', 'even', 'to', 'understand', 'the', 'word', 'doublethink', 'involved', 'the', 'use', 'of', 'doublethink']\n"
     ]
    }
   ],
   "metadata": {}
  },
  {
   "cell_type": "code",
   "execution_count": 25,
   "source": [
    "freq_dist = FreqDist(token)\n",
    "plt.subplots(figsize=(25,10))\n",
    "freq_dist.plot(100,cumulative=False)\n",
    "plt.show()"
   ],
   "outputs": [
    {
     "output_type": "display_data",
     "data": {
      "image/png": "[encoded data removed]",
      "text/plain": [
       "<Figure size 1800x720 with 1 Axes>"
      ]
     },
     "metadata": {}
    }
   ],
   "metadata": {}
  },
  {
   "cell_type": "markdown",
   "source": [
    "\n",
    "## **Nivell 2**\n",
    "- Exercici 1\n",
    "\n",
    "Treu les stopwords i realitza stemming al teu conjunt de dades.\n"
   ],
   "metadata": {}
  },
  {
   "cell_type": "markdown",
   "source": [
    "### **Removing StopWords**"
   ],
   "metadata": {}
  },
  {
   "cell_type": "code",
   "execution_count": 26,
   "source": [
    "# setting the stopwords list for the language of the text\n",
    "\n",
    "stopwords = set(stopwords.words('english'))\n",
    "print(stopwords)"
   ],
   "outputs": [
    {
     "output_type": "stream",
     "name": "stdout",
     "text": [
      "{'down', 'out', 'isn', 'did', 'should', 'her', 'in', 'both', 'same', 'ours', 'mightn', \"she's\", 'until', 'up', 'now', \"wouldn't\", \"hasn't\", 'all', 'himself', 'o', 'some', 'own', 'y', 'an', 'these', 'it', 'when', \"needn't\", 'does', 'most', 'over', 'at', 'no', 'having', 'their', 'hasn', \"hadn't\", 'whom', 'for', 'so', 's', 'doing', 'but', 'under', \"it's\", 'don', 'if', 'not', \"mightn't\", 'here', 'against', 'during', 'very', 'were', 'being', 'about', \"mustn't\", 'be', 'between', 'll', 'where', 'doesn', \"you'll\", 'won', 'are', \"you'd\", \"you're\", 'needn', 'your', 'our', 'just', \"shouldn't\", 'hers', 'by', 'other', \"shan't\", \"couldn't\", 'me', 'what', 'which', \"should've\", 'and', 'a', 'of', 'is', 'how', 'its', 't', 'on', 'was', 'below', 'those', 'this', 'there', 'too', 'while', \"doesn't\", 'or', 're', 'itself', 'again', 'wouldn', 'the', 'further', 'from', \"don't\", 'ain', 'am', 'weren', 'only', 'been', 'wasn', 'haven', \"wasn't\", 'couldn', \"didn't\", 'he', \"that'll\", 'that', 'has', 'had', 'through', 'ma', 'they', 'm', 'ourselves', 'she', 'theirs', 'mustn', 'do', 'shan', \"aren't\", \"haven't\", 'above', 'themselves', 'such', 'd', 'hadn', 'any', 'them', 'into', 'shouldn', 'nor', 'yourself', 'with', 'off', 'i', 'few', 'you', 'who', \"you've\", 'herself', 'aren', 'have', 'more', 'can', 'because', 'yourselves', 'to', 'then', 'will', \"weren't\", 'his', 'after', 'once', 'we', 'as', 'before', 'my', 'yours', 'didn', 'myself', 'why', 'each', 'than', 'him', 've', \"isn't\", \"won't\"}\n"
     ]
    }
   ],
   "metadata": {}
  },
  {
   "cell_type": "code",
   "execution_count": 27,
   "source": [
    "# Removing the stopwords from the text\n",
    "\n",
    "words_filt = []\n",
    "\n",
    "for word in token:\n",
    "    if word not in stopwords:\n",
    "        words_filt.append(word)\n",
    "\n",
    "freq_dist = FreqDist(words_filt)\n",
    "plt.subplots(figsize=(25,10))\n",
    "freq_dist.plot(100,cumulative=False)\n",
    "plt.show()"
   ],
   "outputs": [
    {
     "output_type": "display_data",
     "data": {
      "image/png": "[encoded data removed]",
      "text/plain": [
       "<Figure size 1800x720 with 1 Axes>"
      ]
     },
     "metadata": {}
    }
   ],
   "metadata": {}
  },
  {
   "cell_type": "markdown",
   "source": [
    "### **Apllining Porter Steemer**\n",
    "\n",
    "Porter Stemer reduces the words to its root word in order to group words with the same root."
   ],
   "metadata": {}
  },
  {
   "cell_type": "code",
   "execution_count": 28,
   "source": [
    "# Porter Steemer\n",
    "\n",
    "ps = PorterStemmer()\n",
    "\n",
    "stemmed_words=[]\n",
    "for w in token:\n",
    "    stemmed_words.append(ps.stem(w))\n",
    "\n",
    "print(\"Filtered Sentence:\",token_word)\n",
    "print()\n",
    "print(\"Stemmed Sentence:\",stemmed_words)"
   ],
   "outputs": [
    {
     "output_type": "stream",
     "name": "stdout",
     "text": [
      "Filtered Sentence: ['to', 'know', 'and', 'not', 'to', 'know', ',', 'to', 'be', 'conscious', 'of', 'complete', 'truthfulness', 'while', 'telling', 'carefully', 'constructed', 'lies', ',', 'to', 'hold', 'simultaneously', 'two', 'opinions', 'which', 'cancelled', 'out', ',', 'knowing', 'them', 'to', 'be', 'contradictory', 'and', 'believing', 'in', 'both', 'of', 'them', ',', 'to', 'use', 'logic', 'against', 'logic', ',', 'to', 'repudiate', 'morality', 'while', 'laying', 'claim', 'to', 'it', ',', 'to', 'believe', 'that', 'democracy', 'was', 'impossible', 'and', 'that', 'the', 'party', 'was', 'the', 'guardian', 'of', 'democracy', ',', 'to', 'forget', 'whatever', 'it', 'was', 'necessary', 'to', 'forget', ',', 'then', 'to', 'draw', 'it', 'back', 'into', 'memory', 'again', 'at', 'the', 'moment', 'when', 'it', 'was', 'needed', ',', 'and', 'then', 'promptly', 'to', 'forget', 'it', 'again', ':', 'and', 'above', 'all', ',', 'to', 'apply', 'the', 'same', 'process', 'to', 'the', 'process', 'itself', '.', 'that', 'was', 'the', 'ultimate', 'subtlety', ':', 'consciously', 'to', 'induce', 'unconsciousness', ',', 'and', 'then', ',', 'once', 'again', ',', 'to', 'become', 'unconscious', 'of', 'the', 'act', 'of', 'hypnosis', 'you', 'had', 'just', 'performed', '.', 'even', 'to', 'understand', 'the', 'word', '‘', 'doublethink', '’', 'involved', 'the', 'use', 'of', 'doublethink', '.']\n",
      "\n",
      "Stemmed Sentence: ['to', 'know', 'and', 'not', 'to', 'know', 'to', 'be', 'consciou', 'of', 'complet', 'truth', 'while', 'tell', 'care', 'construct', 'lie', 'to', 'hold', 'simultan', 'two', 'opinion', 'which', 'cancel', 'out', 'know', 'them', 'to', 'be', 'contradictori', 'and', 'believ', 'in', 'both', 'of', 'them', 'to', 'use', 'logic', 'against', 'logic', 'to', 'repudi', 'moral', 'while', 'lay', 'claim', 'to', 'it', 'to', 'believ', 'that', 'democraci', 'wa', 'imposs', 'and', 'that', 'the', 'parti', 'wa', 'the', 'guardian', 'of', 'democraci', 'to', 'forget', 'whatev', 'it', 'wa', 'necessari', 'to', 'forget', 'then', 'to', 'draw', 'it', 'back', 'into', 'memori', 'again', 'at', 'the', 'moment', 'when', 'it', 'wa', 'need', 'and', 'then', 'promptli', 'to', 'forget', 'it', 'again', 'and', 'abov', 'all', 'to', 'appli', 'the', 'same', 'process', 'to', 'the', 'process', 'itself', 'that', 'wa', 'the', 'ultim', 'subtleti', 'conscious', 'to', 'induc', 'unconsci', 'and', 'then', 'onc', 'again', 'to', 'becom', 'unconsci', 'of', 'the', 'act', 'of', 'hypnosi', 'you', 'had', 'just', 'perform', 'even', 'to', 'understand', 'the', 'word', 'doublethink', 'involv', 'the', 'use', 'of', 'doublethink']\n"
     ]
    }
   ],
   "metadata": {}
  },
  {
   "cell_type": "code",
   "execution_count": 29,
   "source": [
    "# Plotting the stemmed words without stopwords\n",
    "\n",
    "words_filt = []\n",
    "\n",
    "for word in stemmed_words:\n",
    "    if word not in stopwords:\n",
    "        words_filt.append(word)\n",
    "\n",
    "freq_dist = FreqDist(words_filt)\n",
    "plt.subplots(figsize=(25,10))\n",
    "freq_dist.plot(100,cumulative=False)\n",
    "plt.show()"
   ],
   "outputs": [
    {
     "output_type": "display_data",
     "data": {
      "image/png": "[encoded data removed]",
      "text/plain": [
       "<Figure size 1800x720 with 1 Axes>"
      ]
     },
     "metadata": {}
    }
   ],
   "metadata": {}
  },
  {
   "cell_type": "markdown",
   "source": [
    "### ***POS Tagging**\n",
    "\n",
    "POS makes a gramatical examing of the sentence, indicating which kind of word is every word in the sentence."
   ],
   "metadata": {}
  },
  {
   "cell_type": "code",
   "execution_count": 30,
   "source": [
    "# POS Tagging\n",
    "\n",
    "sentence = token_sent[2]\n",
    "tokens = token_regex.tokenize(sentence)\n",
    "tagged = nltk.pos_tag(tokens)\n",
    "\n",
    "print(sentence)\n",
    "print(tagged)"
   ],
   "outputs": [
    {
     "output_type": "stream",
     "name": "stdout",
     "text": [
      "even to understand the word ‘doublethink’ involved the use of doublethink.\n",
      "[('even', 'RB'), ('to', 'TO'), ('understand', 'VB'), ('the', 'DT'), ('word', 'NN'), ('doublethink', 'NN'), ('involved', 'VBD'), ('the', 'DT'), ('use', 'NN'), ('of', 'IN'), ('doublethink', 'NN')]\n"
     ]
    }
   ],
   "metadata": {}
  },
  {
   "cell_type": "markdown",
   "source": [
    "## **Nivell 3**\n",
    "- Exercici 1\n",
    "\n",
    "Realitza sentiment analysis al teu conjunt de dades.\n",
    "Recursos"
   ],
   "metadata": {}
  },
  {
   "cell_type": "code",
   "execution_count": 31,
   "source": [
    "# Sentiment analisis for the entire text\n",
    "\n",
    "blob = TextBlob(text)\n",
    "blob.sentiment"
   ],
   "outputs": [
    {
     "output_type": "execute_result",
     "data": {
      "text/plain": [
       "Sentiment(polarity=-0.04666666666666667, subjectivity=0.5625)"
      ]
     },
     "metadata": {},
     "execution_count": 31
    }
   ],
   "metadata": {}
  },
  {
   "cell_type": "code",
   "execution_count": 32,
   "source": [
    "# Sentiment analiis for each sentence\n",
    "\n",
    "sentences_sentiment= {}\n",
    "for sentence in blob.sentences: \n",
    "    sentences_sentiment[sentence] = sentence.sentiment\n",
    "\n",
    "for sentence in sentences_sentiment.keys():\n",
    "    print(f'SENTENCE:\\n{sentence}')\n",
    "    print(f'SENTIMENT:\\n{sentences_sentiment[sentence]}')\n",
    "    print()"
   ],
   "outputs": [
    {
     "output_type": "stream",
     "name": "stdout",
     "text": [
      "SENTENCE:\n",
      "to know and not to know, to be conscious of complete truthfulness while telling carefully constructed lies, to hold simultaneously two opinions which cancelled out,\n",
      "knowing them to be contradictory and believing in both of them, to use logic against logic, to repudiate morality while laying claim to it,\n",
      "to believe that democracy was impossible and that the party was the guardian of democracy, to forget whatever it was necessary to forget, \n",
      "then to draw it back into memory again at the moment when it was needed, and then promptly to forget it again: and above all,\n",
      "to apply the same process to the process itself.\n",
      "SENTIMENT:\n",
      "Sentiment(polarity=-0.07083333333333333, subjectivity=0.515625)\n",
      "\n",
      "SENTENCE:\n",
      "that was the ultimate subtlety: consciously to induce unconsciousness, and then,\n",
      "once again, to become unconscious of the act of hypnosis you had just performed.\n",
      "SENTIMENT:\n",
      "Sentiment(polarity=0.05, subjectivity=0.75)\n",
      "\n",
      "SENTENCE:\n",
      "even to understand the word ‘doublethink’ involved the use of doublethink.\n",
      "SENTIMENT:\n",
      "Sentiment(polarity=0.0, subjectivity=0.0)\n",
      "\n"
     ]
    }
   ],
   "metadata": {}
  },
  {
   "cell_type": "markdown",
   "source": [],
   "metadata": {}
  }
 ],
 "metadata": {
  "orig_nbformat": 4,
  "language_info": {
   "name": "python",
   "version": "3.8.5",
   "mimetype": "text/x-python",
   "codemirror_mode": {
    "name": "ipython",
    "version": 3
   },
   "pygments_lexer": "ipython3",
   "nbconvert_exporter": "python",
   "file_extension": ".py"
  },
  "kernelspec": {
   "name": "python3",
   "display_name": "Python 3.8.5 64-bit"
  },
  "interpreter": {
   "hash": "dca0ade3e726a953b501b15e8e990130d2b7799f14cfd9f4271676035ebe5511"
  }
 },
 "nbformat": 4,
 "nbformat_minor": 2
}