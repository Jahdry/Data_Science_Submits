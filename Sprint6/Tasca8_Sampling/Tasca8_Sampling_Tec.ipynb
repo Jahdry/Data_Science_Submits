{
 "metadata": {
  "language_info": {
   "codemirror_mode": {
    "name": "ipython",
    "version": 3
   },
   "file_extension": ".py",
   "mimetype": "text/x-python",
   "name": "python",
   "nbconvert_exporter": "python",
   "pygments_lexer": "ipython3",
   "version": "3.8.5"
  },
  "orig_nbformat": 2,
  "kernelspec": {
   "name": "python385jvsc74a57bd0dca0ade3e726a953b501b15e8e990130d2b7799f14cfd9f4271676035ebe5511",
   "display_name": "Python 3.8.5 64-bit ('base': conda)"
  }
 },
 "nbformat": 4,
 "nbformat_minor": 2,
 "cells": [
  {
   "source": [
    "# Tasca: Mètodes de mostreig"
   ],
   "cell_type": "markdown",
   "metadata": {}
  },
  {
   "cell_type": "code",
   "execution_count": 4,
   "metadata": {},
   "outputs": [],
   "source": [
    "import pandas as pd\n",
    "import numpy as np \n",
    "import random\n",
    "from imblearn.over_sampling import SMOTE\n",
    "from collections import Counter"
   ]
  },
  {
   "source": [
    "## Nivell 1\n",
    "\n",
    "- Exercici 1\n",
    "\n",
    "Agafa un conjunt de dades de tema esportiu que t'agradi. Realitza un mostreig de les dades generant una mostra aleatòria simple i una mostra sistemàtica."
   ],
   "cell_type": "markdown",
   "metadata": {}
  },
  {
   "cell_type": "code",
   "execution_count": 5,
   "metadata": {},
   "outputs": [
    {
     "output_type": "execute_result",
     "data": {
      "text/plain": [
       "      index                 name  year_start  year_end position height  \\\n",
       "0         0       Alaa Abdelnaby        1991      1995      F-C   6-10   \n",
       "1         1      Zaid Abdul-Aziz        1969      1978      C-F    6-9   \n",
       "2         2  Kareem Abdul-Jabbar        1970      1989        C    7-2   \n",
       "3         3   Mahmoud Abdul-Rauf        1991      2001        G    6-1   \n",
       "4         4    Tariq Abdul-Wahad        1998      2003        F    6-6   \n",
       "...     ...                  ...         ...       ...      ...    ...   \n",
       "4208   4542    Derrick Zimmerman        2006      2006        G    6-3   \n",
       "4209   4543    Stephen Zimmerman        2017      2017        C    7-0   \n",
       "4210   4546             Jim Zoet        1983      1983        C    7-1   \n",
       "4211   4547            Bill Zopf        1971      1971        G    6-1   \n",
       "4212   4549           Matt Zunic        1949      1949      G-F    6-3   \n",
       "\n",
       "      weight         birth_date                                college  \n",
       "0      240.0      June 24, 1968                        Duke University  \n",
       "1      235.0      April 7, 1946                  Iowa State University  \n",
       "2      225.0     April 16, 1947  University of California, Los Angeles  \n",
       "3      162.0      March 9, 1969             Louisiana State University  \n",
       "4      223.0   November 3, 1974              San Jose State University  \n",
       "...      ...                ...                                    ...  \n",
       "4208   195.0   December 2, 1981           Mississippi State University  \n",
       "4209   240.0  September 9, 1996        University of Nevada, Las Vegas  \n",
       "4210   240.0  December 20, 1953                  Kent State University  \n",
       "4211   170.0       June 7, 1948                    Duquesne University  \n",
       "4212   195.0  December 19, 1919           George Washington University  \n",
       "\n",
       "[4213 rows x 9 columns]"
      ],
      "text/html": "<div>\n<style scoped>\n    .dataframe tbody tr th:only-of-type {\n        vertical-align: middle;\n    }\n\n    .dataframe tbody tr th {\n        vertical-align: top;\n    }\n\n    .dataframe thead th {\n        text-align: right;\n    }\n</style>\n<table border=\"1\" class=\"dataframe\">\n  <thead>\n    <tr style=\"text-align: right;\">\n      <th></th>\n      <th>index</th>\n      <th>name</th>\n      <th>year_start</th>\n      <th>year_end</th>\n      <th>position</th>\n      <th>height</th>\n      <th>weight</th>\n      <th>birth_date</th>\n      <th>college</th>\n    </tr>\n  </thead>\n  <tbody>\n    <tr>\n      <th>0</th>\n      <td>0</td>\n      <td>Alaa Abdelnaby</td>\n      <td>1991</td>\n      <td>1995</td>\n      <td>F-C</td>\n      <td>6-10</td>\n      <td>240.0</td>\n      <td>June 24, 1968</td>\n      <td>Duke University</td>\n    </tr>\n    <tr>\n      <th>1</th>\n      <td>1</td>\n      <td>Zaid Abdul-Aziz</td>\n      <td>1969</td>\n      <td>1978</td>\n      <td>C-F</td>\n      <td>6-9</td>\n      <td>235.0</td>\n      <td>April 7, 1946</td>\n      <td>Iowa State University</td>\n    </tr>\n    <tr>\n      <th>2</th>\n      <td>2</td>\n      <td>Kareem Abdul-Jabbar</td>\n      <td>1970</td>\n      <td>1989</td>\n      <td>C</td>\n      <td>7-2</td>\n      <td>225.0</td>\n      <td>April 16, 1947</td>\n      <td>University of California, Los Angeles</td>\n    </tr>\n    <tr>\n      <th>3</th>\n      <td>3</td>\n      <td>Mahmoud Abdul-Rauf</td>\n      <td>1991</td>\n      <td>2001</td>\n      <td>G</td>\n      <td>6-1</td>\n      <td>162.0</td>\n      <td>March 9, 1969</td>\n      <td>Louisiana State University</td>\n    </tr>\n    <tr>\n      <th>4</th>\n      <td>4</td>\n      <td>Tariq Abdul-Wahad</td>\n      <td>1998</td>\n      <td>2003</td>\n      <td>F</td>\n      <td>6-6</td>\n      <td>223.0</td>\n      <td>November 3, 1974</td>\n      <td>San Jose State University</td>\n    </tr>\n    <tr>\n      <th>...</th>\n      <td>...</td>\n      <td>...</td>\n      <td>...</td>\n      <td>...</td>\n      <td>...</td>\n      <td>...</td>\n      <td>...</td>\n      <td>...</td>\n      <td>...</td>\n    </tr>\n    <tr>\n      <th>4208</th>\n      <td>4542</td>\n      <td>Derrick Zimmerman</td>\n      <td>2006</td>\n      <td>2006</td>\n      <td>G</td>\n      <td>6-3</td>\n      <td>195.0</td>\n      <td>December 2, 1981</td>\n      <td>Mississippi State University</td>\n    </tr>\n    <tr>\n      <th>4209</th>\n      <td>4543</td>\n      <td>Stephen Zimmerman</td>\n      <td>2017</td>\n      <td>2017</td>\n      <td>C</td>\n      <td>7-0</td>\n      <td>240.0</td>\n      <td>September 9, 1996</td>\n      <td>University of Nevada, Las Vegas</td>\n    </tr>\n    <tr>\n      <th>4210</th>\n      <td>4546</td>\n      <td>Jim Zoet</td>\n      <td>1983</td>\n      <td>1983</td>\n      <td>C</td>\n      <td>7-1</td>\n      <td>240.0</td>\n      <td>December 20, 1953</td>\n      <td>Kent State University</td>\n    </tr>\n    <tr>\n      <th>4211</th>\n      <td>4547</td>\n      <td>Bill Zopf</td>\n      <td>1971</td>\n      <td>1971</td>\n      <td>G</td>\n      <td>6-1</td>\n      <td>170.0</td>\n      <td>June 7, 1948</td>\n      <td>Duquesne University</td>\n    </tr>\n    <tr>\n      <th>4212</th>\n      <td>4549</td>\n      <td>Matt Zunic</td>\n      <td>1949</td>\n      <td>1949</td>\n      <td>G-F</td>\n      <td>6-3</td>\n      <td>195.0</td>\n      <td>December 19, 1919</td>\n      <td>George Washington University</td>\n    </tr>\n  </tbody>\n</table>\n<p>4213 rows × 9 columns</p>\n</div>"
     },
     "metadata": {},
     "execution_count": 5
    }
   ],
   "source": [
    "# Importem el fitxer csv per crear el dataframe\n",
    "nba_players = pd.read_csv('./db/NBA PLAYERS STATS/player_data.csv')\n",
    "#Eiminem les files sense dades\n",
    "nba_players.dropna(inplace=True)\n",
    "nba_players.reset_index(inplace=True)\n",
    "nba_players"
   ]
  },
  {
   "cell_type": "code",
   "execution_count": 6,
   "metadata": {},
   "outputs": [
    {
     "output_type": "execute_result",
     "data": {
      "text/plain": [
       "              index            name   year_start     year_end position height  \\\n",
       "count   4213.000000            4213  4213.000000  4213.000000     4213   4213   \n",
       "unique          NaN            4165          NaN          NaN        7     28   \n",
       "top             NaN  George Johnson          NaN          NaN        G    6-7   \n",
       "freq            NaN               3          NaN          NaN     1501    441   \n",
       "mean    2266.635177             NaN  1984.062663  1988.267505      NaN    NaN   \n",
       "std     1313.511815             NaN    20.699757    21.592122      NaN    NaN   \n",
       "min        0.000000             NaN  1947.000000  1947.000000      NaN    NaN   \n",
       "25%     1128.000000             NaN  1969.000000  1972.000000      NaN    NaN   \n",
       "50%     2255.000000             NaN  1985.000000  1990.000000      NaN    NaN   \n",
       "75%     3408.000000             NaN  2001.000000  2007.000000      NaN    NaN   \n",
       "max     4549.000000             NaN  2018.000000  2018.000000      NaN    NaN   \n",
       "\n",
       "             weight      birth_date                 college  \n",
       "count   4213.000000            4213                    4213  \n",
       "unique          NaN            3893                     470  \n",
       "top             NaN  March 26, 1962  University of Kentucky  \n",
       "freq            NaN               3                      99  \n",
       "mean     207.716117             NaN                     NaN  \n",
       "std       25.447824             NaN                     NaN  \n",
       "min      133.000000             NaN                     NaN  \n",
       "25%      189.000000             NaN                     NaN  \n",
       "50%      205.000000             NaN                     NaN  \n",
       "75%      225.000000             NaN                     NaN  \n",
       "max      360.000000             NaN                     NaN  "
      ],
      "text/html": "<div>\n<style scoped>\n    .dataframe tbody tr th:only-of-type {\n        vertical-align: middle;\n    }\n\n    .dataframe tbody tr th {\n        vertical-align: top;\n    }\n\n    .dataframe thead th {\n        text-align: right;\n    }\n</style>\n<table border=\"1\" class=\"dataframe\">\n  <thead>\n    <tr style=\"text-align: right;\">\n      <th></th>\n      <th>index</th>\n      <th>name</th>\n      <th>year_start</th>\n      <th>year_end</th>\n      <th>position</th>\n      <th>height</th>\n      <th>weight</th>\n      <th>birth_date</th>\n      <th>college</th>\n    </tr>\n  </thead>\n  <tbody>\n    <tr>\n      <th>count</th>\n      <td>4213.000000</td>\n      <td>4213</td>\n      <td>4213.000000</td>\n      <td>4213.000000</td>\n      <td>4213</td>\n      <td>4213</td>\n      <td>4213.000000</td>\n      <td>4213</td>\n      <td>4213</td>\n    </tr>\n    <tr>\n      <th>unique</th>\n      <td>NaN</td>\n      <td>4165</td>\n      <td>NaN</td>\n      <td>NaN</td>\n      <td>7</td>\n      <td>28</td>\n      <td>NaN</td>\n      <td>3893</td>\n      <td>470</td>\n    </tr>\n    <tr>\n      <th>top</th>\n      <td>NaN</td>\n      <td>George Johnson</td>\n      <td>NaN</td>\n      <td>NaN</td>\n      <td>G</td>\n      <td>6-7</td>\n      <td>NaN</td>\n      <td>March 26, 1962</td>\n      <td>University of Kentucky</td>\n    </tr>\n    <tr>\n      <th>freq</th>\n      <td>NaN</td>\n      <td>3</td>\n      <td>NaN</td>\n      <td>NaN</td>\n      <td>1501</td>\n      <td>441</td>\n      <td>NaN</td>\n      <td>3</td>\n      <td>99</td>\n    </tr>\n    <tr>\n      <th>mean</th>\n      <td>2266.635177</td>\n      <td>NaN</td>\n      <td>1984.062663</td>\n      <td>1988.267505</td>\n      <td>NaN</td>\n      <td>NaN</td>\n      <td>207.716117</td>\n      <td>NaN</td>\n      <td>NaN</td>\n    </tr>\n    <tr>\n      <th>std</th>\n      <td>1313.511815</td>\n      <td>NaN</td>\n      <td>20.699757</td>\n      <td>21.592122</td>\n      <td>NaN</td>\n      <td>NaN</td>\n      <td>25.447824</td>\n      <td>NaN</td>\n      <td>NaN</td>\n    </tr>\n    <tr>\n      <th>min</th>\n      <td>0.000000</td>\n      <td>NaN</td>\n      <td>1947.000000</td>\n      <td>1947.000000</td>\n      <td>NaN</td>\n      <td>NaN</td>\n      <td>133.000000</td>\n      <td>NaN</td>\n      <td>NaN</td>\n    </tr>\n    <tr>\n      <th>25%</th>\n      <td>1128.000000</td>\n      <td>NaN</td>\n      <td>1969.000000</td>\n      <td>1972.000000</td>\n      <td>NaN</td>\n      <td>NaN</td>\n      <td>189.000000</td>\n      <td>NaN</td>\n      <td>NaN</td>\n    </tr>\n    <tr>\n      <th>50%</th>\n      <td>2255.000000</td>\n      <td>NaN</td>\n      <td>1985.000000</td>\n      <td>1990.000000</td>\n      <td>NaN</td>\n      <td>NaN</td>\n      <td>205.000000</td>\n      <td>NaN</td>\n      <td>NaN</td>\n    </tr>\n    <tr>\n      <th>75%</th>\n      <td>3408.000000</td>\n      <td>NaN</td>\n      <td>2001.000000</td>\n      <td>2007.000000</td>\n      <td>NaN</td>\n      <td>NaN</td>\n      <td>225.000000</td>\n      <td>NaN</td>\n      <td>NaN</td>\n    </tr>\n    <tr>\n      <th>max</th>\n      <td>4549.000000</td>\n      <td>NaN</td>\n      <td>2018.000000</td>\n      <td>2018.000000</td>\n      <td>NaN</td>\n      <td>NaN</td>\n      <td>360.000000</td>\n      <td>NaN</td>\n      <td>NaN</td>\n    </tr>\n  </tbody>\n</table>\n</div>"
     },
     "metadata": {},
     "execution_count": 6
    }
   ],
   "source": [
    "nba_players.describe(include='all')"
   ]
  },
  {
   "cell_type": "code",
   "execution_count": 7,
   "metadata": {},
   "outputs": [],
   "source": [
    "# definim una funció que faci el mostreig en funció del % de mostra desitjat i el tipus de mostreig (Aleatori simple o Sistemàtic)\n",
    "def sampling_rand_syst(df,sample_percent,sample_method):\n",
    "    sample_size = round(len(df) / 100 * sample_percent)\n",
    "    if sample_method == 1: # Aleatori simple\n",
    "        df_random = df.sample(sample_size) #select % sample points from a dataset.\n",
    "        parameters = f'Sample(%): {sample_percent}%, Sample size:{sample_size}, Sampling Metod: Aleatori Simple'\n",
    "        return df_random, parameters\n",
    "    elif sample_method == 2: # Sistematic\n",
    "        step = len(df) // sample_size\n",
    "        start_rand = random.randint(0, (step - 1))\n",
    "        indexes = np.arange(start_rand, len(df), step=step)\n",
    "        df_systematic = df.iloc[indexes]\n",
    "        parameters = f'Sample(%): {sample_percent}%, Sample size:{sample_size}, Sampling Metod: Sistemàtic'\n",
    "        return df_systematic, parameters"
   ]
  },
  {
   "cell_type": "code",
   "execution_count": 8,
   "metadata": {},
   "outputs": [
    {
     "output_type": "stream",
     "name": "stdout",
     "text": [
      "Sample(%): 20%, Sample size:843, Sampling Metod: Aleatori Simple\n"
     ]
    },
    {
     "output_type": "execute_result",
     "data": {
      "text/plain": [
       "      index              name  year_start  year_end position height  weight  \\\n",
       "733     786       David Cooke        1986      1986        F    6-8   230.0   \n",
       "2152   2307       Jeremy Lamb        2013      2018      G-F    6-5   185.0   \n",
       "2892   3116  Chandler Parsons        2012      2018        F   6-10   230.0   \n",
       "3278   3534    JaKarr Sampson        2015      2018      G-F    6-9   214.0   \n",
       "2478   2656    Alfred McGuire        1952      1955      G-F    6-2   180.0   \n",
       "\n",
       "              birth_date                             college  \n",
       "733   September 27, 1963  Saint Mary's College of California  \n",
       "2152        May 30, 1992           University of Connecticut  \n",
       "2892    October 25, 1988               University of Florida  \n",
       "3278      March 20, 1993               St. John's University  \n",
       "2478   September 7, 1928               St. John's University  "
      ],
      "text/html": "<div>\n<style scoped>\n    .dataframe tbody tr th:only-of-type {\n        vertical-align: middle;\n    }\n\n    .dataframe tbody tr th {\n        vertical-align: top;\n    }\n\n    .dataframe thead th {\n        text-align: right;\n    }\n</style>\n<table border=\"1\" class=\"dataframe\">\n  <thead>\n    <tr style=\"text-align: right;\">\n      <th></th>\n      <th>index</th>\n      <th>name</th>\n      <th>year_start</th>\n      <th>year_end</th>\n      <th>position</th>\n      <th>height</th>\n      <th>weight</th>\n      <th>birth_date</th>\n      <th>college</th>\n    </tr>\n  </thead>\n  <tbody>\n    <tr>\n      <th>733</th>\n      <td>786</td>\n      <td>David Cooke</td>\n      <td>1986</td>\n      <td>1986</td>\n      <td>F</td>\n      <td>6-8</td>\n      <td>230.0</td>\n      <td>September 27, 1963</td>\n      <td>Saint Mary's College of California</td>\n    </tr>\n    <tr>\n      <th>2152</th>\n      <td>2307</td>\n      <td>Jeremy Lamb</td>\n      <td>2013</td>\n      <td>2018</td>\n      <td>G-F</td>\n      <td>6-5</td>\n      <td>185.0</td>\n      <td>May 30, 1992</td>\n      <td>University of Connecticut</td>\n    </tr>\n    <tr>\n      <th>2892</th>\n      <td>3116</td>\n      <td>Chandler Parsons</td>\n      <td>2012</td>\n      <td>2018</td>\n      <td>F</td>\n      <td>6-10</td>\n      <td>230.0</td>\n      <td>October 25, 1988</td>\n      <td>University of Florida</td>\n    </tr>\n    <tr>\n      <th>3278</th>\n      <td>3534</td>\n      <td>JaKarr Sampson</td>\n      <td>2015</td>\n      <td>2018</td>\n      <td>G-F</td>\n      <td>6-9</td>\n      <td>214.0</td>\n      <td>March 20, 1993</td>\n      <td>St. John's University</td>\n    </tr>\n    <tr>\n      <th>2478</th>\n      <td>2656</td>\n      <td>Alfred McGuire</td>\n      <td>1952</td>\n      <td>1955</td>\n      <td>G-F</td>\n      <td>6-2</td>\n      <td>180.0</td>\n      <td>September 7, 1928</td>\n      <td>St. John's University</td>\n    </tr>\n  </tbody>\n</table>\n</div>"
     },
     "metadata": {},
     "execution_count": 8
    }
   ],
   "source": [
    "# introduim els inputs per fer els samplings:\n",
    "\n",
    "# Aleatori simple (Sample_method = 1):\n",
    "nba_rand, parameters = sampling_rand_syst(nba_players,sample_percent=20,sample_method=1)\n",
    "print(parameters)\n",
    "nba_rand.head()"
   ]
  },
  {
   "cell_type": "code",
   "execution_count": 9,
   "metadata": {},
   "outputs": [
    {
     "output_type": "execute_result",
     "data": {
      "text/plain": [
       "             index   year_start     year_end      weight\n",
       "count   843.000000   843.000000   843.000000  843.000000\n",
       "mean   2198.279953  1984.588375  1988.884935  207.187426\n",
       "std    1331.515266    20.798267    21.613750   25.214575\n",
       "min       0.000000  1947.000000  1947.000000  135.000000\n",
       "25%     984.500000  1971.000000  1973.000000  188.000000\n",
       "50%    2182.000000  1985.000000  1991.000000  205.000000\n",
       "75%    3383.500000  2002.000000  2007.000000  225.000000\n",
       "max    4543.000000  2018.000000  2018.000000  315.000000"
      ],
      "text/html": "<div>\n<style scoped>\n    .dataframe tbody tr th:only-of-type {\n        vertical-align: middle;\n    }\n\n    .dataframe tbody tr th {\n        vertical-align: top;\n    }\n\n    .dataframe thead th {\n        text-align: right;\n    }\n</style>\n<table border=\"1\" class=\"dataframe\">\n  <thead>\n    <tr style=\"text-align: right;\">\n      <th></th>\n      <th>index</th>\n      <th>year_start</th>\n      <th>year_end</th>\n      <th>weight</th>\n    </tr>\n  </thead>\n  <tbody>\n    <tr>\n      <th>count</th>\n      <td>843.000000</td>\n      <td>843.000000</td>\n      <td>843.000000</td>\n      <td>843.000000</td>\n    </tr>\n    <tr>\n      <th>mean</th>\n      <td>2198.279953</td>\n      <td>1984.588375</td>\n      <td>1988.884935</td>\n      <td>207.187426</td>\n    </tr>\n    <tr>\n      <th>std</th>\n      <td>1331.515266</td>\n      <td>20.798267</td>\n      <td>21.613750</td>\n      <td>25.214575</td>\n    </tr>\n    <tr>\n      <th>min</th>\n      <td>0.000000</td>\n      <td>1947.000000</td>\n      <td>1947.000000</td>\n      <td>135.000000</td>\n    </tr>\n    <tr>\n      <th>25%</th>\n      <td>984.500000</td>\n      <td>1971.000000</td>\n      <td>1973.000000</td>\n      <td>188.000000</td>\n    </tr>\n    <tr>\n      <th>50%</th>\n      <td>2182.000000</td>\n      <td>1985.000000</td>\n      <td>1991.000000</td>\n      <td>205.000000</td>\n    </tr>\n    <tr>\n      <th>75%</th>\n      <td>3383.500000</td>\n      <td>2002.000000</td>\n      <td>2007.000000</td>\n      <td>225.000000</td>\n    </tr>\n    <tr>\n      <th>max</th>\n      <td>4543.000000</td>\n      <td>2018.000000</td>\n      <td>2018.000000</td>\n      <td>315.000000</td>\n    </tr>\n  </tbody>\n</table>\n</div>"
     },
     "metadata": {},
     "execution_count": 9
    }
   ],
   "source": [
    "nba_rand.describe()"
   ]
  },
  {
   "cell_type": "code",
   "execution_count": 10,
   "metadata": {},
   "outputs": [
    {
     "output_type": "stream",
     "name": "stdout",
     "text": [
      "Sample(%): 20%, Sample size:843, Sampling Metod: Sistemàtic\n"
     ]
    },
    {
     "output_type": "execute_result",
     "data": {
      "text/plain": [
       "    index                 name  year_start  year_end position height  weight  \\\n",
       "2       2  Kareem Abdul-Jabbar        1970      1989        C    7-2   225.0   \n",
       "6       6        Tom Abernethy        1977      1981        F    6-7   220.0   \n",
       "10     11         Don Ackerman        1954      1954        G    6-0   183.0   \n",
       "14     15          Alvan Adams        1976      1988      C-F    6-9   210.0   \n",
       "18     19         Jordan Adams        2015      2016        G    6-5   209.0   \n",
       "\n",
       "           birth_date                                college  \n",
       "2      April 16, 1947  University of California, Los Angeles  \n",
       "6         May 6, 1954                     Indiana University  \n",
       "10  September 4, 1930                 Long Island University  \n",
       "14      July 19, 1954                 University of Oklahoma  \n",
       "18       July 8, 1994  University of California, Los Angeles  "
      ],
      "text/html": "<div>\n<style scoped>\n    .dataframe tbody tr th:only-of-type {\n        vertical-align: middle;\n    }\n\n    .dataframe tbody tr th {\n        vertical-align: top;\n    }\n\n    .dataframe thead th {\n        text-align: right;\n    }\n</style>\n<table border=\"1\" class=\"dataframe\">\n  <thead>\n    <tr style=\"text-align: right;\">\n      <th></th>\n      <th>index</th>\n      <th>name</th>\n      <th>year_start</th>\n      <th>year_end</th>\n      <th>position</th>\n      <th>height</th>\n      <th>weight</th>\n      <th>birth_date</th>\n      <th>college</th>\n    </tr>\n  </thead>\n  <tbody>\n    <tr>\n      <th>2</th>\n      <td>2</td>\n      <td>Kareem Abdul-Jabbar</td>\n      <td>1970</td>\n      <td>1989</td>\n      <td>C</td>\n      <td>7-2</td>\n      <td>225.0</td>\n      <td>April 16, 1947</td>\n      <td>University of California, Los Angeles</td>\n    </tr>\n    <tr>\n      <th>6</th>\n      <td>6</td>\n      <td>Tom Abernethy</td>\n      <td>1977</td>\n      <td>1981</td>\n      <td>F</td>\n      <td>6-7</td>\n      <td>220.0</td>\n      <td>May 6, 1954</td>\n      <td>Indiana University</td>\n    </tr>\n    <tr>\n      <th>10</th>\n      <td>11</td>\n      <td>Don Ackerman</td>\n      <td>1954</td>\n      <td>1954</td>\n      <td>G</td>\n      <td>6-0</td>\n      <td>183.0</td>\n      <td>September 4, 1930</td>\n      <td>Long Island University</td>\n    </tr>\n    <tr>\n      <th>14</th>\n      <td>15</td>\n      <td>Alvan Adams</td>\n      <td>1976</td>\n      <td>1988</td>\n      <td>C-F</td>\n      <td>6-9</td>\n      <td>210.0</td>\n      <td>July 19, 1954</td>\n      <td>University of Oklahoma</td>\n    </tr>\n    <tr>\n      <th>18</th>\n      <td>19</td>\n      <td>Jordan Adams</td>\n      <td>2015</td>\n      <td>2016</td>\n      <td>G</td>\n      <td>6-5</td>\n      <td>209.0</td>\n      <td>July 8, 1994</td>\n      <td>University of California, Los Angeles</td>\n    </tr>\n  </tbody>\n</table>\n</div>"
     },
     "metadata": {},
     "execution_count": 10
    }
   ],
   "source": [
    "# Systematic (sample_method = 2)\n",
    "nba_syst, parameters = sampling_rand_syst(nba_players,sample_percent=20,sample_method=2)\n",
    "print(parameters)\n",
    "nba_syst.head()"
   ]
  },
  {
   "cell_type": "code",
   "execution_count": 11,
   "metadata": {},
   "outputs": [
    {
     "output_type": "execute_result",
     "data": {
      "text/plain": [
       "             index   year_start     year_end       weight\n",
       "count  1053.000000  1053.000000  1053.000000  1053.000000\n",
       "mean   2266.639126  1983.860399  1987.851852   208.234568\n",
       "std    1313.671896    20.503234    21.399089    25.107394\n",
       "min       2.000000  1947.000000  1947.000000   145.000000\n",
       "25%    1129.000000  1969.000000  1972.000000   190.000000\n",
       "50%    2255.000000  1984.000000  1988.000000   210.000000\n",
       "75%    3407.000000  2000.000000  2006.000000   225.000000\n",
       "max    4546.000000  2018.000000  2018.000000   280.000000"
      ],
      "text/html": "<div>\n<style scoped>\n    .dataframe tbody tr th:only-of-type {\n        vertical-align: middle;\n    }\n\n    .dataframe tbody tr th {\n        vertical-align: top;\n    }\n\n    .dataframe thead th {\n        text-align: right;\n    }\n</style>\n<table border=\"1\" class=\"dataframe\">\n  <thead>\n    <tr style=\"text-align: right;\">\n      <th></th>\n      <th>index</th>\n      <th>year_start</th>\n      <th>year_end</th>\n      <th>weight</th>\n    </tr>\n  </thead>\n  <tbody>\n    <tr>\n      <th>count</th>\n      <td>1053.000000</td>\n      <td>1053.000000</td>\n      <td>1053.000000</td>\n      <td>1053.000000</td>\n    </tr>\n    <tr>\n      <th>mean</th>\n      <td>2266.639126</td>\n      <td>1983.860399</td>\n      <td>1987.851852</td>\n      <td>208.234568</td>\n    </tr>\n    <tr>\n      <th>std</th>\n      <td>1313.671896</td>\n      <td>20.503234</td>\n      <td>21.399089</td>\n      <td>25.107394</td>\n    </tr>\n    <tr>\n      <th>min</th>\n      <td>2.000000</td>\n      <td>1947.000000</td>\n      <td>1947.000000</td>\n      <td>145.000000</td>\n    </tr>\n    <tr>\n      <th>25%</th>\n      <td>1129.000000</td>\n      <td>1969.000000</td>\n      <td>1972.000000</td>\n      <td>190.000000</td>\n    </tr>\n    <tr>\n      <th>50%</th>\n      <td>2255.000000</td>\n      <td>1984.000000</td>\n      <td>1988.000000</td>\n      <td>210.000000</td>\n    </tr>\n    <tr>\n      <th>75%</th>\n      <td>3407.000000</td>\n      <td>2000.000000</td>\n      <td>2006.000000</td>\n      <td>225.000000</td>\n    </tr>\n    <tr>\n      <th>max</th>\n      <td>4546.000000</td>\n      <td>2018.000000</td>\n      <td>2018.000000</td>\n      <td>280.000000</td>\n    </tr>\n  </tbody>\n</table>\n</div>"
     },
     "metadata": {},
     "execution_count": 11
    }
   ],
   "source": [
    "nba_syst.describe()"
   ]
  },
  {
   "source": [
    "## Nivell 2\n",
    "\n",
    "- Exercici 2\n",
    "\n",
    "Continua amb el conjunt de dades de tema esportiu i genera una mostra estratificada i una mostra utilitzant SMOTE (Synthetic Minority Oversampling Technique).\n",
    "\n",
    "Mostra Estratificada: "
   ],
   "cell_type": "markdown",
   "metadata": {}
  },
  {
   "cell_type": "code",
   "execution_count": 12,
   "metadata": {},
   "outputs": [
    {
     "output_type": "stream",
     "name": "stderr",
     "text": [
      "<ipython-input-12-48fefcc9cd3d>:21: SettingWithCopyWarning: \nA value is trying to be set on a copy of a slice from a DataFrame.\nTry using .loc[row_indexer,col_indexer] = value instead\n\nSee the caveats in the documentation: https://pandas.pydata.org/pandas-docs/stable/user_guide/indexing.html#returning-a-view-versus-a-copy\n  nba_trimmed['position_numeric'] = position_numeric\n"
     ]
    },
    {
     "output_type": "execute_result",
     "data": {
      "text/plain": [
       "   year_start  year_end position  position_numeric\n",
       "0        1991      1995      F-C                 4\n",
       "1        1969      1978      C-F                 4\n",
       "2        1970      1989        C                 5\n",
       "3        1991      2001        G                 1\n",
       "4        1998      2003        F                 3"
      ],
      "text/html": "<div>\n<style scoped>\n    .dataframe tbody tr th:only-of-type {\n        vertical-align: middle;\n    }\n\n    .dataframe tbody tr th {\n        vertical-align: top;\n    }\n\n    .dataframe thead th {\n        text-align: right;\n    }\n</style>\n<table border=\"1\" class=\"dataframe\">\n  <thead>\n    <tr style=\"text-align: right;\">\n      <th></th>\n      <th>year_start</th>\n      <th>year_end</th>\n      <th>position</th>\n      <th>position_numeric</th>\n    </tr>\n  </thead>\n  <tbody>\n    <tr>\n      <th>0</th>\n      <td>1991</td>\n      <td>1995</td>\n      <td>F-C</td>\n      <td>4</td>\n    </tr>\n    <tr>\n      <th>1</th>\n      <td>1969</td>\n      <td>1978</td>\n      <td>C-F</td>\n      <td>4</td>\n    </tr>\n    <tr>\n      <th>2</th>\n      <td>1970</td>\n      <td>1989</td>\n      <td>C</td>\n      <td>5</td>\n    </tr>\n    <tr>\n      <th>3</th>\n      <td>1991</td>\n      <td>2001</td>\n      <td>G</td>\n      <td>1</td>\n    </tr>\n    <tr>\n      <th>4</th>\n      <td>1998</td>\n      <td>2003</td>\n      <td>F</td>\n      <td>3</td>\n    </tr>\n  </tbody>\n</table>\n</div>"
     },
     "metadata": {},
     "execution_count": 12
    }
   ],
   "source": [
    "# Fem una base de dades mes petita per a fer els exercicis\n",
    "nba_trimmed = nba_players[['year_start', 'year_end', 'position']]\n",
    "#Convertim les possicions al seu equivalent numeric (https://es.wikipedia.org/wiki/Posiciones_del_baloncesto) i afegim la columna al dataframe\n",
    "position_numeric = []\n",
    "for item in nba_trimmed['position']: \n",
    "    if item == 'C': \n",
    "        position_numeric.append(5)\n",
    "    elif item == 'C-F': \n",
    "        position_numeric.append(4)\n",
    "    elif item == 'F-C': \n",
    "        position_numeric.append(4)\n",
    "    elif item == 'F':\n",
    "        position_numeric.append(3)\n",
    "    elif item == 'F-G':\n",
    "        position_numeric.append(2)\n",
    "    elif item == 'G-F':\n",
    "        position_numeric.append(2)\n",
    "    elif item == 'G':\n",
    "        position_numeric.append(1)\n",
    "   \n",
    "nba_trimmed['position_numeric'] = position_numeric\n",
    "nba_trimmed.head()"
   ]
  },
  {
   "cell_type": "code",
   "execution_count": 13,
   "metadata": {},
   "outputs": [],
   "source": [
    "# Definim Algoritme per stratified sampling\n",
    "def sampling_strat (df, group_sel, sample_percent=30, ):\n",
    "    df_out = pd.DataFrame()\n",
    "    strat = pd.unique(df[group_sel])\n",
    "    for group in strat : \n",
    "        df_group = df[getattr(df, group_sel) == group]\n",
    "        sample_size = round(len(df_group) / 100 * sample_percent)\n",
    "        df_random = df_group.sample(sample_size) #select % sample points from a dataset.\n",
    "        df_out = df_out.append(df_random)\n",
    "        #outputs\n",
    "    statistics = f'sample method: Stratified, Sample(%): {sample_percent}, Sample Size: {sample_size}, Strat: {group_sel}'\n",
    "    return df_out, statistics"
   ]
  },
  {
   "cell_type": "code",
   "execution_count": 14,
   "metadata": {},
   "outputs": [
    {
     "output_type": "stream",
     "name": "stdout",
     "text": [
      "sample method: Stratified, Sample(%): 30, Sample Size: 162, Strat: position_numeric\n"
     ]
    },
    {
     "output_type": "execute_result",
     "data": {
      "text/plain": [
       "      year_start  year_end position  position_numeric\n",
       "2174        1968      1973      F-C                 4\n",
       "250         1974      1980      F-C                 4\n",
       "2096        1969      1969      F-C                 4\n",
       "487         1989      2003      F-C                 4\n",
       "2233        1947      1949      F-C                 4"
      ],
      "text/html": "<div>\n<style scoped>\n    .dataframe tbody tr th:only-of-type {\n        vertical-align: middle;\n    }\n\n    .dataframe tbody tr th {\n        vertical-align: top;\n    }\n\n    .dataframe thead th {\n        text-align: right;\n    }\n</style>\n<table border=\"1\" class=\"dataframe\">\n  <thead>\n    <tr style=\"text-align: right;\">\n      <th></th>\n      <th>year_start</th>\n      <th>year_end</th>\n      <th>position</th>\n      <th>position_numeric</th>\n    </tr>\n  </thead>\n  <tbody>\n    <tr>\n      <th>2174</th>\n      <td>1968</td>\n      <td>1973</td>\n      <td>F-C</td>\n      <td>4</td>\n    </tr>\n    <tr>\n      <th>250</th>\n      <td>1974</td>\n      <td>1980</td>\n      <td>F-C</td>\n      <td>4</td>\n    </tr>\n    <tr>\n      <th>2096</th>\n      <td>1969</td>\n      <td>1969</td>\n      <td>F-C</td>\n      <td>4</td>\n    </tr>\n    <tr>\n      <th>487</th>\n      <td>1989</td>\n      <td>2003</td>\n      <td>F-C</td>\n      <td>4</td>\n    </tr>\n    <tr>\n      <th>2233</th>\n      <td>1947</td>\n      <td>1949</td>\n      <td>F-C</td>\n      <td>4</td>\n    </tr>\n  </tbody>\n</table>\n</div>"
     },
     "metadata": {},
     "execution_count": 14
    }
   ],
   "source": [
    "# Apliquem l'algoritme per a Stratified Sampling\n",
    "nba_strat, statistics = sampling_strat(nba_trimmed, 'position_numeric')\n",
    "print(statistics)\n",
    "nba_strat.head()\n"
   ]
  },
  {
   "cell_type": "code",
   "execution_count": 15,
   "metadata": {},
   "outputs": [
    {
     "output_type": "execute_result",
     "data": {
      "text/plain": [
       "                 year_start              year_end             \n",
       "                      count         mean    count         mean\n",
       "position_numeric                                              \n",
       "1                       450  1986.317778      450  1989.993333\n",
       "2                       162  1974.796296      162  1979.759259\n",
       "3                       361  1987.229917      361  1990.556787\n",
       "4                       169  1978.532544      169  1984.502959\n",
       "5                       122  1987.491803      122  1992.336066"
      ],
      "text/html": "<div>\n<style scoped>\n    .dataframe tbody tr th:only-of-type {\n        vertical-align: middle;\n    }\n\n    .dataframe tbody tr th {\n        vertical-align: top;\n    }\n\n    .dataframe thead tr th {\n        text-align: left;\n    }\n\n    .dataframe thead tr:last-of-type th {\n        text-align: right;\n    }\n</style>\n<table border=\"1\" class=\"dataframe\">\n  <thead>\n    <tr>\n      <th></th>\n      <th colspan=\"2\" halign=\"left\">year_start</th>\n      <th colspan=\"2\" halign=\"left\">year_end</th>\n    </tr>\n    <tr>\n      <th></th>\n      <th>count</th>\n      <th>mean</th>\n      <th>count</th>\n      <th>mean</th>\n    </tr>\n    <tr>\n      <th>position_numeric</th>\n      <th></th>\n      <th></th>\n      <th></th>\n      <th></th>\n    </tr>\n  </thead>\n  <tbody>\n    <tr>\n      <th>1</th>\n      <td>450</td>\n      <td>1986.317778</td>\n      <td>450</td>\n      <td>1989.993333</td>\n    </tr>\n    <tr>\n      <th>2</th>\n      <td>162</td>\n      <td>1974.796296</td>\n      <td>162</td>\n      <td>1979.759259</td>\n    </tr>\n    <tr>\n      <th>3</th>\n      <td>361</td>\n      <td>1987.229917</td>\n      <td>361</td>\n      <td>1990.556787</td>\n    </tr>\n    <tr>\n      <th>4</th>\n      <td>169</td>\n      <td>1978.532544</td>\n      <td>169</td>\n      <td>1984.502959</td>\n    </tr>\n    <tr>\n      <th>5</th>\n      <td>122</td>\n      <td>1987.491803</td>\n      <td>122</td>\n      <td>1992.336066</td>\n    </tr>\n  </tbody>\n</table>\n</div>"
     },
     "metadata": {},
     "execution_count": 15
    }
   ],
   "source": [
    "nba_strat.groupby('position_numeric').aggregate(['count', 'mean'])"
   ]
  },
  {
   "cell_type": "code",
   "execution_count": 55,
   "metadata": {},
   "outputs": [],
   "source": [
    "#Algoritme per SMOTE\n",
    "def sampling_SMOTE (X, y, random_state=42):\n",
    "    df_out = pd.DataFrame()\n",
    "    sm = SMOTE(sampling_strategy='not majority', random_state=random_state)\n",
    "    X_res, y_res = sm.fit_resample(X, y)\n",
    "    #outputs:\n",
    "    metrics = f'Origial dataset shape:\\n{Counter(y)}\\n\\nResampled dataset shape:\\n{Counter(y_res)}\\n\\nX:{list(X.columns)} Y: {y.name}\\n'\n",
    "    df_out = pd.DataFrame(X_res, columns=X.columns)\n",
    "    df_out[y.name] = y_res\n",
    "    return df_out, metrics"
   ]
  },
  {
   "cell_type": "code",
   "execution_count": 56,
   "metadata": {},
   "outputs": [
    {
     "output_type": "stream",
     "name": "stdout",
     "text": [
      "Origial dataset shape:\nCounter({1: 1501, 3: 1202, 4: 563, 2: 541, 5: 406})\n\nResampled dataset shape:\nCounter({4: 1501, 5: 1501, 1: 1501, 3: 1501, 2: 1501})\n\nX:['year_start', 'year_end'] Y: position_numeric\n\n"
     ]
    },
    {
     "output_type": "execute_result",
     "data": {
      "text/plain": [
       "   year_start  year_end  position_numeric\n",
       "0        1991      1995                 4\n",
       "1        1969      1978                 4\n",
       "2        1970      1989                 5\n",
       "3        1991      2001                 1\n",
       "4        1998      2003                 3"
      ],
      "text/html": "<div>\n<style scoped>\n    .dataframe tbody tr th:only-of-type {\n        vertical-align: middle;\n    }\n\n    .dataframe tbody tr th {\n        vertical-align: top;\n    }\n\n    .dataframe thead th {\n        text-align: right;\n    }\n</style>\n<table border=\"1\" class=\"dataframe\">\n  <thead>\n    <tr style=\"text-align: right;\">\n      <th></th>\n      <th>year_start</th>\n      <th>year_end</th>\n      <th>position_numeric</th>\n    </tr>\n  </thead>\n  <tbody>\n    <tr>\n      <th>0</th>\n      <td>1991</td>\n      <td>1995</td>\n      <td>4</td>\n    </tr>\n    <tr>\n      <th>1</th>\n      <td>1969</td>\n      <td>1978</td>\n      <td>4</td>\n    </tr>\n    <tr>\n      <th>2</th>\n      <td>1970</td>\n      <td>1989</td>\n      <td>5</td>\n    </tr>\n    <tr>\n      <th>3</th>\n      <td>1991</td>\n      <td>2001</td>\n      <td>1</td>\n    </tr>\n    <tr>\n      <th>4</th>\n      <td>1998</td>\n      <td>2003</td>\n      <td>3</td>\n    </tr>\n  </tbody>\n</table>\n</div>"
     },
     "metadata": {},
     "execution_count": 56
    }
   ],
   "source": [
    "#Apliquem l'algoritme per SMOTE sampling:\n",
    "nba_SMOTE, metrics = sampling_SMOTE( X=nba_trimmed[['year_start', 'year_end']], y=nba_trimmed['position_numeric'])\n",
    "print(metrics)\n",
    "nba_SMOTE.head()"
   ]
  },
  {
   "cell_type": "code",
   "execution_count": 43,
   "metadata": {},
   "outputs": [
    {
     "output_type": "execute_result",
     "data": {
      "text/plain": [
       "                 year_start              year_end             \n",
       "                      count         mean    count         mean\n",
       "position_numeric                                              \n",
       "1                      1501  1986.443038     1501  1990.238508\n",
       "2                      1501  1977.395736     1501  1982.844770\n",
       "3                      1501  1986.287142     1501  1989.393738\n",
       "4                      1501  1978.519654     1501  1984.706862\n",
       "5                      1501  1985.492338     1501  1989.604930"
      ],
      "text/html": "<div>\n<style scoped>\n    .dataframe tbody tr th:only-of-type {\n        vertical-align: middle;\n    }\n\n    .dataframe tbody tr th {\n        vertical-align: top;\n    }\n\n    .dataframe thead tr th {\n        text-align: left;\n    }\n\n    .dataframe thead tr:last-of-type th {\n        text-align: right;\n    }\n</style>\n<table border=\"1\" class=\"dataframe\">\n  <thead>\n    <tr>\n      <th></th>\n      <th colspan=\"2\" halign=\"left\">year_start</th>\n      <th colspan=\"2\" halign=\"left\">year_end</th>\n    </tr>\n    <tr>\n      <th></th>\n      <th>count</th>\n      <th>mean</th>\n      <th>count</th>\n      <th>mean</th>\n    </tr>\n    <tr>\n      <th>position_numeric</th>\n      <th></th>\n      <th></th>\n      <th></th>\n      <th></th>\n    </tr>\n  </thead>\n  <tbody>\n    <tr>\n      <th>1</th>\n      <td>1501</td>\n      <td>1986.443038</td>\n      <td>1501</td>\n      <td>1990.238508</td>\n    </tr>\n    <tr>\n      <th>2</th>\n      <td>1501</td>\n      <td>1977.395736</td>\n      <td>1501</td>\n      <td>1982.844770</td>\n    </tr>\n    <tr>\n      <th>3</th>\n      <td>1501</td>\n      <td>1986.287142</td>\n      <td>1501</td>\n      <td>1989.393738</td>\n    </tr>\n    <tr>\n      <th>4</th>\n      <td>1501</td>\n      <td>1978.519654</td>\n      <td>1501</td>\n      <td>1984.706862</td>\n    </tr>\n    <tr>\n      <th>5</th>\n      <td>1501</td>\n      <td>1985.492338</td>\n      <td>1501</td>\n      <td>1989.604930</td>\n    </tr>\n  </tbody>\n</table>\n</div>"
     },
     "metadata": {},
     "execution_count": 43
    }
   ],
   "source": [
    "nba_SMOTE.groupby('position_numeric').aggregate(['count', 'mean'])"
   ]
  },
  {
   "source": [
    "Nivell 3\n",
    "\n",
    "- Exercici 3\n",
    "\n",
    "Continua amb el conjunt de dades de tema esportiu i genera una mostra utilitzant el mètode Reservoir sampling."
   ],
   "cell_type": "markdown",
   "metadata": {}
  },
  {
   "cell_type": "code",
   "execution_count": 46,
   "metadata": {
    "tags": []
   },
   "outputs": [],
   "source": [
    "#Definim l'algoritme pel reservoir sampling\n",
    "def sampling_reservoir (df, K=30):\n",
    "    stream = len(df) # per simular un stream definim el llarg del dataframe per iterar sobre cada fila\n",
    "    df_out = pd.DataFrame()\n",
    "    for item in range(stream): # fem tantes iteracions como lineas te el dataframe \n",
    "        if item < K: #guardem els primers items fins que arribem a una mostra = K\n",
    "            df_out = df_out.append(df.iloc[item])\n",
    "        if item >= K: # per els seguents items apliquem les recles de probabilitat en funció de la seva possició\n",
    "            p = K / item\n",
    "            rand = random.random()\n",
    "            if rand < p: \n",
    "                index_list = df_out.index\n",
    "                randloc = random.choice(index_list)\n",
    "                # print(df.iloc[item])  #Test per comprobar que els items que s'indexen son mes grans a K\n",
    "                df_out.iloc[randloc] = df.iloc[item]\n",
    "            # Outputs:\n",
    "            parameters = f'K= {K}'\n",
    "            return df_out, parameters"
   ]
  },
  {
   "cell_type": "code",
   "execution_count": 48,
   "metadata": {},
   "outputs": [
    {
     "output_type": "stream",
     "name": "stdout",
     "text": [
      "K= 30\n"
     ]
    },
    {
     "output_type": "execute_result",
     "data": {
      "text/plain": [
       "   position  position_numeric year_end  year_start\n",
       "0       F-C               4.0   1995.0      1991.0\n",
       "1       C-F               4.0   1978.0      1969.0\n",
       "2         C               5.0   1989.0      1970.0\n",
       "3         G               1.0   2001.0      1991.0\n",
       "4         F               3.0   2003.0      1998.0\n",
       "5         F               3.0   2008.0      1997.0\n",
       "6         F               3.0   1981.0      1977.0\n",
       "7      1968            1968.0        F         3.0\n",
       "8         F               3.0   1948.0      1947.0\n",
       "9         G               1.0   2009.0      2006.0\n",
       "10        G               1.0   1954.0      1954.0\n",
       "11      F-C               4.0   1993.0      1988.0\n",
       "12        F               3.0   1968.0      1968.0\n",
       "13        F               3.0   2018.0      2013.0\n",
       "14      C-F               4.0   1988.0      1976.0\n",
       "15        F               3.0   1977.0      1971.0\n",
       "16      F-G               2.0   1975.0      1973.0\n",
       "17        G               1.0   2009.0      2007.0\n",
       "18        G               1.0   2016.0      2015.0\n",
       "19        G               1.0   1996.0      1986.0\n",
       "20        C               5.0   2018.0      2014.0\n",
       "21      F-G               2.0   1997.0      1987.0\n",
       "22      C-F               4.0   2018.0      2018.0\n",
       "23        G               1.0   1975.0      1969.0\n",
       "24        F               3.0   2015.0      2011.0\n",
       "25        G               1.0   2018.0      2008.0\n",
       "26        G               1.0   2011.0      2007.0\n",
       "27      F-G               2.0   1994.0      1982.0\n",
       "28        G               1.0   2012.0      2008.0\n",
       "29        G               1.0   1995.0      1982.0"
      ],
      "text/html": "<div>\n<style scoped>\n    .dataframe tbody tr th:only-of-type {\n        vertical-align: middle;\n    }\n\n    .dataframe tbody tr th {\n        vertical-align: top;\n    }\n\n    .dataframe thead th {\n        text-align: right;\n    }\n</style>\n<table border=\"1\" class=\"dataframe\">\n  <thead>\n    <tr style=\"text-align: right;\">\n      <th></th>\n      <th>position</th>\n      <th>position_numeric</th>\n      <th>year_end</th>\n      <th>year_start</th>\n    </tr>\n  </thead>\n  <tbody>\n    <tr>\n      <th>0</th>\n      <td>F-C</td>\n      <td>4.0</td>\n      <td>1995.0</td>\n      <td>1991.0</td>\n    </tr>\n    <tr>\n      <th>1</th>\n      <td>C-F</td>\n      <td>4.0</td>\n      <td>1978.0</td>\n      <td>1969.0</td>\n    </tr>\n    <tr>\n      <th>2</th>\n      <td>C</td>\n      <td>5.0</td>\n      <td>1989.0</td>\n      <td>1970.0</td>\n    </tr>\n    <tr>\n      <th>3</th>\n      <td>G</td>\n      <td>1.0</td>\n      <td>2001.0</td>\n      <td>1991.0</td>\n    </tr>\n    <tr>\n      <th>4</th>\n      <td>F</td>\n      <td>3.0</td>\n      <td>2003.0</td>\n      <td>1998.0</td>\n    </tr>\n    <tr>\n      <th>5</th>\n      <td>F</td>\n      <td>3.0</td>\n      <td>2008.0</td>\n      <td>1997.0</td>\n    </tr>\n    <tr>\n      <th>6</th>\n      <td>F</td>\n      <td>3.0</td>\n      <td>1981.0</td>\n      <td>1977.0</td>\n    </tr>\n    <tr>\n      <th>7</th>\n      <td>1968</td>\n      <td>1968.0</td>\n      <td>F</td>\n      <td>3.0</td>\n    </tr>\n    <tr>\n      <th>8</th>\n      <td>F</td>\n      <td>3.0</td>\n      <td>1948.0</td>\n      <td>1947.0</td>\n    </tr>\n    <tr>\n      <th>9</th>\n      <td>G</td>\n      <td>1.0</td>\n      <td>2009.0</td>\n      <td>2006.0</td>\n    </tr>\n    <tr>\n      <th>10</th>\n      <td>G</td>\n      <td>1.0</td>\n      <td>1954.0</td>\n      <td>1954.0</td>\n    </tr>\n    <tr>\n      <th>11</th>\n      <td>F-C</td>\n      <td>4.0</td>\n      <td>1993.0</td>\n      <td>1988.0</td>\n    </tr>\n    <tr>\n      <th>12</th>\n      <td>F</td>\n      <td>3.0</td>\n      <td>1968.0</td>\n      <td>1968.0</td>\n    </tr>\n    <tr>\n      <th>13</th>\n      <td>F</td>\n      <td>3.0</td>\n      <td>2018.0</td>\n      <td>2013.0</td>\n    </tr>\n    <tr>\n      <th>14</th>\n      <td>C-F</td>\n      <td>4.0</td>\n      <td>1988.0</td>\n      <td>1976.0</td>\n    </tr>\n    <tr>\n      <th>15</th>\n      <td>F</td>\n      <td>3.0</td>\n      <td>1977.0</td>\n      <td>1971.0</td>\n    </tr>\n    <tr>\n      <th>16</th>\n      <td>F-G</td>\n      <td>2.0</td>\n      <td>1975.0</td>\n      <td>1973.0</td>\n    </tr>\n    <tr>\n      <th>17</th>\n      <td>G</td>\n      <td>1.0</td>\n      <td>2009.0</td>\n      <td>2007.0</td>\n    </tr>\n    <tr>\n      <th>18</th>\n      <td>G</td>\n      <td>1.0</td>\n      <td>2016.0</td>\n      <td>2015.0</td>\n    </tr>\n    <tr>\n      <th>19</th>\n      <td>G</td>\n      <td>1.0</td>\n      <td>1996.0</td>\n      <td>1986.0</td>\n    </tr>\n    <tr>\n      <th>20</th>\n      <td>C</td>\n      <td>5.0</td>\n      <td>2018.0</td>\n      <td>2014.0</td>\n    </tr>\n    <tr>\n      <th>21</th>\n      <td>F-G</td>\n      <td>2.0</td>\n      <td>1997.0</td>\n      <td>1987.0</td>\n    </tr>\n    <tr>\n      <th>22</th>\n      <td>C-F</td>\n      <td>4.0</td>\n      <td>2018.0</td>\n      <td>2018.0</td>\n    </tr>\n    <tr>\n      <th>23</th>\n      <td>G</td>\n      <td>1.0</td>\n      <td>1975.0</td>\n      <td>1969.0</td>\n    </tr>\n    <tr>\n      <th>24</th>\n      <td>F</td>\n      <td>3.0</td>\n      <td>2015.0</td>\n      <td>2011.0</td>\n    </tr>\n    <tr>\n      <th>25</th>\n      <td>G</td>\n      <td>1.0</td>\n      <td>2018.0</td>\n      <td>2008.0</td>\n    </tr>\n    <tr>\n      <th>26</th>\n      <td>G</td>\n      <td>1.0</td>\n      <td>2011.0</td>\n      <td>2007.0</td>\n    </tr>\n    <tr>\n      <th>27</th>\n      <td>F-G</td>\n      <td>2.0</td>\n      <td>1994.0</td>\n      <td>1982.0</td>\n    </tr>\n    <tr>\n      <th>28</th>\n      <td>G</td>\n      <td>1.0</td>\n      <td>2012.0</td>\n      <td>2008.0</td>\n    </tr>\n    <tr>\n      <th>29</th>\n      <td>G</td>\n      <td>1.0</td>\n      <td>1995.0</td>\n      <td>1982.0</td>\n    </tr>\n  </tbody>\n</table>\n</div>"
     },
     "metadata": {},
     "execution_count": 48
    }
   ],
   "source": [
    "nba_reservoir, parameters = sampling_reservoir(nba_trimmed)\n",
    "print(parameters)\n",
    "nba_reservoir"
   ]
  },
  {
   "cell_type": "code",
   "execution_count": 54,
   "metadata": {},
   "outputs": [
    {
     "output_type": "execute_result",
     "data": {
      "text/plain": [
       "       position  position_numeric  year_end   year_start\n",
       "count        30         30.000000      30.0    30.000000\n",
       "unique        7               NaN      24.0          NaN\n",
       "top           G               NaN    2018.0          NaN\n",
       "freq         11               NaN       4.0          NaN\n",
       "mean        NaN         67.966667       NaN  1922.866667\n",
       "std         NaN        358.861464       NaN   363.109059\n",
       "min         NaN          1.000000       NaN     3.000000\n",
       "25%         NaN          1.000000       NaN  1971.500000\n",
       "50%         NaN          3.000000       NaN  1987.500000\n",
       "75%         NaN          3.750000       NaN  2007.000000\n",
       "max         NaN       1968.000000       NaN  2018.000000"
      ],
      "text/html": "<div>\n<style scoped>\n    .dataframe tbody tr th:only-of-type {\n        vertical-align: middle;\n    }\n\n    .dataframe tbody tr th {\n        vertical-align: top;\n    }\n\n    .dataframe thead th {\n        text-align: right;\n    }\n</style>\n<table border=\"1\" class=\"dataframe\">\n  <thead>\n    <tr style=\"text-align: right;\">\n      <th></th>\n      <th>position</th>\n      <th>position_numeric</th>\n      <th>year_end</th>\n      <th>year_start</th>\n    </tr>\n  </thead>\n  <tbody>\n    <tr>\n      <th>count</th>\n      <td>30</td>\n      <td>30.000000</td>\n      <td>30.0</td>\n      <td>30.000000</td>\n    </tr>\n    <tr>\n      <th>unique</th>\n      <td>7</td>\n      <td>NaN</td>\n      <td>24.0</td>\n      <td>NaN</td>\n    </tr>\n    <tr>\n      <th>top</th>\n      <td>G</td>\n      <td>NaN</td>\n      <td>2018.0</td>\n      <td>NaN</td>\n    </tr>\n    <tr>\n      <th>freq</th>\n      <td>11</td>\n      <td>NaN</td>\n      <td>4.0</td>\n      <td>NaN</td>\n    </tr>\n    <tr>\n      <th>mean</th>\n      <td>NaN</td>\n      <td>67.966667</td>\n      <td>NaN</td>\n      <td>1922.866667</td>\n    </tr>\n    <tr>\n      <th>std</th>\n      <td>NaN</td>\n      <td>358.861464</td>\n      <td>NaN</td>\n      <td>363.109059</td>\n    </tr>\n    <tr>\n      <th>min</th>\n      <td>NaN</td>\n      <td>1.000000</td>\n      <td>NaN</td>\n      <td>3.000000</td>\n    </tr>\n    <tr>\n      <th>25%</th>\n      <td>NaN</td>\n      <td>1.000000</td>\n      <td>NaN</td>\n      <td>1971.500000</td>\n    </tr>\n    <tr>\n      <th>50%</th>\n      <td>NaN</td>\n      <td>3.000000</td>\n      <td>NaN</td>\n      <td>1987.500000</td>\n    </tr>\n    <tr>\n      <th>75%</th>\n      <td>NaN</td>\n      <td>3.750000</td>\n      <td>NaN</td>\n      <td>2007.000000</td>\n    </tr>\n    <tr>\n      <th>max</th>\n      <td>NaN</td>\n      <td>1968.000000</td>\n      <td>NaN</td>\n      <td>2018.000000</td>\n    </tr>\n  </tbody>\n</table>\n</div>"
     },
     "metadata": {},
     "execution_count": 54
    }
   ],
   "source": [
    "nba_reservoir.describe(include='all')"
   ]
  }
 ]
}