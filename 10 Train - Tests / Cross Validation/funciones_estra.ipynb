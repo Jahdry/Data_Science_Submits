{
 "metadata": {
  "language_info": {
   "codemirror_mode": {
    "name": "ipython",
    "version": 3
   },
   "file_extension": ".py",
   "mimetype": "text/x-python",
   "name": "python",
   "nbconvert_exporter": "python",
   "pygments_lexer": "ipython3",
   "version": 3
  },
  "orig_nbformat": 2
 },
 "nbformat": 4,
 "nbformat_minor": 2,
 "cells": [
  {
   "cell_type": "code",
   "execution_count": null,
   "metadata": {},
   "outputs": [],
   "source": [
    "times = pd.DataFrame(columns=['DepDate', 'DepTime','CRSDepTime','ArrTime','CRSArrTime'])\n",
    "times[['DepTime','CRSDepTime','ArrTime','CRSArrTime']] = flights[['DepTime','CRSDepTime','ArrTime','CRSArrTime']].astype(int).astype(str)\n",
    "\n",
    "#for ind in times.index: \n",
    "    # times['DepTime'][ind] = times['DepTime'][ind].zfill(4)\n",
    "    # times['CRSDepTime'][ind] = times['CRSDepTime'][ind].zfill(4)\n",
    "    # times['ArrTime'][ind] = times['ArrTime'][ind].zfill(4)\n",
    "    # times['CRSArrTime'][ind] = times['CRSArrTime'][ind].zfill(4)\n",
    "    # a = flights.at[ind,'Year']\n",
    "    # b = flights.at[ind,'Month']\n",
    "    # c = flights.at[ind,'DayofMonth']\n",
    "    # time_str = f'{a}/{b}/{c}'\n",
    "    # times['DepDate'][ind] = time_str"
   ]
  }
 ]
}