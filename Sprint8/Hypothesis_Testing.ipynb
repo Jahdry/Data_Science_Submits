{
 "metadata": {
  "language_info": {
   "codemirror_mode": {
    "name": "ipython",
    "version": 3
   },
   "file_extension": ".py",
   "mimetype": "text/x-python",
   "name": "python",
   "nbconvert_exporter": "python",
   "pygments_lexer": "ipython3",
   "version": "3.8.5"
  },
  "orig_nbformat": 2,
  "kernelspec": {
   "name": "python385jvsc74a57bd0dca0ade3e726a953b501b15e8e990130d2b7799f14cfd9f4271676035ebe5511",
   "display_name": "Python 3.8.5 64-bit ('base': conda)"
  }
 },
 "nbformat": 4,
 "nbformat_minor": 2,
 "cells": [
  {
   "cell_type": "code",
   "execution_count": 2,
   "metadata": {},
   "outputs": [],
   "source": [
    "import pandas as pd\n",
    "import numpy as np \n",
    "import seaborn as sns\n",
    "import matplotlib.pyplot as plt \n",
    "from scipy import stats\n",
    "import random"
   ]
  },
  {
   "source": [
    "# Tasca del test d'hipòtesis\n",
    "\n",
    "## Nivell 1\n",
    "\n",
    "- Exercici 1: Agafa un conjunt de dades de tema esportiu que t'agradi i selecciona un atribut del conjunt de dades. Calcula el p-valor i digues si rebutja la hipòtesi nul·la agafant un alfa de 5%. "
   ],
   "cell_type": "markdown",
   "metadata": {}
  },
  {
   "cell_type": "code",
   "execution_count": 3,
   "metadata": {},
   "outputs": [],
   "source": [
    "# Importem el fitxer csv per crear el dataframe\n",
    "nba_players = pd.read_csv('../db/NBA PLAYERS STATS/player_data.csv', index_col=0)\n",
    "#Eiminem les files sense dades\n",
    "nba_players.dropna(inplace=True)"
   ]
  },
  {
   "cell_type": "code",
   "execution_count": 4,
   "metadata": {},
   "outputs": [],
   "source": [
    "# Afegim la columna amb les possiciones traduides a numeros\n",
    "position_numeric = []\n",
    "for item in nba_players['position']: \n",
    "    if item == 'C': \n",
    "        position_numeric.append(5)\n",
    "    elif item == 'C-F': \n",
    "        position_numeric.append(4)\n",
    "    elif item == 'F-C': \n",
    "        position_numeric.append(4)\n",
    "    elif item == 'F':\n",
    "        position_numeric.append(3)\n",
    "    elif item == 'F-G':\n",
    "        position_numeric.append(2)\n",
    "    elif item == 'G-F':\n",
    "        position_numeric.append(2)\n",
    "    elif item == 'G':\n",
    "        position_numeric.append(1)\n",
    "   \n",
    "nba_players.insert(3, 'position_numeric', position_numeric)"
   ]
  },
  {
   "cell_type": "code",
   "execution_count": 5,
   "metadata": {},
   "outputs": [],
   "source": [
    "# Afegim una columna amb l'alçada en cm. \n",
    "height_cm = []\n",
    "for item in nba_players['height']:\n",
    "    foot, inches = item.split('-')\n",
    "    height = int((int(foot))*30.48 + (int(inches)*2.54))\n",
    "    height_cm.append(height)\n",
    "\n",
    "nba_players.insert(5, 'height cm', height_cm)"
   ]
  },
  {
   "cell_type": "code",
   "execution_count": 6,
   "metadata": {},
   "outputs": [],
   "source": [
    "# Agfegim Columna pes en Kg\n",
    "\n",
    "weight_kg = []\n",
    "for item in nba_players['weight']: \n",
    "    weight = item * 453.6 /1000\n",
    "    weight_kg.append(weight)\n",
    "\n",
    "nba_players.insert(7, 'weight Kg', weight_kg)"
   ]
  },
  {
   "cell_type": "code",
   "execution_count": 7,
   "metadata": {},
   "outputs": [],
   "source": [
    "# Guardem el nou dataframe com a csv\n",
    "nba_players.to_csv('../db/NBA PLAYERS STATS/player_data_Eur_units.csv')"
   ]
  },
  {
   "cell_type": "code",
   "execution_count": 8,
   "metadata": {},
   "outputs": [
    {
     "output_type": "execute_result",
     "data": {
      "text/plain": [
       "                     year_start  year_end position  position_numeric height  \\\n",
       "name                                                                          \n",
       "Alaa Abdelnaby             1991      1995      F-C                 4   6-10   \n",
       "Zaid Abdul-Aziz            1969      1978      C-F                 4    6-9   \n",
       "Kareem Abdul-Jabbar        1970      1989        C                 5    7-2   \n",
       "Mahmoud Abdul-Rauf         1991      2001        G                 1    6-1   \n",
       "Tariq Abdul-Wahad          1998      2003        F                 3    6-6   \n",
       "\n",
       "                     height cm  weight  weight Kg        birth_date  \\\n",
       "name                                                                  \n",
       "Alaa Abdelnaby             208   240.0   108.8640     June 24, 1968   \n",
       "Zaid Abdul-Aziz            205   235.0   106.5960     April 7, 1946   \n",
       "Kareem Abdul-Jabbar        218   225.0   102.0600    April 16, 1947   \n",
       "Mahmoud Abdul-Rauf         185   162.0    73.4832     March 9, 1969   \n",
       "Tariq Abdul-Wahad          198   223.0   101.1528  November 3, 1974   \n",
       "\n",
       "                                                   college  \n",
       "name                                                        \n",
       "Alaa Abdelnaby                             Duke University  \n",
       "Zaid Abdul-Aziz                      Iowa State University  \n",
       "Kareem Abdul-Jabbar  University of California, Los Angeles  \n",
       "Mahmoud Abdul-Rauf              Louisiana State University  \n",
       "Tariq Abdul-Wahad                San Jose State University  "
      ],
      "text/html": "<div>\n<style scoped>\n    .dataframe tbody tr th:only-of-type {\n        vertical-align: middle;\n    }\n\n    .dataframe tbody tr th {\n        vertical-align: top;\n    }\n\n    .dataframe thead th {\n        text-align: right;\n    }\n</style>\n<table border=\"1\" class=\"dataframe\">\n  <thead>\n    <tr style=\"text-align: right;\">\n      <th></th>\n      <th>year_start</th>\n      <th>year_end</th>\n      <th>position</th>\n      <th>position_numeric</th>\n      <th>height</th>\n      <th>height cm</th>\n      <th>weight</th>\n      <th>weight Kg</th>\n      <th>birth_date</th>\n      <th>college</th>\n    </tr>\n    <tr>\n      <th>name</th>\n      <th></th>\n      <th></th>\n      <th></th>\n      <th></th>\n      <th></th>\n      <th></th>\n      <th></th>\n      <th></th>\n      <th></th>\n      <th></th>\n    </tr>\n  </thead>\n  <tbody>\n    <tr>\n      <th>Alaa Abdelnaby</th>\n      <td>1991</td>\n      <td>1995</td>\n      <td>F-C</td>\n      <td>4</td>\n      <td>6-10</td>\n      <td>208</td>\n      <td>240.0</td>\n      <td>108.8640</td>\n      <td>June 24, 1968</td>\n      <td>Duke University</td>\n    </tr>\n    <tr>\n      <th>Zaid Abdul-Aziz</th>\n      <td>1969</td>\n      <td>1978</td>\n      <td>C-F</td>\n      <td>4</td>\n      <td>6-9</td>\n      <td>205</td>\n      <td>235.0</td>\n      <td>106.5960</td>\n      <td>April 7, 1946</td>\n      <td>Iowa State University</td>\n    </tr>\n    <tr>\n      <th>Kareem Abdul-Jabbar</th>\n      <td>1970</td>\n      <td>1989</td>\n      <td>C</td>\n      <td>5</td>\n      <td>7-2</td>\n      <td>218</td>\n      <td>225.0</td>\n      <td>102.0600</td>\n      <td>April 16, 1947</td>\n      <td>University of California, Los Angeles</td>\n    </tr>\n    <tr>\n      <th>Mahmoud Abdul-Rauf</th>\n      <td>1991</td>\n      <td>2001</td>\n      <td>G</td>\n      <td>1</td>\n      <td>6-1</td>\n      <td>185</td>\n      <td>162.0</td>\n      <td>73.4832</td>\n      <td>March 9, 1969</td>\n      <td>Louisiana State University</td>\n    </tr>\n    <tr>\n      <th>Tariq Abdul-Wahad</th>\n      <td>1998</td>\n      <td>2003</td>\n      <td>F</td>\n      <td>3</td>\n      <td>6-6</td>\n      <td>198</td>\n      <td>223.0</td>\n      <td>101.1528</td>\n      <td>November 3, 1974</td>\n      <td>San Jose State University</td>\n    </tr>\n  </tbody>\n</table>\n</div>"
     },
     "metadata": {},
     "execution_count": 8
    }
   ],
   "source": [
    "nba_players.head()"
   ]
  },
  {
   "cell_type": "code",
   "execution_count": 9,
   "metadata": {},
   "outputs": [
    {
     "output_type": "execute_result",
     "data": {
      "text/plain": [
       "        year_start     year_end  position_numeric    height cm       weight  \\\n",
       "count  4213.000000  4213.000000       4213.000000  4213.000000  4213.000000   \n",
       "mean   1984.062663  1988.267505          2.485402   197.235224   207.716117   \n",
       "std      20.699757    21.592122          1.344712     9.045153    25.447824   \n",
       "min    1947.000000  1947.000000          1.000000   160.000000   133.000000   \n",
       "25%    1969.000000  1972.000000          1.000000   190.000000   189.000000   \n",
       "50%    1985.000000  1990.000000          3.000000   198.000000   205.000000   \n",
       "75%    2001.000000  2007.000000          3.000000   205.000000   225.000000   \n",
       "max    2018.000000  2018.000000          5.000000   231.000000   360.000000   \n",
       "\n",
       "         weight Kg  \n",
       "count  4213.000000  \n",
       "mean     94.220031  \n",
       "std      11.543133  \n",
       "min      60.328800  \n",
       "25%      85.730400  \n",
       "50%      92.988000  \n",
       "75%     102.060000  \n",
       "max     163.296000  "
      ],
      "text/html": "<div>\n<style scoped>\n    .dataframe tbody tr th:only-of-type {\n        vertical-align: middle;\n    }\n\n    .dataframe tbody tr th {\n        vertical-align: top;\n    }\n\n    .dataframe thead th {\n        text-align: right;\n    }\n</style>\n<table border=\"1\" class=\"dataframe\">\n  <thead>\n    <tr style=\"text-align: right;\">\n      <th></th>\n      <th>year_start</th>\n      <th>year_end</th>\n      <th>position_numeric</th>\n      <th>height cm</th>\n      <th>weight</th>\n      <th>weight Kg</th>\n    </tr>\n  </thead>\n  <tbody>\n    <tr>\n      <th>count</th>\n      <td>4213.000000</td>\n      <td>4213.000000</td>\n      <td>4213.000000</td>\n      <td>4213.000000</td>\n      <td>4213.000000</td>\n      <td>4213.000000</td>\n    </tr>\n    <tr>\n      <th>mean</th>\n      <td>1984.062663</td>\n      <td>1988.267505</td>\n      <td>2.485402</td>\n      <td>197.235224</td>\n      <td>207.716117</td>\n      <td>94.220031</td>\n    </tr>\n    <tr>\n      <th>std</th>\n      <td>20.699757</td>\n      <td>21.592122</td>\n      <td>1.344712</td>\n      <td>9.045153</td>\n      <td>25.447824</td>\n      <td>11.543133</td>\n    </tr>\n    <tr>\n      <th>min</th>\n      <td>1947.000000</td>\n      <td>1947.000000</td>\n      <td>1.000000</td>\n      <td>160.000000</td>\n      <td>133.000000</td>\n      <td>60.328800</td>\n    </tr>\n    <tr>\n      <th>25%</th>\n      <td>1969.000000</td>\n      <td>1972.000000</td>\n      <td>1.000000</td>\n      <td>190.000000</td>\n      <td>189.000000</td>\n      <td>85.730400</td>\n    </tr>\n    <tr>\n      <th>50%</th>\n      <td>1985.000000</td>\n      <td>1990.000000</td>\n      <td>3.000000</td>\n      <td>198.000000</td>\n      <td>205.000000</td>\n      <td>92.988000</td>\n    </tr>\n    <tr>\n      <th>75%</th>\n      <td>2001.000000</td>\n      <td>2007.000000</td>\n      <td>3.000000</td>\n      <td>205.000000</td>\n      <td>225.000000</td>\n      <td>102.060000</td>\n    </tr>\n    <tr>\n      <th>max</th>\n      <td>2018.000000</td>\n      <td>2018.000000</td>\n      <td>5.000000</td>\n      <td>231.000000</td>\n      <td>360.000000</td>\n      <td>163.296000</td>\n    </tr>\n  </tbody>\n</table>\n</div>"
     },
     "metadata": {},
     "execution_count": 9
    }
   ],
   "source": [
    "nba_players.describe()"
   ]
  },
  {
   "source": [
    "Per abordar el primer problema farem la seguent Hipótesis: La alçada dels Escortes(2) es mes alta que la dels Bases(1)\n",
    "\n",
    "H0 = μe <= μb\n",
    "\n",
    "H1 = μe > μb \n",
    "\n",
    "Ⲁ = 0.05\n"
   ],
   "cell_type": "markdown",
   "metadata": {}
  },
  {
   "cell_type": "code",
   "execution_count": 10,
   "metadata": {},
   "outputs": [],
   "source": [
    "#Creem la mostra amb la alçada dels escortes i la dels bases\n",
    "\n",
    "nba_bases = nba_players[nba_players.position_numeric == 1]\n",
    "nba_escoltes = nba_players[nba_players.position_numeric == 2]"
   ]
  },
  {
   "cell_type": "code",
   "execution_count": 11,
   "metadata": {},
   "outputs": [
    {
     "output_type": "execute_result",
     "data": {
      "text/plain": [
       "count    1501.000000\n",
       "mean      188.777482\n",
       "std         5.727808\n",
       "min       160.000000\n",
       "25%       185.000000\n",
       "50%       190.000000\n",
       "75%       193.000000\n",
       "max       203.000000\n",
       "Name: height cm, dtype: float64"
      ]
     },
     "metadata": {},
     "execution_count": 11
    }
   ],
   "source": [
    "nba_bases['height cm'].describe()"
   ]
  },
  {
   "cell_type": "code",
   "execution_count": 12,
   "metadata": {},
   "outputs": [
    {
     "output_type": "execute_result",
     "data": {
      "text/plain": [
       "count    541.000000\n",
       "mean     194.927911\n",
       "std        5.538115\n",
       "min      177.000000\n",
       "25%      193.000000\n",
       "50%      195.000000\n",
       "75%      198.000000\n",
       "max      208.000000\n",
       "Name: height cm, dtype: float64"
      ]
     },
     "metadata": {},
     "execution_count": 12
    }
   ],
   "source": [
    "nba_escoltes['height cm'].describe()"
   ]
  },
  {
   "cell_type": "code",
   "execution_count": 13,
   "metadata": {},
   "outputs": [
    {
     "output_type": "display_data",
     "data": {
      "text/plain": "<Figure size 432x288 with 1 Axes>",
      "image/svg+xml": "<?xml version=\"1.0\" encoding=\"utf-8\" standalone=\"no\"?>\n<!DOCTYPE svg PUBLIC \"-//W3C//DTD SVG 1.1//EN\"\n  \"http://www.w3.org/Graphics/SVG/1.1/DTD/svg11.dtd\">\n<!-- Created with matplotlib (https://matplotlib.org/) -->\n<svg height=\"262.19625pt\" version=\"1.1\" viewBox=\"0 0 399.151136 262.19625\" width=\"399.151136pt\" xmlns=\"http://www.w3.org/2000/svg\" xmlns:xlink=\"http://www.w3.org/1999/xlink\">\n <metadata>\n  <rdf:RDF xmlns:cc=\"http://creativecommons.org/ns#\" xmlns:dc=\"http://purl.org/dc/elements/1.1/\" xmlns:rdf=\"http://www.w3.org/1999/02/22-rdf-syntax-ns#\">\n   <cc:Work>\n    <dc:type rdf:resource=\"http://purl.org/dc/dcmitype/StillImage\"/>\n    <dc:date>2021-05-20T13:20:01.362579</dc:date>\n    <dc:format>image/svg+xml</dc:format>\n    <dc:creator>\n     <cc:Agent>\n      <dc:title>Matplotlib v3.3.2, https://matplotlib.org/</dc:title>\n     </cc:Agent>\n    </dc:creator>\n   </cc:Work>\n  </rdf:RDF>\n </metadata>\n <defs>\n  <style type=\"text/css\">*{stroke-linecap:butt;stroke-linejoin:round;}</style>\n </defs>\n <g id=\"figure_1\">\n  <g id=\"patch_1\">\n   <path d=\"M 0 262.19625 \nL 399.151136 262.19625 \nL 399.151136 0 \nL 0 0 \nz\n\" style=\"fill:none;\"/>\n  </g>\n  <g id=\"axes_1\">\n   <g id=\"patch_2\">\n    <path d=\"M 50.14375 224.64 \nL 384.94375 224.64 \nL 384.94375 7.2 \nL 50.14375 7.2 \nz\n\" style=\"fill:#ffffff;\"/>\n   </g>\n   <g id=\"patch_3\">\n    <path clip-path=\"url(#pbb69d87f2a)\" d=\"M 65.361932 224.64 \nL 73.166128 224.64 \nL 73.166128 224.64 \nL 65.361932 224.64 \nz\n\" style=\"fill:#2d1e3e;fill-opacity:0.5;stroke:#000000;stroke-linejoin:miter;stroke-width:0.78042;\"/>\n   </g>\n   <g id=\"patch_4\">\n    <path clip-path=\"url(#pbb69d87f2a)\" d=\"M 73.166128 224.64 \nL 80.970323 224.64 \nL 80.970323 224.64 \nL 73.166128 224.64 \nz\n\" style=\"fill:#2d1e3e;fill-opacity:0.5;stroke:#000000;stroke-linejoin:miter;stroke-width:0.78042;\"/>\n   </g>\n   <g id=\"patch_5\">\n    <path clip-path=\"url(#pbb69d87f2a)\" d=\"M 80.970323 224.64 \nL 88.774519 224.64 \nL 88.774519 224.64 \nL 80.970323 224.64 \nz\n\" style=\"fill:#2d1e3e;fill-opacity:0.5;stroke:#000000;stroke-linejoin:miter;stroke-width:0.78042;\"/>\n   </g>\n   <g id=\"patch_6\">\n    <path clip-path=\"url(#pbb69d87f2a)\" d=\"M 88.774519 224.64 \nL 96.578715 224.64 \nL 96.578715 224.64 \nL 88.774519 224.64 \nz\n\" style=\"fill:#2d1e3e;fill-opacity:0.5;stroke:#000000;stroke-linejoin:miter;stroke-width:0.78042;\"/>\n   </g>\n   <g id=\"patch_7\">\n    <path clip-path=\"url(#pbb69d87f2a)\" d=\"M 96.578715 224.64 \nL 104.382911 224.64 \nL 104.382911 224.64 \nL 96.578715 224.64 \nz\n\" style=\"fill:#2d1e3e;fill-opacity:0.5;stroke:#000000;stroke-linejoin:miter;stroke-width:0.78042;\"/>\n   </g>\n   <g id=\"patch_8\">\n    <path clip-path=\"url(#pbb69d87f2a)\" d=\"M 104.382911 224.64 \nL 112.187107 224.64 \nL 112.187107 224.64 \nL 104.382911 224.64 \nz\n\" style=\"fill:#2d1e3e;fill-opacity:0.5;stroke:#000000;stroke-linejoin:miter;stroke-width:0.78042;\"/>\n   </g>\n   <g id=\"patch_9\">\n    <path clip-path=\"url(#pbb69d87f2a)\" d=\"M 112.187107 224.64 \nL 119.991302 224.64 \nL 119.991302 224.64 \nL 112.187107 224.64 \nz\n\" style=\"fill:#2d1e3e;fill-opacity:0.5;stroke:#000000;stroke-linejoin:miter;stroke-width:0.78042;\"/>\n   </g>\n   <g id=\"patch_10\">\n    <path clip-path=\"url(#pbb69d87f2a)\" d=\"M 119.991302 224.64 \nL 127.795498 224.64 \nL 127.795498 224.64 \nL 119.991302 224.64 \nz\n\" style=\"fill:#2d1e3e;fill-opacity:0.5;stroke:#000000;stroke-linejoin:miter;stroke-width:0.78042;\"/>\n   </g>\n   <g id=\"patch_11\">\n    <path clip-path=\"url(#pbb69d87f2a)\" d=\"M 127.795498 224.64 \nL 135.599694 224.64 \nL 135.599694 224.64 \nL 127.795498 224.64 \nz\n\" style=\"fill:#2d1e3e;fill-opacity:0.5;stroke:#000000;stroke-linejoin:miter;stroke-width:0.78042;\"/>\n   </g>\n   <g id=\"patch_12\">\n    <path clip-path=\"url(#pbb69d87f2a)\" d=\"M 135.599694 224.64 \nL 143.40389 224.64 \nL 143.40389 224.64 \nL 135.599694 224.64 \nz\n\" style=\"fill:#2d1e3e;fill-opacity:0.5;stroke:#000000;stroke-linejoin:miter;stroke-width:0.78042;\"/>\n   </g>\n   <g id=\"patch_13\">\n    <path clip-path=\"url(#pbb69d87f2a)\" d=\"M 143.40389 224.64 \nL 151.208086 224.64 \nL 151.208086 224.64 \nL 143.40389 224.64 \nz\n\" style=\"fill:#2d1e3e;fill-opacity:0.5;stroke:#000000;stroke-linejoin:miter;stroke-width:0.78042;\"/>\n   </g>\n   <g id=\"patch_14\">\n    <path clip-path=\"url(#pbb69d87f2a)\" d=\"M 151.208086 224.64 \nL 159.012281 224.64 \nL 159.012281 224.64 \nL 151.208086 224.64 \nz\n\" style=\"fill:#2d1e3e;fill-opacity:0.5;stroke:#000000;stroke-linejoin:miter;stroke-width:0.78042;\"/>\n   </g>\n   <g id=\"patch_15\">\n    <path clip-path=\"url(#pbb69d87f2a)\" d=\"M 159.012281 224.64 \nL 166.816477 224.64 \nL 166.816477 224.64 \nL 159.012281 224.64 \nz\n\" style=\"fill:#2d1e3e;fill-opacity:0.5;stroke:#000000;stroke-linejoin:miter;stroke-width:0.78042;\"/>\n   </g>\n   <g id=\"patch_16\">\n    <path clip-path=\"url(#pbb69d87f2a)\" d=\"M 166.816477 224.64 \nL 174.620673 224.64 \nL 174.620673 222.512407 \nL 166.816477 222.512407 \nz\n\" style=\"fill:#2d1e3e;fill-opacity:0.5;stroke:#000000;stroke-linejoin:miter;stroke-width:0.78042;\"/>\n   </g>\n   <g id=\"patch_17\">\n    <path clip-path=\"url(#pbb69d87f2a)\" d=\"M 174.620673 224.64 \nL 182.424869 224.64 \nL 182.424869 224.64 \nL 174.620673 224.64 \nz\n\" style=\"fill:#2d1e3e;fill-opacity:0.5;stroke:#000000;stroke-linejoin:miter;stroke-width:0.78042;\"/>\n   </g>\n   <g id=\"patch_18\">\n    <path clip-path=\"url(#pbb69d87f2a)\" d=\"M 182.424869 224.64 \nL 190.229065 224.64 \nL 190.229065 224.64 \nL 182.424869 224.64 \nz\n\" style=\"fill:#2d1e3e;fill-opacity:0.5;stroke:#000000;stroke-linejoin:miter;stroke-width:0.78042;\"/>\n   </g>\n   <g id=\"patch_19\">\n    <path clip-path=\"url(#pbb69d87f2a)\" d=\"M 190.229065 224.64 \nL 198.03326 224.64 \nL 198.03326 219.675616 \nL 190.229065 219.675616 \nz\n\" style=\"fill:#2d1e3e;fill-opacity:0.5;stroke:#000000;stroke-linejoin:miter;stroke-width:0.78042;\"/>\n   </g>\n   <g id=\"patch_20\">\n    <path clip-path=\"url(#pbb69d87f2a)\" d=\"M 198.03326 224.64 \nL 205.837456 224.64 \nL 205.837456 217.548023 \nL 198.03326 217.548023 \nz\n\" style=\"fill:#2d1e3e;fill-opacity:0.5;stroke:#000000;stroke-linejoin:miter;stroke-width:0.78042;\"/>\n   </g>\n   <g id=\"patch_21\">\n    <path clip-path=\"url(#pbb69d87f2a)\" d=\"M 205.837456 224.64 \nL 213.641652 224.64 \nL 213.641652 224.64 \nL 205.837456 224.64 \nz\n\" style=\"fill:#2d1e3e;fill-opacity:0.5;stroke:#000000;stroke-linejoin:miter;stroke-width:0.78042;\"/>\n   </g>\n   <g id=\"patch_22\">\n    <path clip-path=\"url(#pbb69d87f2a)\" d=\"M 213.641652 224.64 \nL 221.445848 224.64 \nL 221.445848 224.64 \nL 213.641652 224.64 \nz\n\" style=\"fill:#2d1e3e;fill-opacity:0.5;stroke:#000000;stroke-linejoin:miter;stroke-width:0.78042;\"/>\n   </g>\n   <g id=\"patch_23\">\n    <path clip-path=\"url(#pbb69d87f2a)\" d=\"M 221.445848 224.64 \nL 229.250044 224.64 \nL 229.250044 214.711233 \nL 221.445848 214.711233 \nz\n\" style=\"fill:#2d1e3e;fill-opacity:0.5;stroke:#000000;stroke-linejoin:miter;stroke-width:0.78042;\"/>\n   </g>\n   <g id=\"patch_24\">\n    <path clip-path=\"url(#pbb69d87f2a)\" d=\"M 229.250044 224.64 \nL 237.05424 224.64 \nL 237.05424 188.47092 \nL 229.250044 188.47092 \nz\n\" style=\"fill:#2d1e3e;fill-opacity:0.5;stroke:#000000;stroke-linejoin:miter;stroke-width:0.78042;\"/>\n   </g>\n   <g id=\"patch_25\">\n    <path clip-path=\"url(#pbb69d87f2a)\" d=\"M 237.05424 224.64 \nL 244.858435 224.64 \nL 244.858435 224.64 \nL 237.05424 224.64 \nz\n\" style=\"fill:#2d1e3e;fill-opacity:0.5;stroke:#000000;stroke-linejoin:miter;stroke-width:0.78042;\"/>\n   </g>\n   <g id=\"patch_26\">\n    <path clip-path=\"url(#pbb69d87f2a)\" d=\"M 244.858435 224.64 \nL 252.662631 224.64 \nL 252.662631 224.64 \nL 244.858435 224.64 \nz\n\" style=\"fill:#2d1e3e;fill-opacity:0.5;stroke:#000000;stroke-linejoin:miter;stroke-width:0.78042;\"/>\n   </g>\n   <g id=\"patch_27\">\n    <path clip-path=\"url(#pbb69d87f2a)\" d=\"M 252.662631 224.64 \nL 260.466827 224.64 \nL 260.466827 193.435303 \nL 252.662631 193.435303 \nz\n\" style=\"fill:#2d1e3e;fill-opacity:0.5;stroke:#000000;stroke-linejoin:miter;stroke-width:0.78042;\"/>\n   </g>\n   <g id=\"patch_28\">\n    <path clip-path=\"url(#pbb69d87f2a)\" d=\"M 260.466827 224.64 \nL 268.271023 224.64 \nL 268.271023 224.64 \nL 260.466827 224.64 \nz\n\" style=\"fill:#2d1e3e;fill-opacity:0.5;stroke:#000000;stroke-linejoin:miter;stroke-width:0.78042;\"/>\n   </g>\n   <g id=\"patch_29\">\n    <path clip-path=\"url(#pbb69d87f2a)\" d=\"M 268.271023 224.64 \nL 276.075219 224.64 \nL 276.075219 184.924932 \nL 268.271023 184.924932 \nz\n\" style=\"fill:#2d1e3e;fill-opacity:0.5;stroke:#000000;stroke-linejoin:miter;stroke-width:0.78042;\"/>\n   </g>\n   <g id=\"patch_30\">\n    <path clip-path=\"url(#pbb69d87f2a)\" d=\"M 276.075219 224.64 \nL 283.879414 224.64 \nL 283.879414 224.64 \nL 276.075219 224.64 \nz\n\" style=\"fill:#2d1e3e;fill-opacity:0.5;stroke:#000000;stroke-linejoin:miter;stroke-width:0.78042;\"/>\n   </g>\n   <g id=\"patch_31\">\n    <path clip-path=\"url(#pbb69d87f2a)\" d=\"M 283.879414 224.64 \nL 291.68361 224.64 \nL 291.68361 142.373072 \nL 283.879414 142.373072 \nz\n\" style=\"fill:#2d1e3e;fill-opacity:0.5;stroke:#000000;stroke-linejoin:miter;stroke-width:0.78042;\"/>\n   </g>\n   <g id=\"patch_32\">\n    <path clip-path=\"url(#pbb69d87f2a)\" d=\"M 291.68361 224.64 \nL 299.487806 224.64 \nL 299.487806 224.64 \nL 291.68361 224.64 \nz\n\" style=\"fill:#2d1e3e;fill-opacity:0.5;stroke:#000000;stroke-linejoin:miter;stroke-width:0.78042;\"/>\n   </g>\n   <g id=\"patch_33\">\n    <path clip-path=\"url(#pbb69d87f2a)\" d=\"M 299.487806 224.64 \nL 307.292002 224.64 \nL 307.292002 146.628258 \nL 299.487806 146.628258 \nz\n\" style=\"fill:#2d1e3e;fill-opacity:0.5;stroke:#000000;stroke-linejoin:miter;stroke-width:0.78042;\"/>\n   </g>\n   <g id=\"patch_34\">\n    <path clip-path=\"url(#pbb69d87f2a)\" d=\"M 307.292002 224.64 \nL 315.096198 224.64 \nL 315.096198 224.64 \nL 307.292002 224.64 \nz\n\" style=\"fill:#2d1e3e;fill-opacity:0.5;stroke:#000000;stroke-linejoin:miter;stroke-width:0.78042;\"/>\n   </g>\n   <g id=\"patch_35\">\n    <path clip-path=\"url(#pbb69d87f2a)\" d=\"M 315.096198 224.64 \nL 322.900393 224.64 \nL 322.900393 161.521409 \nL 315.096198 161.521409 \nz\n\" style=\"fill:#2d1e3e;fill-opacity:0.5;stroke:#000000;stroke-linejoin:miter;stroke-width:0.78042;\"/>\n   </g>\n   <g id=\"patch_36\">\n    <path clip-path=\"url(#pbb69d87f2a)\" d=\"M 322.900393 224.64 \nL 330.704589 224.64 \nL 330.704589 224.64 \nL 322.900393 224.64 \nz\n\" style=\"fill:#2d1e3e;fill-opacity:0.5;stroke:#000000;stroke-linejoin:miter;stroke-width:0.78042;\"/>\n   </g>\n   <g id=\"patch_37\">\n    <path clip-path=\"url(#pbb69d87f2a)\" d=\"M 330.704589 224.64 \nL 338.508785 224.64 \nL 338.508785 204.073268 \nL 330.704589 204.073268 \nz\n\" style=\"fill:#2d1e3e;fill-opacity:0.5;stroke:#000000;stroke-linejoin:miter;stroke-width:0.78042;\"/>\n   </g>\n   <g id=\"patch_38\">\n    <path clip-path=\"url(#pbb69d87f2a)\" d=\"M 338.508785 224.64 \nL 346.312981 224.64 \nL 346.312981 224.64 \nL 338.508785 224.64 \nz\n\" style=\"fill:#2d1e3e;fill-opacity:0.5;stroke:#000000;stroke-linejoin:miter;stroke-width:0.78042;\"/>\n   </g>\n   <g id=\"patch_39\">\n    <path clip-path=\"url(#pbb69d87f2a)\" d=\"M 346.312981 224.64 \nL 354.117177 224.64 \nL 354.117177 216.838826 \nL 346.312981 216.838826 \nz\n\" style=\"fill:#2d1e3e;fill-opacity:0.5;stroke:#000000;stroke-linejoin:miter;stroke-width:0.78042;\"/>\n   </g>\n   <g id=\"patch_40\">\n    <path clip-path=\"url(#pbb69d87f2a)\" d=\"M 354.117177 224.64 \nL 361.921372 224.64 \nL 361.921372 224.64 \nL 354.117177 224.64 \nz\n\" style=\"fill:#2d1e3e;fill-opacity:0.5;stroke:#000000;stroke-linejoin:miter;stroke-width:0.78042;\"/>\n   </g>\n   <g id=\"patch_41\">\n    <path clip-path=\"url(#pbb69d87f2a)\" d=\"M 361.921372 224.64 \nL 369.725568 224.64 \nL 369.725568 223.930802 \nL 361.921372 223.930802 \nz\n\" style=\"fill:#2d1e3e;fill-opacity:0.5;stroke:#000000;stroke-linejoin:miter;stroke-width:0.78042;\"/>\n   </g>\n   <g id=\"patch_42\">\n    <path clip-path=\"url(#pbb69d87f2a)\" d=\"M 65.361932 224.64 \nL 73.166128 224.64 \nL 73.166128 223.930802 \nL 65.361932 223.930802 \nz\n\" style=\"fill:#edd1cb;fill-opacity:0.5;stroke:#000000;stroke-linejoin:miter;stroke-width:0.78042;\"/>\n   </g>\n   <g id=\"patch_43\">\n    <path clip-path=\"url(#pbb69d87f2a)\" d=\"M 73.166128 224.64 \nL 80.970323 224.64 \nL 80.970323 224.64 \nL 73.166128 224.64 \nz\n\" style=\"fill:#edd1cb;fill-opacity:0.5;stroke:#000000;stroke-linejoin:miter;stroke-width:0.78042;\"/>\n   </g>\n   <g id=\"patch_44\">\n    <path clip-path=\"url(#pbb69d87f2a)\" d=\"M 80.970323 224.64 \nL 88.774519 224.64 \nL 88.774519 224.64 \nL 80.970323 224.64 \nz\n\" style=\"fill:#edd1cb;fill-opacity:0.5;stroke:#000000;stroke-linejoin:miter;stroke-width:0.78042;\"/>\n   </g>\n   <g id=\"patch_45\">\n    <path clip-path=\"url(#pbb69d87f2a)\" d=\"M 88.774519 224.64 \nL 96.578715 224.64 \nL 96.578715 224.64 \nL 88.774519 224.64 \nz\n\" style=\"fill:#edd1cb;fill-opacity:0.5;stroke:#000000;stroke-linejoin:miter;stroke-width:0.78042;\"/>\n   </g>\n   <g id=\"patch_46\">\n    <path clip-path=\"url(#pbb69d87f2a)\" d=\"M 96.578715 224.64 \nL 104.382911 224.64 \nL 104.382911 223.930802 \nL 96.578715 223.930802 \nz\n\" style=\"fill:#edd1cb;fill-opacity:0.5;stroke:#000000;stroke-linejoin:miter;stroke-width:0.78042;\"/>\n   </g>\n   <g id=\"patch_47\">\n    <path clip-path=\"url(#pbb69d87f2a)\" d=\"M 104.382911 224.64 \nL 112.187107 224.64 \nL 112.187107 223.221605 \nL 104.382911 223.221605 \nz\n\" style=\"fill:#edd1cb;fill-opacity:0.5;stroke:#000000;stroke-linejoin:miter;stroke-width:0.78042;\"/>\n   </g>\n   <g id=\"patch_48\">\n    <path clip-path=\"url(#pbb69d87f2a)\" d=\"M 112.187107 224.64 \nL 119.991302 224.64 \nL 119.991302 224.64 \nL 112.187107 224.64 \nz\n\" style=\"fill:#edd1cb;fill-opacity:0.5;stroke:#000000;stroke-linejoin:miter;stroke-width:0.78042;\"/>\n   </g>\n   <g id=\"patch_49\">\n    <path clip-path=\"url(#pbb69d87f2a)\" d=\"M 119.991302 224.64 \nL 127.795498 224.64 \nL 127.795498 224.64 \nL 119.991302 224.64 \nz\n\" style=\"fill:#edd1cb;fill-opacity:0.5;stroke:#000000;stroke-linejoin:miter;stroke-width:0.78042;\"/>\n   </g>\n   <g id=\"patch_50\">\n    <path clip-path=\"url(#pbb69d87f2a)\" d=\"M 127.795498 224.64 \nL 135.599694 224.64 \nL 135.599694 220.384814 \nL 127.795498 220.384814 \nz\n\" style=\"fill:#edd1cb;fill-opacity:0.5;stroke:#000000;stroke-linejoin:miter;stroke-width:0.78042;\"/>\n   </g>\n   <g id=\"patch_51\">\n    <path clip-path=\"url(#pbb69d87f2a)\" d=\"M 135.599694 224.64 \nL 143.40389 224.64 \nL 143.40389 222.512407 \nL 135.599694 222.512407 \nz\n\" style=\"fill:#edd1cb;fill-opacity:0.5;stroke:#000000;stroke-linejoin:miter;stroke-width:0.78042;\"/>\n   </g>\n   <g id=\"patch_52\">\n    <path clip-path=\"url(#pbb69d87f2a)\" d=\"M 143.40389 224.64 \nL 151.208086 224.64 \nL 151.208086 224.64 \nL 143.40389 224.64 \nz\n\" style=\"fill:#edd1cb;fill-opacity:0.5;stroke:#000000;stroke-linejoin:miter;stroke-width:0.78042;\"/>\n   </g>\n   <g id=\"patch_53\">\n    <path clip-path=\"url(#pbb69d87f2a)\" d=\"M 151.208086 224.64 \nL 159.012281 224.64 \nL 159.012281 224.64 \nL 151.208086 224.64 \nz\n\" style=\"fill:#edd1cb;fill-opacity:0.5;stroke:#000000;stroke-linejoin:miter;stroke-width:0.78042;\"/>\n   </g>\n   <g id=\"patch_54\">\n    <path clip-path=\"url(#pbb69d87f2a)\" d=\"M 159.012281 224.64 \nL 166.816477 224.64 \nL 166.816477 214.002035 \nL 159.012281 214.002035 \nz\n\" style=\"fill:#edd1cb;fill-opacity:0.5;stroke:#000000;stroke-linejoin:miter;stroke-width:0.78042;\"/>\n   </g>\n   <g id=\"patch_55\">\n    <path clip-path=\"url(#pbb69d87f2a)\" d=\"M 166.816477 224.64 \nL 174.620673 224.64 \nL 174.620673 194.853699 \nL 166.816477 194.853699 \nz\n\" style=\"fill:#edd1cb;fill-opacity:0.5;stroke:#000000;stroke-linejoin:miter;stroke-width:0.78042;\"/>\n   </g>\n   <g id=\"patch_56\">\n    <path clip-path=\"url(#pbb69d87f2a)\" d=\"M 174.620673 224.64 \nL 182.424869 224.64 \nL 182.424869 224.64 \nL 174.620673 224.64 \nz\n\" style=\"fill:#edd1cb;fill-opacity:0.5;stroke:#000000;stroke-linejoin:miter;stroke-width:0.78042;\"/>\n   </g>\n   <g id=\"patch_57\">\n    <path clip-path=\"url(#pbb69d87f2a)\" d=\"M 182.424869 224.64 \nL 190.229065 224.64 \nL 190.229065 224.64 \nL 182.424869 224.64 \nz\n\" style=\"fill:#edd1cb;fill-opacity:0.5;stroke:#000000;stroke-linejoin:miter;stroke-width:0.78042;\"/>\n   </g>\n   <g id=\"patch_58\">\n    <path clip-path=\"url(#pbb69d87f2a)\" d=\"M 190.229065 224.64 \nL 198.03326 224.64 \nL 198.03326 192.016908 \nL 190.229065 192.016908 \nz\n\" style=\"fill:#edd1cb;fill-opacity:0.5;stroke:#000000;stroke-linejoin:miter;stroke-width:0.78042;\"/>\n   </g>\n   <g id=\"patch_59\">\n    <path clip-path=\"url(#pbb69d87f2a)\" d=\"M 198.03326 224.64 \nL 205.837456 224.64 \nL 205.837456 131.02591 \nL 198.03326 131.02591 \nz\n\" style=\"fill:#edd1cb;fill-opacity:0.5;stroke:#000000;stroke-linejoin:miter;stroke-width:0.78042;\"/>\n   </g>\n   <g id=\"patch_60\">\n    <path clip-path=\"url(#pbb69d87f2a)\" d=\"M 205.837456 224.64 \nL 213.641652 224.64 \nL 213.641652 224.64 \nL 205.837456 224.64 \nz\n\" style=\"fill:#edd1cb;fill-opacity:0.5;stroke:#000000;stroke-linejoin:miter;stroke-width:0.78042;\"/>\n   </g>\n   <g id=\"patch_61\">\n    <path clip-path=\"url(#pbb69d87f2a)\" d=\"M 213.641652 224.64 \nL 221.445848 224.64 \nL 221.445848 224.64 \nL 213.641652 224.64 \nz\n\" style=\"fill:#edd1cb;fill-opacity:0.5;stroke:#000000;stroke-linejoin:miter;stroke-width:0.78042;\"/>\n   </g>\n   <g id=\"patch_62\">\n    <path clip-path=\"url(#pbb69d87f2a)\" d=\"M 221.445848 224.64 \nL 229.250044 224.64 \nL 229.250044 79.254481 \nL 221.445848 79.254481 \nz\n\" style=\"fill:#edd1cb;fill-opacity:0.5;stroke:#000000;stroke-linejoin:miter;stroke-width:0.78042;\"/>\n   </g>\n   <g id=\"patch_63\">\n    <path clip-path=\"url(#pbb69d87f2a)\" d=\"M 229.250044 224.64 \nL 237.05424 224.64 \nL 237.05424 50.177378 \nL 229.250044 50.177378 \nz\n\" style=\"fill:#edd1cb;fill-opacity:0.5;stroke:#000000;stroke-linejoin:miter;stroke-width:0.78042;\"/>\n   </g>\n   <g id=\"patch_64\">\n    <path clip-path=\"url(#pbb69d87f2a)\" d=\"M 237.05424 224.64 \nL 244.858435 224.64 \nL 244.858435 224.64 \nL 237.05424 224.64 \nz\n\" style=\"fill:#edd1cb;fill-opacity:0.5;stroke:#000000;stroke-linejoin:miter;stroke-width:0.78042;\"/>\n   </g>\n   <g id=\"patch_65\">\n    <path clip-path=\"url(#pbb69d87f2a)\" d=\"M 244.858435 224.64 \nL 252.662631 224.64 \nL 252.662631 224.64 \nL 244.858435 224.64 \nz\n\" style=\"fill:#edd1cb;fill-opacity:0.5;stroke:#000000;stroke-linejoin:miter;stroke-width:0.78042;\"/>\n   </g>\n   <g id=\"patch_66\">\n    <path clip-path=\"url(#pbb69d87f2a)\" d=\"M 252.662631 224.64 \nL 260.466827 224.64 \nL 260.466827 17.554286 \nL 252.662631 17.554286 \nz\n\" style=\"fill:#edd1cb;fill-opacity:0.5;stroke:#000000;stroke-linejoin:miter;stroke-width:0.78042;\"/>\n   </g>\n   <g id=\"patch_67\">\n    <path clip-path=\"url(#pbb69d87f2a)\" d=\"M 260.466827 224.64 \nL 268.271023 224.64 \nL 268.271023 224.64 \nL 260.466827 224.64 \nz\n\" style=\"fill:#edd1cb;fill-opacity:0.5;stroke:#000000;stroke-linejoin:miter;stroke-width:0.78042;\"/>\n   </g>\n   <g id=\"patch_68\">\n    <path clip-path=\"url(#pbb69d87f2a)\" d=\"M 268.271023 224.64 \nL 276.075219 224.64 \nL 276.075219 60.815342 \nL 268.271023 60.815342 \nz\n\" style=\"fill:#edd1cb;fill-opacity:0.5;stroke:#000000;stroke-linejoin:miter;stroke-width:0.78042;\"/>\n   </g>\n   <g id=\"patch_69\">\n    <path clip-path=\"url(#pbb69d87f2a)\" d=\"M 276.075219 224.64 \nL 283.879414 224.64 \nL 283.879414 224.64 \nL 276.075219 224.64 \nz\n\" style=\"fill:#edd1cb;fill-opacity:0.5;stroke:#000000;stroke-linejoin:miter;stroke-width:0.78042;\"/>\n   </g>\n   <g id=\"patch_70\">\n    <path clip-path=\"url(#pbb69d87f2a)\" d=\"M 283.879414 224.64 \nL 291.68361 224.64 \nL 291.68361 106.91319 \nL 283.879414 106.91319 \nz\n\" style=\"fill:#edd1cb;fill-opacity:0.5;stroke:#000000;stroke-linejoin:miter;stroke-width:0.78042;\"/>\n   </g>\n   <g id=\"patch_71\">\n    <path clip-path=\"url(#pbb69d87f2a)\" d=\"M 291.68361 224.64 \nL 299.487806 224.64 \nL 299.487806 224.64 \nL 291.68361 224.64 \nz\n\" style=\"fill:#edd1cb;fill-opacity:0.5;stroke:#000000;stroke-linejoin:miter;stroke-width:0.78042;\"/>\n   </g>\n   <g id=\"patch_72\">\n    <path clip-path=\"url(#pbb69d87f2a)\" d=\"M 299.487806 224.64 \nL 307.292002 224.64 \nL 307.292002 163.649002 \nL 299.487806 163.649002 \nz\n\" style=\"fill:#edd1cb;fill-opacity:0.5;stroke:#000000;stroke-linejoin:miter;stroke-width:0.78042;\"/>\n   </g>\n   <g id=\"patch_73\">\n    <path clip-path=\"url(#pbb69d87f2a)\" d=\"M 307.292002 224.64 \nL 315.096198 224.64 \nL 315.096198 224.64 \nL 307.292002 224.64 \nz\n\" style=\"fill:#edd1cb;fill-opacity:0.5;stroke:#000000;stroke-linejoin:miter;stroke-width:0.78042;\"/>\n   </g>\n   <g id=\"patch_74\">\n    <path clip-path=\"url(#pbb69d87f2a)\" d=\"M 315.096198 224.64 \nL 322.900393 224.64 \nL 322.900393 207.619256 \nL 315.096198 207.619256 \nz\n\" style=\"fill:#edd1cb;fill-opacity:0.5;stroke:#000000;stroke-linejoin:miter;stroke-width:0.78042;\"/>\n   </g>\n   <g id=\"patch_75\">\n    <path clip-path=\"url(#pbb69d87f2a)\" d=\"M 322.900393 224.64 \nL 330.704589 224.64 \nL 330.704589 224.64 \nL 322.900393 224.64 \nz\n\" style=\"fill:#edd1cb;fill-opacity:0.5;stroke:#000000;stroke-linejoin:miter;stroke-width:0.78042;\"/>\n   </g>\n   <g id=\"patch_76\">\n    <path clip-path=\"url(#pbb69d87f2a)\" d=\"M 330.704589 224.64 \nL 338.508785 224.64 \nL 338.508785 222.512407 \nL 330.704589 222.512407 \nz\n\" style=\"fill:#edd1cb;fill-opacity:0.5;stroke:#000000;stroke-linejoin:miter;stroke-width:0.78042;\"/>\n   </g>\n   <g id=\"patch_77\">\n    <path clip-path=\"url(#pbb69d87f2a)\" d=\"M 338.508785 224.64 \nL 346.312981 224.64 \nL 346.312981 224.64 \nL 338.508785 224.64 \nz\n\" style=\"fill:#edd1cb;fill-opacity:0.5;stroke:#000000;stroke-linejoin:miter;stroke-width:0.78042;\"/>\n   </g>\n   <g id=\"patch_78\">\n    <path clip-path=\"url(#pbb69d87f2a)\" d=\"M 346.312981 224.64 \nL 354.117177 224.64 \nL 354.117177 224.64 \nL 346.312981 224.64 \nz\n\" style=\"fill:#edd1cb;fill-opacity:0.5;stroke:#000000;stroke-linejoin:miter;stroke-width:0.78042;\"/>\n   </g>\n   <g id=\"patch_79\">\n    <path clip-path=\"url(#pbb69d87f2a)\" d=\"M 354.117177 224.64 \nL 361.921372 224.64 \nL 361.921372 224.64 \nL 354.117177 224.64 \nz\n\" style=\"fill:#edd1cb;fill-opacity:0.5;stroke:#000000;stroke-linejoin:miter;stroke-width:0.78042;\"/>\n   </g>\n   <g id=\"patch_80\">\n    <path clip-path=\"url(#pbb69d87f2a)\" d=\"M 361.921372 224.64 \nL 369.725568 224.64 \nL 369.725568 224.64 \nL 361.921372 224.64 \nz\n\" style=\"fill:#edd1cb;fill-opacity:0.5;stroke:#000000;stroke-linejoin:miter;stroke-width:0.78042;\"/>\n   </g>\n   <g id=\"matplotlib.axis_1\">\n    <g id=\"xtick_1\">\n     <g id=\"line2d_1\">\n      <defs>\n       <path d=\"M 0 0 \nL 0 3.5 \n\" id=\"m4ac890ede4\" style=\"stroke:#000000;stroke-width:0.8;\"/>\n      </defs>\n      <g>\n       <use style=\"stroke:#000000;stroke-width:0.8;\" x=\"65.361932\" xlink:href=\"#m4ac890ede4\" y=\"224.64\"/>\n      </g>\n     </g>\n     <g id=\"text_1\">\n      <!-- 160 -->\n      <g transform=\"translate(55.818182 239.238437)scale(0.1 -0.1)\">\n       <defs>\n        <path d=\"M 12.40625 8.296875 \nL 28.515625 8.296875 \nL 28.515625 63.921875 \nL 10.984375 60.40625 \nL 10.984375 69.390625 \nL 28.421875 72.90625 \nL 38.28125 72.90625 \nL 38.28125 8.296875 \nL 54.390625 8.296875 \nL 54.390625 0 \nL 12.40625 0 \nz\n\" id=\"DejaVuSans-49\"/>\n        <path d=\"M 33.015625 40.375 \nQ 26.375 40.375 22.484375 35.828125 \nQ 18.609375 31.296875 18.609375 23.390625 \nQ 18.609375 15.53125 22.484375 10.953125 \nQ 26.375 6.390625 33.015625 6.390625 \nQ 39.65625 6.390625 43.53125 10.953125 \nQ 47.40625 15.53125 47.40625 23.390625 \nQ 47.40625 31.296875 43.53125 35.828125 \nQ 39.65625 40.375 33.015625 40.375 \nz\nM 52.59375 71.296875 \nL 52.59375 62.3125 \nQ 48.875 64.0625 45.09375 64.984375 \nQ 41.3125 65.921875 37.59375 65.921875 \nQ 27.828125 65.921875 22.671875 59.328125 \nQ 17.53125 52.734375 16.796875 39.40625 \nQ 19.671875 43.65625 24.015625 45.921875 \nQ 28.375 48.1875 33.59375 48.1875 \nQ 44.578125 48.1875 50.953125 41.515625 \nQ 57.328125 34.859375 57.328125 23.390625 \nQ 57.328125 12.15625 50.6875 5.359375 \nQ 44.046875 -1.421875 33.015625 -1.421875 \nQ 20.359375 -1.421875 13.671875 8.265625 \nQ 6.984375 17.96875 6.984375 36.375 \nQ 6.984375 53.65625 15.1875 63.9375 \nQ 23.390625 74.21875 37.203125 74.21875 \nQ 40.921875 74.21875 44.703125 73.484375 \nQ 48.484375 72.75 52.59375 71.296875 \nz\n\" id=\"DejaVuSans-54\"/>\n        <path d=\"M 31.78125 66.40625 \nQ 24.171875 66.40625 20.328125 58.90625 \nQ 16.5 51.421875 16.5 36.375 \nQ 16.5 21.390625 20.328125 13.890625 \nQ 24.171875 6.390625 31.78125 6.390625 \nQ 39.453125 6.390625 43.28125 13.890625 \nQ 47.125 21.390625 47.125 36.375 \nQ 47.125 51.421875 43.28125 58.90625 \nQ 39.453125 66.40625 31.78125 66.40625 \nz\nM 31.78125 74.21875 \nQ 44.046875 74.21875 50.515625 64.515625 \nQ 56.984375 54.828125 56.984375 36.375 \nQ 56.984375 17.96875 50.515625 8.265625 \nQ 44.046875 -1.421875 31.78125 -1.421875 \nQ 19.53125 -1.421875 13.0625 8.265625 \nQ 6.59375 17.96875 6.59375 36.375 \nQ 6.59375 54.828125 13.0625 64.515625 \nQ 19.53125 74.21875 31.78125 74.21875 \nz\n\" id=\"DejaVuSans-48\"/>\n       </defs>\n       <use xlink:href=\"#DejaVuSans-49\"/>\n       <use x=\"63.623047\" xlink:href=\"#DejaVuSans-54\"/>\n       <use x=\"127.246094\" xlink:href=\"#DejaVuSans-48\"/>\n      </g>\n     </g>\n    </g>\n    <g id=\"xtick_2\">\n     <g id=\"line2d_2\">\n      <g>\n       <use style=\"stroke:#000000;stroke-width:0.8;\" x=\"128.771023\" xlink:href=\"#m4ac890ede4\" y=\"224.64\"/>\n      </g>\n     </g>\n     <g id=\"text_2\">\n      <!-- 170 -->\n      <g transform=\"translate(119.227273 239.238437)scale(0.1 -0.1)\">\n       <defs>\n        <path d=\"M 8.203125 72.90625 \nL 55.078125 72.90625 \nL 55.078125 68.703125 \nL 28.609375 0 \nL 18.3125 0 \nL 43.21875 64.59375 \nL 8.203125 64.59375 \nz\n\" id=\"DejaVuSans-55\"/>\n       </defs>\n       <use xlink:href=\"#DejaVuSans-49\"/>\n       <use x=\"63.623047\" xlink:href=\"#DejaVuSans-55\"/>\n       <use x=\"127.246094\" xlink:href=\"#DejaVuSans-48\"/>\n      </g>\n     </g>\n    </g>\n    <g id=\"xtick_3\">\n     <g id=\"line2d_3\">\n      <g>\n       <use style=\"stroke:#000000;stroke-width:0.8;\" x=\"192.180114\" xlink:href=\"#m4ac890ede4\" y=\"224.64\"/>\n      </g>\n     </g>\n     <g id=\"text_3\">\n      <!-- 180 -->\n      <g transform=\"translate(182.636364 239.238437)scale(0.1 -0.1)\">\n       <defs>\n        <path d=\"M 31.78125 34.625 \nQ 24.75 34.625 20.71875 30.859375 \nQ 16.703125 27.09375 16.703125 20.515625 \nQ 16.703125 13.921875 20.71875 10.15625 \nQ 24.75 6.390625 31.78125 6.390625 \nQ 38.8125 6.390625 42.859375 10.171875 \nQ 46.921875 13.96875 46.921875 20.515625 \nQ 46.921875 27.09375 42.890625 30.859375 \nQ 38.875 34.625 31.78125 34.625 \nz\nM 21.921875 38.8125 \nQ 15.578125 40.375 12.03125 44.71875 \nQ 8.5 49.078125 8.5 55.328125 \nQ 8.5 64.0625 14.71875 69.140625 \nQ 20.953125 74.21875 31.78125 74.21875 \nQ 42.671875 74.21875 48.875 69.140625 \nQ 55.078125 64.0625 55.078125 55.328125 \nQ 55.078125 49.078125 51.53125 44.71875 \nQ 48 40.375 41.703125 38.8125 \nQ 48.828125 37.15625 52.796875 32.3125 \nQ 56.78125 27.484375 56.78125 20.515625 \nQ 56.78125 9.90625 50.3125 4.234375 \nQ 43.84375 -1.421875 31.78125 -1.421875 \nQ 19.734375 -1.421875 13.25 4.234375 \nQ 6.78125 9.90625 6.78125 20.515625 \nQ 6.78125 27.484375 10.78125 32.3125 \nQ 14.796875 37.15625 21.921875 38.8125 \nz\nM 18.3125 54.390625 \nQ 18.3125 48.734375 21.84375 45.5625 \nQ 25.390625 42.390625 31.78125 42.390625 \nQ 38.140625 42.390625 41.71875 45.5625 \nQ 45.3125 48.734375 45.3125 54.390625 \nQ 45.3125 60.0625 41.71875 63.234375 \nQ 38.140625 66.40625 31.78125 66.40625 \nQ 25.390625 66.40625 21.84375 63.234375 \nQ 18.3125 60.0625 18.3125 54.390625 \nz\n\" id=\"DejaVuSans-56\"/>\n       </defs>\n       <use xlink:href=\"#DejaVuSans-49\"/>\n       <use x=\"63.623047\" xlink:href=\"#DejaVuSans-56\"/>\n       <use x=\"127.246094\" xlink:href=\"#DejaVuSans-48\"/>\n      </g>\n     </g>\n    </g>\n    <g id=\"xtick_4\">\n     <g id=\"line2d_4\">\n      <g>\n       <use style=\"stroke:#000000;stroke-width:0.8;\" x=\"255.589205\" xlink:href=\"#m4ac890ede4\" y=\"224.64\"/>\n      </g>\n     </g>\n     <g id=\"text_4\">\n      <!-- 190 -->\n      <g transform=\"translate(246.045455 239.238437)scale(0.1 -0.1)\">\n       <defs>\n        <path d=\"M 10.984375 1.515625 \nL 10.984375 10.5 \nQ 14.703125 8.734375 18.5 7.8125 \nQ 22.3125 6.890625 25.984375 6.890625 \nQ 35.75 6.890625 40.890625 13.453125 \nQ 46.046875 20.015625 46.78125 33.40625 \nQ 43.953125 29.203125 39.59375 26.953125 \nQ 35.25 24.703125 29.984375 24.703125 \nQ 19.046875 24.703125 12.671875 31.3125 \nQ 6.296875 37.9375 6.296875 49.421875 \nQ 6.296875 60.640625 12.9375 67.421875 \nQ 19.578125 74.21875 30.609375 74.21875 \nQ 43.265625 74.21875 49.921875 64.515625 \nQ 56.59375 54.828125 56.59375 36.375 \nQ 56.59375 19.140625 48.40625 8.859375 \nQ 40.234375 -1.421875 26.421875 -1.421875 \nQ 22.703125 -1.421875 18.890625 -0.6875 \nQ 15.09375 0.046875 10.984375 1.515625 \nz\nM 30.609375 32.421875 \nQ 37.25 32.421875 41.125 36.953125 \nQ 45.015625 41.5 45.015625 49.421875 \nQ 45.015625 57.28125 41.125 61.84375 \nQ 37.25 66.40625 30.609375 66.40625 \nQ 23.96875 66.40625 20.09375 61.84375 \nQ 16.21875 57.28125 16.21875 49.421875 \nQ 16.21875 41.5 20.09375 36.953125 \nQ 23.96875 32.421875 30.609375 32.421875 \nz\n\" id=\"DejaVuSans-57\"/>\n       </defs>\n       <use xlink:href=\"#DejaVuSans-49\"/>\n       <use x=\"63.623047\" xlink:href=\"#DejaVuSans-57\"/>\n       <use x=\"127.246094\" xlink:href=\"#DejaVuSans-48\"/>\n      </g>\n     </g>\n    </g>\n    <g id=\"xtick_5\">\n     <g id=\"line2d_5\">\n      <g>\n       <use style=\"stroke:#000000;stroke-width:0.8;\" x=\"318.998295\" xlink:href=\"#m4ac890ede4\" y=\"224.64\"/>\n      </g>\n     </g>\n     <g id=\"text_5\">\n      <!-- 200 -->\n      <g transform=\"translate(309.454545 239.238437)scale(0.1 -0.1)\">\n       <defs>\n        <path d=\"M 19.1875 8.296875 \nL 53.609375 8.296875 \nL 53.609375 0 \nL 7.328125 0 \nL 7.328125 8.296875 \nQ 12.9375 14.109375 22.625 23.890625 \nQ 32.328125 33.6875 34.8125 36.53125 \nQ 39.546875 41.84375 41.421875 45.53125 \nQ 43.3125 49.21875 43.3125 52.78125 \nQ 43.3125 58.59375 39.234375 62.25 \nQ 35.15625 65.921875 28.609375 65.921875 \nQ 23.96875 65.921875 18.8125 64.3125 \nQ 13.671875 62.703125 7.8125 59.421875 \nL 7.8125 69.390625 \nQ 13.765625 71.78125 18.9375 73 \nQ 24.125 74.21875 28.421875 74.21875 \nQ 39.75 74.21875 46.484375 68.546875 \nQ 53.21875 62.890625 53.21875 53.421875 \nQ 53.21875 48.921875 51.53125 44.890625 \nQ 49.859375 40.875 45.40625 35.40625 \nQ 44.1875 33.984375 37.640625 27.21875 \nQ 31.109375 20.453125 19.1875 8.296875 \nz\n\" id=\"DejaVuSans-50\"/>\n       </defs>\n       <use xlink:href=\"#DejaVuSans-50\"/>\n       <use x=\"63.623047\" xlink:href=\"#DejaVuSans-48\"/>\n       <use x=\"127.246094\" xlink:href=\"#DejaVuSans-48\"/>\n      </g>\n     </g>\n    </g>\n    <g id=\"xtick_6\">\n     <g id=\"line2d_6\">\n      <g>\n       <use style=\"stroke:#000000;stroke-width:0.8;\" x=\"382.407386\" xlink:href=\"#m4ac890ede4\" y=\"224.64\"/>\n      </g>\n     </g>\n     <g id=\"text_6\">\n      <!-- 210 -->\n      <g transform=\"translate(372.863636 239.238437)scale(0.1 -0.1)\">\n       <use xlink:href=\"#DejaVuSans-50\"/>\n       <use x=\"63.623047\" xlink:href=\"#DejaVuSans-49\"/>\n       <use x=\"127.246094\" xlink:href=\"#DejaVuSans-48\"/>\n      </g>\n     </g>\n    </g>\n    <g id=\"text_7\">\n     <!-- height cm -->\n     <g transform=\"translate(192.397656 252.916562)scale(0.1 -0.1)\">\n      <defs>\n       <path d=\"M 54.890625 33.015625 \nL 54.890625 0 \nL 45.90625 0 \nL 45.90625 32.71875 \nQ 45.90625 40.484375 42.875 44.328125 \nQ 39.84375 48.1875 33.796875 48.1875 \nQ 26.515625 48.1875 22.3125 43.546875 \nQ 18.109375 38.921875 18.109375 30.90625 \nL 18.109375 0 \nL 9.078125 0 \nL 9.078125 75.984375 \nL 18.109375 75.984375 \nL 18.109375 46.1875 \nQ 21.34375 51.125 25.703125 53.5625 \nQ 30.078125 56 35.796875 56 \nQ 45.21875 56 50.046875 50.171875 \nQ 54.890625 44.34375 54.890625 33.015625 \nz\n\" id=\"DejaVuSans-104\"/>\n       <path d=\"M 56.203125 29.59375 \nL 56.203125 25.203125 \nL 14.890625 25.203125 \nQ 15.484375 15.921875 20.484375 11.0625 \nQ 25.484375 6.203125 34.421875 6.203125 \nQ 39.59375 6.203125 44.453125 7.46875 \nQ 49.3125 8.734375 54.109375 11.28125 \nL 54.109375 2.78125 \nQ 49.265625 0.734375 44.1875 -0.34375 \nQ 39.109375 -1.421875 33.890625 -1.421875 \nQ 20.796875 -1.421875 13.15625 6.1875 \nQ 5.515625 13.8125 5.515625 26.8125 \nQ 5.515625 40.234375 12.765625 48.109375 \nQ 20.015625 56 32.328125 56 \nQ 43.359375 56 49.78125 48.890625 \nQ 56.203125 41.796875 56.203125 29.59375 \nz\nM 47.21875 32.234375 \nQ 47.125 39.59375 43.09375 43.984375 \nQ 39.0625 48.390625 32.421875 48.390625 \nQ 24.90625 48.390625 20.390625 44.140625 \nQ 15.875 39.890625 15.1875 32.171875 \nz\n\" id=\"DejaVuSans-101\"/>\n       <path d=\"M 9.421875 54.6875 \nL 18.40625 54.6875 \nL 18.40625 0 \nL 9.421875 0 \nz\nM 9.421875 75.984375 \nL 18.40625 75.984375 \nL 18.40625 64.59375 \nL 9.421875 64.59375 \nz\n\" id=\"DejaVuSans-105\"/>\n       <path d=\"M 45.40625 27.984375 \nQ 45.40625 37.75 41.375 43.109375 \nQ 37.359375 48.484375 30.078125 48.484375 \nQ 22.859375 48.484375 18.828125 43.109375 \nQ 14.796875 37.75 14.796875 27.984375 \nQ 14.796875 18.265625 18.828125 12.890625 \nQ 22.859375 7.515625 30.078125 7.515625 \nQ 37.359375 7.515625 41.375 12.890625 \nQ 45.40625 18.265625 45.40625 27.984375 \nz\nM 54.390625 6.78125 \nQ 54.390625 -7.171875 48.1875 -13.984375 \nQ 42 -20.796875 29.203125 -20.796875 \nQ 24.46875 -20.796875 20.265625 -20.09375 \nQ 16.0625 -19.390625 12.109375 -17.921875 \nL 12.109375 -9.1875 \nQ 16.0625 -11.328125 19.921875 -12.34375 \nQ 23.78125 -13.375 27.78125 -13.375 \nQ 36.625 -13.375 41.015625 -8.765625 \nQ 45.40625 -4.15625 45.40625 5.171875 \nL 45.40625 9.625 \nQ 42.625 4.78125 38.28125 2.390625 \nQ 33.9375 0 27.875 0 \nQ 17.828125 0 11.671875 7.65625 \nQ 5.515625 15.328125 5.515625 27.984375 \nQ 5.515625 40.671875 11.671875 48.328125 \nQ 17.828125 56 27.875 56 \nQ 33.9375 56 38.28125 53.609375 \nQ 42.625 51.21875 45.40625 46.390625 \nL 45.40625 54.6875 \nL 54.390625 54.6875 \nz\n\" id=\"DejaVuSans-103\"/>\n       <path d=\"M 18.3125 70.21875 \nL 18.3125 54.6875 \nL 36.8125 54.6875 \nL 36.8125 47.703125 \nL 18.3125 47.703125 \nL 18.3125 18.015625 \nQ 18.3125 11.328125 20.140625 9.421875 \nQ 21.96875 7.515625 27.59375 7.515625 \nL 36.8125 7.515625 \nL 36.8125 0 \nL 27.59375 0 \nQ 17.1875 0 13.234375 3.875 \nQ 9.28125 7.765625 9.28125 18.015625 \nL 9.28125 47.703125 \nL 2.6875 47.703125 \nL 2.6875 54.6875 \nL 9.28125 54.6875 \nL 9.28125 70.21875 \nz\n\" id=\"DejaVuSans-116\"/>\n       <path id=\"DejaVuSans-32\"/>\n       <path d=\"M 48.78125 52.59375 \nL 48.78125 44.1875 \nQ 44.96875 46.296875 41.140625 47.34375 \nQ 37.3125 48.390625 33.40625 48.390625 \nQ 24.65625 48.390625 19.8125 42.84375 \nQ 14.984375 37.3125 14.984375 27.296875 \nQ 14.984375 17.28125 19.8125 11.734375 \nQ 24.65625 6.203125 33.40625 6.203125 \nQ 37.3125 6.203125 41.140625 7.25 \nQ 44.96875 8.296875 48.78125 10.40625 \nL 48.78125 2.09375 \nQ 45.015625 0.34375 40.984375 -0.53125 \nQ 36.96875 -1.421875 32.421875 -1.421875 \nQ 20.0625 -1.421875 12.78125 6.34375 \nQ 5.515625 14.109375 5.515625 27.296875 \nQ 5.515625 40.671875 12.859375 48.328125 \nQ 20.21875 56 33.015625 56 \nQ 37.15625 56 41.109375 55.140625 \nQ 45.0625 54.296875 48.78125 52.59375 \nz\n\" id=\"DejaVuSans-99\"/>\n       <path d=\"M 52 44.1875 \nQ 55.375 50.25 60.0625 53.125 \nQ 64.75 56 71.09375 56 \nQ 79.640625 56 84.28125 50.015625 \nQ 88.921875 44.046875 88.921875 33.015625 \nL 88.921875 0 \nL 79.890625 0 \nL 79.890625 32.71875 \nQ 79.890625 40.578125 77.09375 44.375 \nQ 74.3125 48.1875 68.609375 48.1875 \nQ 61.625 48.1875 57.5625 43.546875 \nQ 53.515625 38.921875 53.515625 30.90625 \nL 53.515625 0 \nL 44.484375 0 \nL 44.484375 32.71875 \nQ 44.484375 40.625 41.703125 44.40625 \nQ 38.921875 48.1875 33.109375 48.1875 \nQ 26.21875 48.1875 22.15625 43.53125 \nQ 18.109375 38.875 18.109375 30.90625 \nL 18.109375 0 \nL 9.078125 0 \nL 9.078125 54.6875 \nL 18.109375 54.6875 \nL 18.109375 46.1875 \nQ 21.1875 51.21875 25.484375 53.609375 \nQ 29.78125 56 35.6875 56 \nQ 41.65625 56 45.828125 52.96875 \nQ 50 49.953125 52 44.1875 \nz\n\" id=\"DejaVuSans-109\"/>\n      </defs>\n      <use xlink:href=\"#DejaVuSans-104\"/>\n      <use x=\"63.378906\" xlink:href=\"#DejaVuSans-101\"/>\n      <use x=\"124.902344\" xlink:href=\"#DejaVuSans-105\"/>\n      <use x=\"152.685547\" xlink:href=\"#DejaVuSans-103\"/>\n      <use x=\"216.162109\" xlink:href=\"#DejaVuSans-104\"/>\n      <use x=\"279.541016\" xlink:href=\"#DejaVuSans-116\"/>\n      <use x=\"318.75\" xlink:href=\"#DejaVuSans-32\"/>\n      <use x=\"350.537109\" xlink:href=\"#DejaVuSans-99\"/>\n      <use x=\"405.517578\" xlink:href=\"#DejaVuSans-109\"/>\n     </g>\n    </g>\n   </g>\n   <g id=\"matplotlib.axis_2\">\n    <g id=\"ytick_1\">\n     <g id=\"line2d_7\">\n      <defs>\n       <path d=\"M 0 0 \nL -3.5 0 \n\" id=\"m8b287e3095\" style=\"stroke:#000000;stroke-width:0.8;\"/>\n      </defs>\n      <g>\n       <use style=\"stroke:#000000;stroke-width:0.8;\" x=\"50.14375\" xlink:href=\"#m8b287e3095\" y=\"224.64\"/>\n      </g>\n     </g>\n     <g id=\"text_8\">\n      <!-- 0.00 -->\n      <g transform=\"translate(20.878125 228.439219)scale(0.1 -0.1)\">\n       <defs>\n        <path d=\"M 10.6875 12.40625 \nL 21 12.40625 \nL 21 0 \nL 10.6875 0 \nz\n\" id=\"DejaVuSans-46\"/>\n       </defs>\n       <use xlink:href=\"#DejaVuSans-48\"/>\n       <use x=\"63.623047\" xlink:href=\"#DejaVuSans-46\"/>\n       <use x=\"95.410156\" xlink:href=\"#DejaVuSans-48\"/>\n       <use x=\"159.033203\" xlink:href=\"#DejaVuSans-48\"/>\n      </g>\n     </g>\n    </g>\n    <g id=\"ytick_2\">\n     <g id=\"line2d_8\">\n      <g>\n       <use style=\"stroke:#000000;stroke-width:0.8;\" x=\"50.14375\" xlink:href=\"#m8b287e3095\" y=\"195.676368\"/>\n      </g>\n     </g>\n     <g id=\"text_9\">\n      <!-- 0.02 -->\n      <g transform=\"translate(20.878125 199.475587)scale(0.1 -0.1)\">\n       <use xlink:href=\"#DejaVuSans-48\"/>\n       <use x=\"63.623047\" xlink:href=\"#DejaVuSans-46\"/>\n       <use x=\"95.410156\" xlink:href=\"#DejaVuSans-48\"/>\n       <use x=\"159.033203\" xlink:href=\"#DejaVuSans-50\"/>\n      </g>\n     </g>\n    </g>\n    <g id=\"ytick_3\">\n     <g id=\"line2d_9\">\n      <g>\n       <use style=\"stroke:#000000;stroke-width:0.8;\" x=\"50.14375\" xlink:href=\"#m8b287e3095\" y=\"166.712736\"/>\n      </g>\n     </g>\n     <g id=\"text_10\">\n      <!-- 0.04 -->\n      <g transform=\"translate(20.878125 170.511955)scale(0.1 -0.1)\">\n       <defs>\n        <path d=\"M 37.796875 64.3125 \nL 12.890625 25.390625 \nL 37.796875 25.390625 \nz\nM 35.203125 72.90625 \nL 47.609375 72.90625 \nL 47.609375 25.390625 \nL 58.015625 25.390625 \nL 58.015625 17.1875 \nL 47.609375 17.1875 \nL 47.609375 0 \nL 37.796875 0 \nL 37.796875 17.1875 \nL 4.890625 17.1875 \nL 4.890625 26.703125 \nz\n\" id=\"DejaVuSans-52\"/>\n       </defs>\n       <use xlink:href=\"#DejaVuSans-48\"/>\n       <use x=\"63.623047\" xlink:href=\"#DejaVuSans-46\"/>\n       <use x=\"95.410156\" xlink:href=\"#DejaVuSans-48\"/>\n       <use x=\"159.033203\" xlink:href=\"#DejaVuSans-52\"/>\n      </g>\n     </g>\n    </g>\n    <g id=\"ytick_4\">\n     <g id=\"line2d_10\">\n      <g>\n       <use style=\"stroke:#000000;stroke-width:0.8;\" x=\"50.14375\" xlink:href=\"#m8b287e3095\" y=\"137.749104\"/>\n      </g>\n     </g>\n     <g id=\"text_11\">\n      <!-- 0.06 -->\n      <g transform=\"translate(20.878125 141.548322)scale(0.1 -0.1)\">\n       <use xlink:href=\"#DejaVuSans-48\"/>\n       <use x=\"63.623047\" xlink:href=\"#DejaVuSans-46\"/>\n       <use x=\"95.410156\" xlink:href=\"#DejaVuSans-48\"/>\n       <use x=\"159.033203\" xlink:href=\"#DejaVuSans-54\"/>\n      </g>\n     </g>\n    </g>\n    <g id=\"ytick_5\">\n     <g id=\"line2d_11\">\n      <g>\n       <use style=\"stroke:#000000;stroke-width:0.8;\" x=\"50.14375\" xlink:href=\"#m8b287e3095\" y=\"108.785472\"/>\n      </g>\n     </g>\n     <g id=\"text_12\">\n      <!-- 0.08 -->\n      <g transform=\"translate(20.878125 112.58469)scale(0.1 -0.1)\">\n       <use xlink:href=\"#DejaVuSans-48\"/>\n       <use x=\"63.623047\" xlink:href=\"#DejaVuSans-46\"/>\n       <use x=\"95.410156\" xlink:href=\"#DejaVuSans-48\"/>\n       <use x=\"159.033203\" xlink:href=\"#DejaVuSans-56\"/>\n      </g>\n     </g>\n    </g>\n    <g id=\"ytick_6\">\n     <g id=\"line2d_12\">\n      <g>\n       <use style=\"stroke:#000000;stroke-width:0.8;\" x=\"50.14375\" xlink:href=\"#m8b287e3095\" y=\"79.82184\"/>\n      </g>\n     </g>\n     <g id=\"text_13\">\n      <!-- 0.10 -->\n      <g transform=\"translate(20.878125 83.621058)scale(0.1 -0.1)\">\n       <use xlink:href=\"#DejaVuSans-48\"/>\n       <use x=\"63.623047\" xlink:href=\"#DejaVuSans-46\"/>\n       <use x=\"95.410156\" xlink:href=\"#DejaVuSans-49\"/>\n       <use x=\"159.033203\" xlink:href=\"#DejaVuSans-48\"/>\n      </g>\n     </g>\n    </g>\n    <g id=\"ytick_7\">\n     <g id=\"line2d_13\">\n      <g>\n       <use style=\"stroke:#000000;stroke-width:0.8;\" x=\"50.14375\" xlink:href=\"#m8b287e3095\" y=\"50.858207\"/>\n      </g>\n     </g>\n     <g id=\"text_14\">\n      <!-- 0.12 -->\n      <g transform=\"translate(20.878125 54.657426)scale(0.1 -0.1)\">\n       <use xlink:href=\"#DejaVuSans-48\"/>\n       <use x=\"63.623047\" xlink:href=\"#DejaVuSans-46\"/>\n       <use x=\"95.410156\" xlink:href=\"#DejaVuSans-49\"/>\n       <use x=\"159.033203\" xlink:href=\"#DejaVuSans-50\"/>\n      </g>\n     </g>\n    </g>\n    <g id=\"ytick_8\">\n     <g id=\"line2d_14\">\n      <g>\n       <use style=\"stroke:#000000;stroke-width:0.8;\" x=\"50.14375\" xlink:href=\"#m8b287e3095\" y=\"21.894575\"/>\n      </g>\n     </g>\n     <g id=\"text_15\">\n      <!-- 0.14 -->\n      <g transform=\"translate(20.878125 25.693794)scale(0.1 -0.1)\">\n       <use xlink:href=\"#DejaVuSans-48\"/>\n       <use x=\"63.623047\" xlink:href=\"#DejaVuSans-46\"/>\n       <use x=\"95.410156\" xlink:href=\"#DejaVuSans-49\"/>\n       <use x=\"159.033203\" xlink:href=\"#DejaVuSans-52\"/>\n      </g>\n     </g>\n    </g>\n    <g id=\"text_16\">\n     <!-- Probability -->\n     <g transform=\"translate(14.798438 142.348906)rotate(-90)scale(0.1 -0.1)\">\n      <defs>\n       <path d=\"M 19.671875 64.796875 \nL 19.671875 37.40625 \nL 32.078125 37.40625 \nQ 38.96875 37.40625 42.71875 40.96875 \nQ 46.484375 44.53125 46.484375 51.125 \nQ 46.484375 57.671875 42.71875 61.234375 \nQ 38.96875 64.796875 32.078125 64.796875 \nz\nM 9.8125 72.90625 \nL 32.078125 72.90625 \nQ 44.34375 72.90625 50.609375 67.359375 \nQ 56.890625 61.8125 56.890625 51.125 \nQ 56.890625 40.328125 50.609375 34.8125 \nQ 44.34375 29.296875 32.078125 29.296875 \nL 19.671875 29.296875 \nL 19.671875 0 \nL 9.8125 0 \nz\n\" id=\"DejaVuSans-80\"/>\n       <path d=\"M 41.109375 46.296875 \nQ 39.59375 47.171875 37.8125 47.578125 \nQ 36.03125 48 33.890625 48 \nQ 26.265625 48 22.1875 43.046875 \nQ 18.109375 38.09375 18.109375 28.8125 \nL 18.109375 0 \nL 9.078125 0 \nL 9.078125 54.6875 \nL 18.109375 54.6875 \nL 18.109375 46.1875 \nQ 20.953125 51.171875 25.484375 53.578125 \nQ 30.03125 56 36.53125 56 \nQ 37.453125 56 38.578125 55.875 \nQ 39.703125 55.765625 41.0625 55.515625 \nz\n\" id=\"DejaVuSans-114\"/>\n       <path d=\"M 30.609375 48.390625 \nQ 23.390625 48.390625 19.1875 42.75 \nQ 14.984375 37.109375 14.984375 27.296875 \nQ 14.984375 17.484375 19.15625 11.84375 \nQ 23.34375 6.203125 30.609375 6.203125 \nQ 37.796875 6.203125 41.984375 11.859375 \nQ 46.1875 17.53125 46.1875 27.296875 \nQ 46.1875 37.015625 41.984375 42.703125 \nQ 37.796875 48.390625 30.609375 48.390625 \nz\nM 30.609375 56 \nQ 42.328125 56 49.015625 48.375 \nQ 55.71875 40.765625 55.71875 27.296875 \nQ 55.71875 13.875 49.015625 6.21875 \nQ 42.328125 -1.421875 30.609375 -1.421875 \nQ 18.84375 -1.421875 12.171875 6.21875 \nQ 5.515625 13.875 5.515625 27.296875 \nQ 5.515625 40.765625 12.171875 48.375 \nQ 18.84375 56 30.609375 56 \nz\n\" id=\"DejaVuSans-111\"/>\n       <path d=\"M 48.6875 27.296875 \nQ 48.6875 37.203125 44.609375 42.84375 \nQ 40.53125 48.484375 33.40625 48.484375 \nQ 26.265625 48.484375 22.1875 42.84375 \nQ 18.109375 37.203125 18.109375 27.296875 \nQ 18.109375 17.390625 22.1875 11.75 \nQ 26.265625 6.109375 33.40625 6.109375 \nQ 40.53125 6.109375 44.609375 11.75 \nQ 48.6875 17.390625 48.6875 27.296875 \nz\nM 18.109375 46.390625 \nQ 20.953125 51.265625 25.265625 53.625 \nQ 29.59375 56 35.59375 56 \nQ 45.5625 56 51.78125 48.09375 \nQ 58.015625 40.1875 58.015625 27.296875 \nQ 58.015625 14.40625 51.78125 6.484375 \nQ 45.5625 -1.421875 35.59375 -1.421875 \nQ 29.59375 -1.421875 25.265625 0.953125 \nQ 20.953125 3.328125 18.109375 8.203125 \nL 18.109375 0 \nL 9.078125 0 \nL 9.078125 75.984375 \nL 18.109375 75.984375 \nz\n\" id=\"DejaVuSans-98\"/>\n       <path d=\"M 34.28125 27.484375 \nQ 23.390625 27.484375 19.1875 25 \nQ 14.984375 22.515625 14.984375 16.5 \nQ 14.984375 11.71875 18.140625 8.90625 \nQ 21.296875 6.109375 26.703125 6.109375 \nQ 34.1875 6.109375 38.703125 11.40625 \nQ 43.21875 16.703125 43.21875 25.484375 \nL 43.21875 27.484375 \nz\nM 52.203125 31.203125 \nL 52.203125 0 \nL 43.21875 0 \nL 43.21875 8.296875 \nQ 40.140625 3.328125 35.546875 0.953125 \nQ 30.953125 -1.421875 24.3125 -1.421875 \nQ 15.921875 -1.421875 10.953125 3.296875 \nQ 6 8.015625 6 15.921875 \nQ 6 25.140625 12.171875 29.828125 \nQ 18.359375 34.515625 30.609375 34.515625 \nL 43.21875 34.515625 \nL 43.21875 35.40625 \nQ 43.21875 41.609375 39.140625 45 \nQ 35.0625 48.390625 27.6875 48.390625 \nQ 23 48.390625 18.546875 47.265625 \nQ 14.109375 46.140625 10.015625 43.890625 \nL 10.015625 52.203125 \nQ 14.9375 54.109375 19.578125 55.046875 \nQ 24.21875 56 28.609375 56 \nQ 40.484375 56 46.34375 49.84375 \nQ 52.203125 43.703125 52.203125 31.203125 \nz\n\" id=\"DejaVuSans-97\"/>\n       <path d=\"M 9.421875 75.984375 \nL 18.40625 75.984375 \nL 18.40625 0 \nL 9.421875 0 \nz\n\" id=\"DejaVuSans-108\"/>\n       <path d=\"M 32.171875 -5.078125 \nQ 28.375 -14.84375 24.75 -17.8125 \nQ 21.140625 -20.796875 15.09375 -20.796875 \nL 7.90625 -20.796875 \nL 7.90625 -13.28125 \nL 13.1875 -13.28125 \nQ 16.890625 -13.28125 18.9375 -11.515625 \nQ 21 -9.765625 23.484375 -3.21875 \nL 25.09375 0.875 \nL 2.984375 54.6875 \nL 12.5 54.6875 \nL 29.59375 11.921875 \nL 46.6875 54.6875 \nL 56.203125 54.6875 \nz\n\" id=\"DejaVuSans-121\"/>\n      </defs>\n      <use xlink:href=\"#DejaVuSans-80\"/>\n      <use x=\"58.552734\" xlink:href=\"#DejaVuSans-114\"/>\n      <use x=\"97.416016\" xlink:href=\"#DejaVuSans-111\"/>\n      <use x=\"158.597656\" xlink:href=\"#DejaVuSans-98\"/>\n      <use x=\"222.074219\" xlink:href=\"#DejaVuSans-97\"/>\n      <use x=\"283.353516\" xlink:href=\"#DejaVuSans-98\"/>\n      <use x=\"346.830078\" xlink:href=\"#DejaVuSans-105\"/>\n      <use x=\"374.613281\" xlink:href=\"#DejaVuSans-108\"/>\n      <use x=\"402.396484\" xlink:href=\"#DejaVuSans-105\"/>\n      <use x=\"430.179688\" xlink:href=\"#DejaVuSans-116\"/>\n      <use x=\"469.388672\" xlink:href=\"#DejaVuSans-121\"/>\n     </g>\n    </g>\n   </g>\n   <g id=\"patch_81\">\n    <path d=\"M 50.14375 224.64 \nL 50.14375 7.2 \n\" style=\"fill:none;stroke:#000000;stroke-linecap:square;stroke-linejoin:miter;stroke-width:0.8;\"/>\n   </g>\n   <g id=\"patch_82\">\n    <path d=\"M 384.94375 224.64 \nL 384.94375 7.2 \n\" style=\"fill:none;stroke:#000000;stroke-linecap:square;stroke-linejoin:miter;stroke-width:0.8;\"/>\n   </g>\n   <g id=\"patch_83\">\n    <path d=\"M 50.14375 224.64 \nL 384.94375 224.64 \n\" style=\"fill:none;stroke:#000000;stroke-linecap:square;stroke-linejoin:miter;stroke-width:0.8;\"/>\n   </g>\n   <g id=\"patch_84\">\n    <path d=\"M 50.14375 7.2 \nL 384.94375 7.2 \n\" style=\"fill:none;stroke:#000000;stroke-linecap:square;stroke-linejoin:miter;stroke-width:0.8;\"/>\n   </g>\n   <g id=\"legend_1\">\n    <g id=\"patch_85\">\n     <path d=\"M 288.378125 59.5125 \nL 377.94375 59.5125 \nQ 379.94375 59.5125 379.94375 57.5125 \nL 379.94375 14.2 \nQ 379.94375 12.2 377.94375 12.2 \nL 288.378125 12.2 \nQ 286.378125 12.2 286.378125 14.2 \nL 286.378125 57.5125 \nQ 286.378125 59.5125 288.378125 59.5125 \nz\n\" style=\"fill:#ffffff;opacity:0.8;stroke:#cccccc;stroke-linejoin:miter;\"/>\n    </g>\n    <g id=\"text_17\">\n     <!-- position_numeric -->\n     <g transform=\"translate(290.378125 23.798437)scale(0.1 -0.1)\">\n      <defs>\n       <path d=\"M 18.109375 8.203125 \nL 18.109375 -20.796875 \nL 9.078125 -20.796875 \nL 9.078125 54.6875 \nL 18.109375 54.6875 \nL 18.109375 46.390625 \nQ 20.953125 51.265625 25.265625 53.625 \nQ 29.59375 56 35.59375 56 \nQ 45.5625 56 51.78125 48.09375 \nQ 58.015625 40.1875 58.015625 27.296875 \nQ 58.015625 14.40625 51.78125 6.484375 \nQ 45.5625 -1.421875 35.59375 -1.421875 \nQ 29.59375 -1.421875 25.265625 0.953125 \nQ 20.953125 3.328125 18.109375 8.203125 \nz\nM 48.6875 27.296875 \nQ 48.6875 37.203125 44.609375 42.84375 \nQ 40.53125 48.484375 33.40625 48.484375 \nQ 26.265625 48.484375 22.1875 42.84375 \nQ 18.109375 37.203125 18.109375 27.296875 \nQ 18.109375 17.390625 22.1875 11.75 \nQ 26.265625 6.109375 33.40625 6.109375 \nQ 40.53125 6.109375 44.609375 11.75 \nQ 48.6875 17.390625 48.6875 27.296875 \nz\n\" id=\"DejaVuSans-112\"/>\n       <path d=\"M 44.28125 53.078125 \nL 44.28125 44.578125 \nQ 40.484375 46.53125 36.375 47.5 \nQ 32.28125 48.484375 27.875 48.484375 \nQ 21.1875 48.484375 17.84375 46.4375 \nQ 14.5 44.390625 14.5 40.28125 \nQ 14.5 37.15625 16.890625 35.375 \nQ 19.28125 33.59375 26.515625 31.984375 \nL 29.59375 31.296875 \nQ 39.15625 29.25 43.1875 25.515625 \nQ 47.21875 21.78125 47.21875 15.09375 \nQ 47.21875 7.46875 41.1875 3.015625 \nQ 35.15625 -1.421875 24.609375 -1.421875 \nQ 20.21875 -1.421875 15.453125 -0.5625 \nQ 10.6875 0.296875 5.421875 2 \nL 5.421875 11.28125 \nQ 10.40625 8.6875 15.234375 7.390625 \nQ 20.0625 6.109375 24.8125 6.109375 \nQ 31.15625 6.109375 34.5625 8.28125 \nQ 37.984375 10.453125 37.984375 14.40625 \nQ 37.984375 18.0625 35.515625 20.015625 \nQ 33.0625 21.96875 24.703125 23.78125 \nL 21.578125 24.515625 \nQ 13.234375 26.265625 9.515625 29.90625 \nQ 5.8125 33.546875 5.8125 39.890625 \nQ 5.8125 47.609375 11.28125 51.796875 \nQ 16.75 56 26.8125 56 \nQ 31.78125 56 36.171875 55.265625 \nQ 40.578125 54.546875 44.28125 53.078125 \nz\n\" id=\"DejaVuSans-115\"/>\n       <path d=\"M 54.890625 33.015625 \nL 54.890625 0 \nL 45.90625 0 \nL 45.90625 32.71875 \nQ 45.90625 40.484375 42.875 44.328125 \nQ 39.84375 48.1875 33.796875 48.1875 \nQ 26.515625 48.1875 22.3125 43.546875 \nQ 18.109375 38.921875 18.109375 30.90625 \nL 18.109375 0 \nL 9.078125 0 \nL 9.078125 54.6875 \nL 18.109375 54.6875 \nL 18.109375 46.1875 \nQ 21.34375 51.125 25.703125 53.5625 \nQ 30.078125 56 35.796875 56 \nQ 45.21875 56 50.046875 50.171875 \nQ 54.890625 44.34375 54.890625 33.015625 \nz\n\" id=\"DejaVuSans-110\"/>\n       <path d=\"M 50.984375 -16.609375 \nL 50.984375 -23.578125 \nL -0.984375 -23.578125 \nL -0.984375 -16.609375 \nz\n\" id=\"DejaVuSans-95\"/>\n       <path d=\"M 8.5 21.578125 \nL 8.5 54.6875 \nL 17.484375 54.6875 \nL 17.484375 21.921875 \nQ 17.484375 14.15625 20.5 10.265625 \nQ 23.53125 6.390625 29.59375 6.390625 \nQ 36.859375 6.390625 41.078125 11.03125 \nQ 45.3125 15.671875 45.3125 23.6875 \nL 45.3125 54.6875 \nL 54.296875 54.6875 \nL 54.296875 0 \nL 45.3125 0 \nL 45.3125 8.40625 \nQ 42.046875 3.421875 37.71875 1 \nQ 33.40625 -1.421875 27.6875 -1.421875 \nQ 18.265625 -1.421875 13.375 4.4375 \nQ 8.5 10.296875 8.5 21.578125 \nz\nM 31.109375 56 \nz\n\" id=\"DejaVuSans-117\"/>\n      </defs>\n      <use xlink:href=\"#DejaVuSans-112\"/>\n      <use x=\"63.476562\" xlink:href=\"#DejaVuSans-111\"/>\n      <use x=\"124.658203\" xlink:href=\"#DejaVuSans-115\"/>\n      <use x=\"176.757812\" xlink:href=\"#DejaVuSans-105\"/>\n      <use x=\"204.541016\" xlink:href=\"#DejaVuSans-116\"/>\n      <use x=\"243.75\" xlink:href=\"#DejaVuSans-105\"/>\n      <use x=\"271.533203\" xlink:href=\"#DejaVuSans-111\"/>\n      <use x=\"332.714844\" xlink:href=\"#DejaVuSans-110\"/>\n      <use x=\"396.09375\" xlink:href=\"#DejaVuSans-95\"/>\n      <use x=\"446.09375\" xlink:href=\"#DejaVuSans-110\"/>\n      <use x=\"509.472656\" xlink:href=\"#DejaVuSans-117\"/>\n      <use x=\"572.851562\" xlink:href=\"#DejaVuSans-109\"/>\n      <use x=\"670.263672\" xlink:href=\"#DejaVuSans-101\"/>\n      <use x=\"731.787109\" xlink:href=\"#DejaVuSans-114\"/>\n      <use x=\"772.900391\" xlink:href=\"#DejaVuSans-105\"/>\n      <use x=\"800.683594\" xlink:href=\"#DejaVuSans-99\"/>\n     </g>\n    </g>\n    <g id=\"patch_86\">\n     <path d=\"M 315.979688 38.754687 \nL 335.979688 38.754687 \nL 335.979688 31.754687 \nL 315.979688 31.754687 \nz\n\" style=\"fill:#edd1cb;fill-opacity:0.5;stroke:#000000;stroke-linejoin:miter;\"/>\n    </g>\n    <g id=\"text_18\">\n     <!-- 1 -->\n     <g transform=\"translate(343.979688 38.754687)scale(0.1 -0.1)\">\n      <use xlink:href=\"#DejaVuSans-49\"/>\n     </g>\n    </g>\n    <g id=\"patch_87\">\n     <path d=\"M 315.979688 53.432812 \nL 335.979688 53.432812 \nL 335.979688 46.432812 \nL 315.979688 46.432812 \nz\n\" style=\"fill:#2d1e3e;fill-opacity:0.5;stroke:#000000;stroke-linejoin:miter;\"/>\n    </g>\n    <g id=\"text_19\">\n     <!-- 2 -->\n     <g transform=\"translate(343.979688 53.432812)scale(0.1 -0.1)\">\n      <use xlink:href=\"#DejaVuSans-50\"/>\n     </g>\n    </g>\n   </g>\n  </g>\n </g>\n <defs>\n  <clipPath id=\"pbb69d87f2a\">\n   <rect height=\"217.44\" width=\"334.8\" x=\"50.14375\" y=\"7.2\"/>\n  </clipPath>\n </defs>\n</svg>\n",
      "image/png": "[encoded data removed]"
     },
     "metadata": {
      "needs_background": "light"
     }
    }
   ],
   "source": [
    "# Representem graficament les dues distribucions\n",
    "\n",
    "nba_ex1 = nba_players[nba_players.position_numeric <= 2]\n",
    "sns.histplot(nba_ex1, x='height cm', stat='probability', hue='position_numeric')\n",
    "plt.show()"
   ]
  },
  {
   "cell_type": "code",
   "execution_count": 14,
   "metadata": {},
   "outputs": [
    {
     "output_type": "stream",
     "name": "stdout",
     "text": [
      "25.807168013749383\n"
     ]
    }
   ],
   "source": [
    "# Resolem el métode manualment: \n",
    "mitja_pob = nba_bases['height cm'].mean()\n",
    "mitja_samp = nba_escoltes['height cm'].mean()\n",
    "std_dev_samp = nba_escoltes['height cm'].std()\n",
    "sample_size = nba_escoltes['height cm'].count()\n",
    "\n",
    "# formula: \n",
    "t = (mitja_samp - mitja_pob) / (std_dev_samp/((sample_size-1)**0.5))\n",
    "print(t)"
   ]
  },
  {
   "source": [
    "busquem el valor de significió a la taula per comparar amb l'estadistic: \n",
    "\n",
    "![ttable.png](./img/ttable.png)"
   ],
   "cell_type": "markdown",
   "metadata": {}
  },
  {
   "cell_type": "code",
   "execution_count": 15,
   "metadata": {},
   "outputs": [
    {
     "output_type": "stream",
     "name": "stdout",
     "text": [
      "stat: 25.831052487175945, p: 1.0576503512793006e-96, alpha:0.05\np < alpha : H0 can be refused. Probably different distributions\n"
     ]
    }
   ],
   "source": [
    "# Resolem pel métode de python assumint que la mitjana de la mitjana de la poblacio es la mitjana dels jugadors bases:\n",
    "alpha = 0.05\n",
    "stat, p = stats.ttest_1samp(nba_escoltes['height cm'], nba_bases['height cm'].mean(), alternative= 'greater')\n",
    "print(f'stat: {stat}, p: {p}, alpha:{alpha}')\n",
    "if p > alpha:\n",
    "\tprint('p > alpha : H0 cannot be refused. Probably the same distribution')\n",
    "else:\n",
    "\tprint('p < alpha : H0 can be refused. Probably different distributions')"
   ]
  },
  {
   "source": [],
   "cell_type": "markdown",
   "metadata": {}
  },
  {
   "cell_type": "code",
   "execution_count": 16,
   "metadata": {},
   "outputs": [
    {
     "output_type": "stream",
     "name": "stdout",
     "text": [
      "stat: 21.600059911979372, p: 1.182626157161263e-93, alpha:0.05\np < alpha : H0 can be refused. Probably different distributions\n"
     ]
    }
   ],
   "source": [
    "# Resolem pel métode de python comparant les dues mostres:\n",
    "alpha = 0.05\n",
    "stat, p = stats.ttest_ind(nba_escoltes['height cm'], nba_bases['height cm'], equal_var=True, alternative='greater')\n",
    "print(f'stat: {stat}, p: {p}, alpha:{alpha}')\n",
    "if p > alpha:\n",
    "\tprint('p > alpha : H0 cannot be refused. Probably the same distribution')\n",
    "else:\n",
    "\tprint('p < alpha : H0 can be refused. Probably different distributions')"
   ]
  },
  {
   "source": [
    "fem un altre exemple amb dos poblacions de la mateixa mostra\n",
    "\n",
    "Generem la següent Hipótesis: La alçada dels jugadors de la població 1 es igual a la alçada dels jugadors de la població 2\n",
    "\n",
    "H0 = μ1 = μ2\n",
    "\n",
    "H1 = μ1 != μ2\n",
    "\n",
    "Ⲁ = 0.05"
   ],
   "cell_type": "markdown",
   "metadata": {}
  },
  {
   "cell_type": "code",
   "execution_count": 56,
   "metadata": {},
   "outputs": [
    {
     "output_type": "stream",
     "name": "stdout",
     "text": [
      "Sample(%): 10%, Sample size:421, Sampling Metod: Sistemàtic\nSample(%): 10%, Sample size:421, Sampling Metod: Sistemàtic\n"
     ]
    }
   ],
   "source": [
    "# A partir del dataframe generem dos mostres aleatories sistemátiques del 10% de la població (utilitzem la funció definida a la tasca 8)\n",
    "\n",
    "def sampling_rand_syst(df,sample_method, sample_size=0,sample_percent=30):\n",
    "    if sample_size == 0:\n",
    "        sample_size = round(len(df) / 100 * sample_percent)\n",
    "    else: \n",
    "        sample_percent = round(sample_size / len(df) * 100, 2)\n",
    "    if sample_method == 1: # Aleatori simple\n",
    "        df_random = df.sample(sample_size) #select % sample points from a dataset.\n",
    "        parameters = f'Sample(%): {sample_percent}%, Sample size:{sample_size}, Sampling Metod: Aleatori Simple'\n",
    "        return df_random, parameters\n",
    "    elif sample_method == 2: # Sistematic\n",
    "        step = len(df) // sample_size\n",
    "        start_rand = random.randint(0, (step - 1))\n",
    "        indexes = np.arange(start_rand, len(df), step=step)\n",
    "        df_systematic = df.iloc[indexes]\n",
    "        parameters = f'Sample(%): {sample_percent}%, Sample size:{sample_size}, Sampling Metod: Sistemàtic'\n",
    "        return df_systematic, parameters\n",
    "\n",
    "sample_1, sample_1_parameters = sampling_rand_syst(nba_players, 2, sample_percent=10)\n",
    "sample_2, sample_2_parameters = sampling_rand_syst(nba_players, 2, sample_percent=10)\n",
    "\n",
    "print(sample_1_parameters)\n",
    "print(sample_2_parameters)"
   ]
  },
  {
   "cell_type": "code",
   "execution_count": 57,
   "metadata": {},
   "outputs": [
    {
     "output_type": "execute_result",
     "data": {
      "text/plain": [
       "count    421.000000\n",
       "mean     196.814727\n",
       "std        8.902320\n",
       "min      175.000000\n",
       "25%      190.000000\n",
       "50%      198.000000\n",
       "75%      203.000000\n",
       "max      220.000000\n",
       "Name: height cm, dtype: float64"
      ]
     },
     "metadata": {},
     "execution_count": 57
    }
   ],
   "source": [
    "sample_1['height cm'].describe()"
   ]
  },
  {
   "cell_type": "code",
   "execution_count": 58,
   "metadata": {},
   "outputs": [
    {
     "output_type": "execute_result",
     "data": {
      "text/plain": [
       "count    422.000000\n",
       "mean     197.663507\n",
       "std        8.777024\n",
       "min      167.000000\n",
       "25%      190.000000\n",
       "50%      198.000000\n",
       "75%      203.000000\n",
       "max      223.000000\n",
       "Name: height cm, dtype: float64"
      ]
     },
     "metadata": {},
     "execution_count": 58
    }
   ],
   "source": [
    "sample_2['height cm'].describe()"
   ]
  },
  {
   "cell_type": "code",
   "execution_count": 59,
   "metadata": {},
   "outputs": [
    {
     "output_type": "stream",
     "name": "stdout",
     "text": [
      "-1.9539646615241488\n"
     ]
    }
   ],
   "source": [
    "# Resolem el métode manualment: \n",
    "mitja_pob = sample_2['height cm'].mean()\n",
    "mitja_samp = sample_1['height cm'].mean()\n",
    "std_dev_samp = sample_1['height cm'].std()\n",
    "sample_size = sample_1['height cm'].count()\n",
    "\n",
    "# formula: \n",
    "t = (mitja_samp - mitja_pob) / (std_dev_samp/((sample_size-1)**0.5))\n",
    "print(t)\n"
   ]
  },
  {
   "cell_type": "code",
   "execution_count": 60,
   "metadata": {},
   "outputs": [
    {
     "output_type": "stream",
     "name": "stdout",
     "text": [
      "stat: -1.9562894269644773, p: 0.05109342949576171, alpha:0.025\np > alpha : H0 cannot be refused. Probably the same distribution\n"
     ]
    }
   ],
   "source": [
    "# Resolem pel métode de python assumint que la mitjana del sample 2 es la mitjana de la poblacio:\n",
    "alpha = 0.025\n",
    "stat, p = stats.ttest_1samp(sample_1['height cm'], sample_2['height cm'].mean())\n",
    "print(f'stat: {stat}, p: {p}, alpha:{alpha}')\n",
    "if p > alpha:\n",
    "\tprint('p > alpha : H0 cannot be refused. Probably the same distribution')\n",
    "else:\n",
    "\tprint('p < alpha : H0 can be refused. Probably different distributions')"
   ]
  },
  {
   "cell_type": "code",
   "execution_count": 61,
   "metadata": {},
   "outputs": [
    {
     "output_type": "stream",
     "name": "stdout",
     "text": [
      "stat=1.394, p=0.164\nstat: 1.3938885481648478, p: 0.1637195479770718, alpha:0.025\np > alpha : H0 cannot be refused. Probably the same distribution\n"
     ]
    }
   ],
   "source": [
    "# Si comparem les dos distribucions el resultat es diferent\n",
    "stat, p = stats.ttest_ind(sample_2['height cm'], sample_1['height cm'], equal_var=False, alternative='two-sided')\n",
    "alpha_mid = 0.025\n",
    "print('stat=%.3f, p=%.3f' % (stat, p))\n",
    "print(f'stat: {stat}, p: {p}, alpha:{alpha}')\n",
    "if p > alpha_mid:\n",
    "\tprint('p > alpha : H0 cannot be refused. Probably the same distribution')\n",
    "else:\n",
    "\tprint('p < alpha : H0 can be refused. Probably different distributions')"
   ]
  },
  {
   "source": [
    "## Nivell 2\n",
    "\n",
    "- Exercici 2: Continua amb el conjunt de dades de tema esportiu que t'agradi i selecciona dos atributs del conjunt de dades. Calcula el p-valor i digues si rebutja la hipòtesi nul·la agafant un alfa de 5%."
   ],
   "cell_type": "markdown",
   "metadata": {}
  },
  {
   "cell_type": "code",
   "execution_count": 117,
   "metadata": {},
   "outputs": [
    {
     "output_type": "stream",
     "name": "stdout",
     "text": [
      "(632, 10)\n(649, 10)\n(555, 10)\n"
     ]
    }
   ],
   "source": [
    "nba_draft_80s = nba_players[(nba_players.year_start >= 1980) & (nba_players.year_start < 1990)]\n",
    "nba_draft_90s = nba_players[(nba_players.year_start >= 1990) & (nba_players.year_start < 2000)]\n",
    "nba_draft_00s = nba_players[(nba_players.year_start >= 2000) & (nba_players.year_start < 2010)]\n",
    "print(nba_draft_80s.shape)\n",
    "print(nba_draft_90s.shape)\n",
    "print(nba_draft_00s.shape)"
   ]
  },
  {
   "cell_type": "code",
   "execution_count": 114,
   "metadata": {},
   "outputs": [
    {
     "output_type": "stream",
     "name": "stdout",
     "text": [
      "Sample(%): 15.82%, Sample size:100, Sampling Metod: Aleatori Simple\n"
     ]
    },
    {
     "output_type": "execute_result",
     "data": {
      "text/plain": [
       "count    100.000000\n",
       "mean     200.890000\n",
       "std        9.204627\n",
       "min      177.000000\n",
       "25%      193.000000\n",
       "50%      201.500000\n",
       "75%      208.000000\n",
       "max      220.000000\n",
       "Name: height cm, dtype: float64"
      ]
     },
     "metadata": {},
     "execution_count": 114
    }
   ],
   "source": [
    "draft_80_sample, draft_80_parameters = sampling_rand_syst(nba_draft_80s['height cm'], 1, sample_size=100)\n",
    "print(draft_80_parameters)\n",
    "draft_80_sample.describe()"
   ]
  },
  {
   "cell_type": "code",
   "execution_count": 111,
   "metadata": {},
   "outputs": [
    {
     "output_type": "stream",
     "name": "stdout",
     "text": [
      "Sample(%): 15.41%, Sample size:100, Sampling Metod: Aleatori Simple\n"
     ]
    },
    {
     "output_type": "execute_result",
     "data": {
      "text/plain": [
       "count    100.000000\n",
       "mean     197.830000\n",
       "std        9.776342\n",
       "min      165.000000\n",
       "25%      192.250000\n",
       "50%      200.000000\n",
       "75%      205.000000\n",
       "max      215.000000\n",
       "Name: height cm, dtype: float64"
      ]
     },
     "metadata": {},
     "execution_count": 111
    }
   ],
   "source": [
    "draft_90_sample, draft_90_parameters = sampling_rand_syst(nba_draft_90s['height cm'], 1, sample_size=100)\n",
    "print(draft_90_parameters)\n",
    "draft_90_sample.describe()"
   ]
  },
  {
   "cell_type": "code",
   "execution_count": 115,
   "metadata": {},
   "outputs": [
    {
     "output_type": "stream",
     "name": "stdout",
     "text": [
      "stat=2.176, p=0.032\nProbably different distributions\n"
     ]
    }
   ],
   "source": [
    "stat, p = stats.ttest_rel(draft_80_sample, draft_90_sample)\n",
    "print('stat=%.3f, p=%.3f' % (stat, p))\n",
    "if p > 0.05:\n",
    "\tprint('Probably the same distribution')\n",
    "else:\n",
    "\tprint('Probably different distributions')"
   ]
  },
  {
   "source": [
    "El resutado anterior p=0.032 se ha forzado repitiendo el sampleo hasta que ha dado un resultado p < aplha para observar la variabilidad del resultado en función del tamaño de la muestra. \n",
    "\n",
    "En la mayoría de casos el resultado que da es p > alpha."
   ],
   "cell_type": "markdown",
   "metadata": {}
  },
  {
   "cell_type": "code",
   "execution_count": 68,
   "metadata": {},
   "outputs": [],
   "source": [
    "#Probamos con una muestra mas grande n=250"
   ]
  },
  {
   "cell_type": "code",
   "execution_count": 116,
   "metadata": {},
   "outputs": [
    {
     "output_type": "stream",
     "name": "stdout",
     "text": [
      "Sample(%): 79.11%, Sample size:500, Sampling Metod: Aleatori Simple\ncount    500.000000\nmean     199.864000\nstd        9.053476\nmin      160.000000\n25%      193.000000\n50%      200.000000\n75%      205.000000\nmax      231.000000\nName: height cm, dtype: float64\nSample(%): 77.04%, Sample size:500, Sampling Metod: Aleatori Simple\ncount    500.000000\nmean     199.222000\nstd        9.396878\nmin      165.000000\n25%      193.000000\n50%      200.000000\n75%      205.000000\nmax      228.000000\nName: height cm, dtype: float64\n"
     ]
    }
   ],
   "source": [
    "draft_80_sample, draft_80_parameters = sampling_rand_syst(nba_draft_80s['height cm'], 1, sample_size=500)\n",
    "draft_90_sample, draft_90_parameters = sampling_rand_syst(nba_draft_90s['height cm'], 1, sample_size=500)\n",
    "print(draft_80_parameters)\n",
    "print(draft_80_sample.describe())\n",
    "print(draft_90_parameters)\n",
    "print(draft_90_sample.describe())\n"
   ]
  },
  {
   "cell_type": "code",
   "execution_count": 97,
   "metadata": {},
   "outputs": [
    {
     "output_type": "stream",
     "name": "stdout",
     "text": [
      "stat=0.971, p=0.332\nProbably the same distribution\n"
     ]
    }
   ],
   "source": [
    "stat, p = stats.ttest_rel(draft_80_sample, draft_90_sample)\n",
    "print('stat=%.3f, p=%.3f' % (stat, p))\n",
    "if p > 0.05:\n",
    "\tprint('Probably the same distribution')\n",
    "else:\n",
    "\tprint('Probably different distributions')"
   ]
  },
  {
   "source": [
    "## Nivell 3\n",
    "\n",
    "- Exercici 3: Continua amb el conjunt de dades de tema esportiu que t'agradi i selecciona tres atributs del conjunt de dades. Calcula el p-valor i digues si rebutja la hipòtesi nul·la agafant un alfa de 5%."
   ],
   "cell_type": "markdown",
   "metadata": {}
  },
  {
   "cell_type": "code",
   "execution_count": null,
   "metadata": {},
   "outputs": [],
   "source": []
  },
  {
   "cell_type": "code",
   "execution_count": 134,
   "metadata": {},
   "outputs": [
    {
     "output_type": "stream",
     "name": "stdout",
     "text": [
      "Statistics=1.620, p=0.199\nSame distributions (fail to reject H0)\n"
     ]
    }
   ],
   "source": [
    "draft_80_sample, draft_80_parameters = sampling_rand_syst(nba_draft_80s['height cm'], 1, sample_size=250)\n",
    "draft_90_sample, draft_90_parameters = sampling_rand_syst(nba_draft_90s['height cm'], 1, sample_size=250)\n",
    "draft_00_sample, draft_90_parameters = sampling_rand_syst(nba_draft_00s['height cm'], 1, sample_size=250)\n",
    "\n",
    "# compare samples\n",
    "stat, p = stats.f_oneway(draft_80_sample, draft_90_sample, draft_00_sample)\n",
    "print('Statistics=%.3f, p=%.3f' % (stat, p))\n",
    "# interpret\n",
    "alpha = 0.05\n",
    "if p > alpha:\n",
    "\tprint('Same distributions (fail to reject H0)')\n",
    "else:\n",
    "\tprint('Different distributions (reject H0)')\n",
    "\n"
   ]
  },
  {
   "cell_type": "code",
   "execution_count": 135,
   "metadata": {},
   "outputs": [
    {
     "output_type": "stream",
     "name": "stdout",
     "text": [
      "Statistics=2.088, p=0.149\nSame distributions (fail to reject H0)\n"
     ]
    }
   ],
   "source": [
    "# compare samples\n",
    "stat, p = stats.f_oneway(draft_80_sample, draft_90_sample)\n",
    "print('Statistics=%.3f, p=%.3f' % (stat, p))\n",
    "# interpret\n",
    "alpha = 0.05\n",
    "if p > alpha:\n",
    "\tprint('Same distributions (fail to reject H0)')\n",
    "else:\n",
    "\tprint('Different distributions (reject H0)')"
   ]
  },
  {
   "cell_type": "code",
   "execution_count": null,
   "metadata": {},
   "outputs": [],
   "source": []
  }
 ]
}