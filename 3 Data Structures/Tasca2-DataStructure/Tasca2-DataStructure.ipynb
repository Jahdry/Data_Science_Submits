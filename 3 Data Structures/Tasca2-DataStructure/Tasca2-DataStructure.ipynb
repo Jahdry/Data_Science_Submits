{
 "cells": [
  {
   "cell_type": "markdown",
   "metadata": {
    "ExecuteTime": {
     "end_time": "2021-04-07T10:31:59.648891Z",
     "start_time": "2021-04-07T10:31:59.640324Z"
    }
   },
   "source": [
    "# Tasca 2: Estructura de dades"
   ]
  },
  {
   "cell_type": "markdown",
   "metadata": {
    "ExecuteTime": {
     "end_time": "2021-04-07T10:32:28.339492Z",
     "start_time": "2021-04-07T10:32:28.330362Z"
    }
   },
   "source": [
    "## Exercici 1\n",
    "\n",
    "Crea una llista que agrupi els mesos de l’any en trimestres (1T: Gener, Febrer i Març, 2T: Abril, Maig, Juny...), és a dir, una llista amb 4 llistes dins."
   ]
  },
  {
   "cell_type": "code",
   "execution_count": 47,
   "metadata": {
    "ExecuteTime": {
     "end_time": "2021-04-08T08:14:10.390551Z",
     "start_time": "2021-04-08T08:14:10.383233Z"
    }
   },
   "outputs": [],
   "source": [
    "mesos = [[\"Gener\", \"Febrer\", \"Març\"], \n",
    "          [\"Abril\", \"Maig\", \"Juny\"], \n",
    "          [\"Juliol\", \"Agost\", \"Setembre\"], \n",
    "          [\"Octubre\", \"Novembre\", \"Desembre\"]]"
   ]
  },
  {
   "cell_type": "markdown",
   "metadata": {},
   "source": [
    "## Exercici 2\n",
    "\n",
    "Crea un codi que et permeti accedir a:\n",
    "\n",
    "* El segon mes del primer trimestre\n",
    "* Els mesos del primer trimestre\n",
    "* Setembre i octubre\n",
    "    "
   ]
  },
  {
   "cell_type": "code",
   "execution_count": 48,
   "metadata": {
    "ExecuteTime": {
     "end_time": "2021-04-08T08:14:11.918094Z",
     "start_time": "2021-04-08T08:14:11.907911Z"
    }
   },
   "outputs": [
    {
     "name": "stdout",
     "output_type": "stream",
     "text": [
      "Febrer\n",
      "['Gener', 'Febrer', 'Març']\n",
      "Setembre, Octubre\n"
     ]
    }
   ],
   "source": [
    "print(mesos[0][1])\n",
    "print(mesos[0])\n",
    "print(mesos[2][2] +\", \" + mesos [3][0])"
   ]
  },
  {
   "cell_type": "markdown",
   "metadata": {},
   "source": [
    "## Exercici 3\n",
    "\n",
    "Crea una llista amb nombres desordenats i respon a les següents preguntes:\n",
    "\n",
    "* Quants números hi ha?\n",
    "* Quantes vegades apareix el número 3\n",
    "* Quantes vegades apareixen els nombres 3 i 4?\n",
    "* Quin és el número més gran?\n",
    "* Quins són els 3 números més petits?\n",
    "* Quin és el rang d’aquesta llista?"
   ]
  },
  {
   "cell_type": "code",
   "execution_count": 55,
   "metadata": {
    "ExecuteTime": {
     "end_time": "2021-04-08T09:23:59.542272Z",
     "start_time": "2021-04-08T09:23:59.533722Z"
    }
   },
   "outputs": [
    {
     "name": "stdout",
     "output_type": "stream",
     "text": [
      "[30, 5, 3, 50, 4, 42, 0, 40, 22, 6, 37, 47, 33, 32, 11, 5, 11, 2, 37, 10]\n"
     ]
    }
   ],
   "source": [
    "# Generem llista aleatoria\n",
    "import random\n",
    "\n",
    "random_num = []\n",
    "for x in range(random.randint(5,20)):\n",
    "    random_num.append(random.randint(0,50))\n",
    "    \n",
    "print(random_num)"
   ]
  },
  {
   "cell_type": "code",
   "execution_count": 61,
   "metadata": {
    "ExecuteTime": {
     "end_time": "2021-04-08T09:25:31.567969Z",
     "start_time": "2021-04-08T09:25:31.561935Z"
    }
   },
   "outputs": [],
   "source": [
    "# Numeros totals\n",
    "elements = len(random_num)\n",
    "\n",
    "#Ocurrença 3 i 4\n",
    "tres = random_num.count(3)\n",
    "tres_i_cuatre = random_num.count(3) + random_num.count(4)\n",
    "\n",
    "#Numeros grans i petits\n",
    "random_num.sort()\n",
    "max = random_num[-1]\n",
    "min_a, min_b, min_c = random_num[0:3]\n",
    "\n",
    "#rang\n",
    "rang = max - min_a"
   ]
  },
  {
   "cell_type": "code",
   "execution_count": 62,
   "metadata": {
    "ExecuteTime": {
     "end_time": "2021-04-08T09:25:32.169472Z",
     "start_time": "2021-04-08T09:25:32.159632Z"
    }
   },
   "outputs": [
    {
     "name": "stdout",
     "output_type": "stream",
     "text": [
      "la llista te 20 números\n",
      "el número 3 apareix 1 vegades\n",
      "els números 3 i 4 apareixen 2 vegades\n",
      "el número més gran és 50\n",
      "els tres números més petits son 0, 2 i 3\n",
      "el rang de la llista és 50\n"
     ]
    }
   ],
   "source": [
    "print(\"la llista te {} números\".format(elements))\n",
    "print(\"el número 3 apareix {} vegades\".format(tres))\n",
    "print(\"els números 3 i 4 apareixen {} vegades\".format(tres_i_cuatre))\n",
    "print(\"el número més gran és {}\".format(max))\n",
    "print(\"els tres números més petits son {}, {} i {}\".format(min_a, min_b, min_c))\n",
    "print(\"el rang de la llista és {}\".format(rang))"
   ]
  },
  {
   "cell_type": "markdown",
   "metadata": {},
   "source": [
    "## Exercici 4\n",
    "\n",
    "Crea un diccionari de la següent forma i respon a les preguntes:\n",
    "\n",
    "compra = { \"Pomes\" : {\"Qty\": 5, \"€\": 0.42}, \"Peres\" : {\"Qty\": 3, \"€\": 0.66} }\n",
    "\n",
    "* Afegeix alguna fruita més\n",
    "* Quant han costat les peres en total?\n",
    "* Quantes fruites hem comprat en total?\n",
    "* Quina és la fruita més cara?"
   ]
  },
  {
   "cell_type": "code",
   "execution_count": 40,
   "metadata": {
    "ExecuteTime": {
     "end_time": "2021-04-08T09:12:01.812426Z",
     "start_time": "2021-04-08T09:12:01.806270Z"
    }
   },
   "outputs": [
    {
     "name": "stdout",
     "output_type": "stream",
     "text": [
      "{'Pomes': {'Qty': 5, '€': 0.42}, 'Peres': {'Qty': 3, '€': 0.66}, 'Maduixes': {'Qty': 3, '€': 1.2}}\n"
     ]
    }
   ],
   "source": [
    "compra = { \"Pomes\" : {\"Qty\": 5, \"€\": 0.42}, \"Peres\" : {\"Qty\": 3, \"€\": 0.66} }\n",
    "\n",
    "#Afegim una fruita\n",
    "compra[\"Maduixes\"] = {\"Qty\": 3, \"€\": 1.2}\n",
    "print(compra)"
   ]
  },
  {
   "cell_type": "code",
   "execution_count": 52,
   "metadata": {
    "ExecuteTime": {
     "end_time": "2021-04-08T09:23:13.004384Z",
     "start_time": "2021-04-08T09:23:12.997160Z"
    }
   },
   "outputs": [],
   "source": [
    "# Preu total peres: \n",
    "_peres = compra.get(\"Peres\")\n",
    "cost_peres = _peres.get(\"Qty\") * _peres.get(\"€\")\n",
    "\n",
    "# Num total de fruites\n",
    "total_fruites = len(compra)\n",
    "\n",
    "# Busquem la fruita més cara: \n",
    "preu_max = 0\n",
    "fruit_max = \"\"\n",
    "\n",
    "for fruit, preu in compra.items(): \n",
    "    if preu[\"€\"] > preu_max:\n",
    "        preu_max = preus[\"€\"]\n",
    "        fruit_max = fruit\n",
    "    "
   ]
  },
  {
   "cell_type": "code",
   "execution_count": 51,
   "metadata": {
    "ExecuteTime": {
     "end_time": "2021-04-08T09:23:05.076073Z",
     "start_time": "2021-04-08T09:23:05.069606Z"
    }
   },
   "outputs": [
    {
     "name": "stdout",
     "output_type": "stream",
     "text": [
      "Les peres han costat 1.98€\n",
      "Hem comprat 3 fruites en total\n",
      "La furita més cara son les Pomes\n"
     ]
    }
   ],
   "source": [
    "print(\"Les peres han costat {}€\".format(cost_peres))\n",
    "print(\"Hem comprat {} fruites en total\".format(total_fruites))\n",
    "print(\"La furita més cara son les {}\".format(fruit_max))"
   ]
  }
 ],
 "metadata": {
  "kernelspec": {
   "display_name": "Python 3",
   "language": "python",
   "name": "python3"
  },
  "language_info": {
   "codemirror_mode": {
    "name": "ipython",
    "version": 3
   },
   "file_extension": ".py",
   "mimetype": "text/x-python",
   "name": "python",
   "nbconvert_exporter": "python",
   "pygments_lexer": "ipython3",
   "version": "3.8.5"
  }
 },
 "nbformat": 4,
 "nbformat_minor": 4
}
