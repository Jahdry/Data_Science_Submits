{
 "cells": [
  {
   "cell_type": "markdown",
   "metadata": {},
   "source": [
    "# Tasca 3: Estructura de control\n",
    "\n",
    "## Nivell 1\n",
    "\n",
    "### Exercici 1\n",
    "\n",
    "L'exercici consisteix a crear un programa que et classifiqui una variable numèrica en funció de l’escala Suspès/Aprovat/Notable/Excel·lent."
   ]
  },
  {
   "cell_type": "code",
   "execution_count": 1,
   "metadata": {
    "ExecuteTime": {
     "end_time": "2021-04-12T08:39:55.733051Z",
     "start_time": "2021-04-12T08:39:55.714637Z"
    }
   },
   "outputs": [
    {
     "name": "stdout",
     "output_type": "stream",
     "text": [
      "Suspens (4)\n",
      "Aprovat (6.2)\n",
      "Excel·lent (9)\n",
      "Nota no valida (11). La nota ha de estar entre 0 i 10\n",
      "Nota no valida (-2). La nota ha de estar entre 0 i 10\n"
     ]
    }
   ],
   "source": [
    "def  calif_num (nota): \n",
    "    if 0 <= nota < 5: \n",
    "        return f\"Suspens ({nota})\"\n",
    "    elif 5 <= nota < 7: \n",
    "        return f\"Aprovat ({nota})\"\n",
    "    elif 7 <= nota < 9: \n",
    "        return f\"Notable ({nota})\"\n",
    "    elif 9 <= nota <=10: \n",
    "        return f\"Excel·lent ({nota})\"\n",
    "    elif (nota < 0) or (nota >10): \n",
    "        return f\"Nota no valida ({nota}). La nota ha de estar entre 0 i 10\"\n",
    "\n",
    "print(calif_num(4))\n",
    "print(calif_num(6.2))\n",
    "print(calif_num(9))\n",
    "print(calif_num(11))\n",
    "print(calif_num(-2))"
   ]
  },
  {
   "cell_type": "markdown",
   "metadata": {},
   "source": [
    "### Exercici 2\n",
    "\n",
    "Utilitzant el següent tutorial Programiz: Python Input, Output and Import crea un programa que et pregunti dos números. T’ha de mostrar un missatge dient si el primer és més gran, el segon és més gran o són iguals."
   ]
  },
  {
   "cell_type": "code",
   "execution_count": 4,
   "metadata": {
    "ExecuteTime": {
     "end_time": "2021-04-12T08:41:06.829530Z",
     "start_time": "2021-04-12T08:41:03.737161Z"
    }
   },
   "outputs": [
    {
     "name": "stdout",
     "output_type": "stream",
     "text": [
      "Enter a number: 3\n",
      "Enter another number 7\n",
      "The second number (7) is bigger than the first (3)\n"
     ]
    }
   ],
   "source": [
    "num_1 = input('Enter a number: ')\n",
    "num_2 = input('Enter another number ')\n",
    "\n",
    "if num_1 > num_2:\n",
    "    print (f'The first number ({num_1}) is bigger than the second ({num_2})')\n",
    "elif num_1 < num_2:\n",
    "    print (f'The second number ({num_2}) is bigger than the first ({num_1})')\n",
    "else: \n",
    "    print (f'Both numbers are equals {num_1}')"
   ]
  },
  {
   "cell_type": "markdown",
   "metadata": {},
   "source": [
    "### Exercici 3\n",
    "\n",
    "Crea un programa que et pregunti el teu nom, i et demani un número. Si el número és 0, hauria de mostrar un missatge d’error. En cas contrari, hauria de mostrar el nom repetit tants cops com indiqui el número. Per exemple, “Joan Joan Joan”."
   ]
  },
  {
   "cell_type": "code",
   "execution_count": 6,
   "metadata": {
    "ExecuteTime": {
     "end_time": "2021-04-12T08:41:43.821078Z",
     "start_time": "2021-04-12T08:41:36.782799Z"
    }
   },
   "outputs": [
    {
     "name": "stdout",
     "output_type": "stream",
     "text": [
      "Enter your name: Adrià\n",
      "Enter a number 9\n",
      "Adrià Adrià Adrià Adrià Adrià Adrià Adrià Adrià Adrià \n"
     ]
    }
   ],
   "source": [
    "name = input('Enter your name: ')\n",
    "num = int(input('Enter a number '))\n",
    "\n",
    "if num <= 0: #He fet que l'error també surti quan el número es negatiu. \n",
    "    print ('Error: the number must be an integer biggher than 0. Please Try Again...')\n",
    "else:\n",
    "    print(f\"{name} \" * num)"
   ]
  },
  {
   "cell_type": "markdown",
   "metadata": {},
   "source": [
    "### Exercici 4\n",
    "\n",
    "Crea un programa que donada una llista qualsevol, et digui si es simètrica o no. Si ho és, que et digui quants elements té."
   ]
  },
  {
   "cell_type": "code",
   "execution_count": 7,
   "metadata": {
    "ExecuteTime": {
     "end_time": "2021-04-12T08:41:48.871735Z",
     "start_time": "2021-04-12T08:41:48.857416Z"
    }
   },
   "outputs": [
    {
     "name": "stdout",
     "output_type": "stream",
     "text": [
      "This list is simetric and have 3 elements ['pomes', 'peres', 'pomes']\n",
      "This list is not simetrc [1, 2, 3, 4, 5]\n",
      "This list is simetric and have 7 elements ['l', 'u', 'z', 'a', 'z', 'u', 'l']\n"
     ]
    }
   ],
   "source": [
    "def llista_simetrica(llista):\n",
    "    llista_rev = llista.copy()\n",
    "    llista_rev.reverse()\n",
    "    if llista == llista_rev:\n",
    "        return (f\"This list is simetric and have {len(llista)} elements\")\n",
    "    else: \n",
    "        return (\"This list is not simetrc\")\n",
    "\n",
    "# Definim llistes de exemple\n",
    "fruites = [\"pomes\", \"peres\", \"pomes\"]\n",
    "numeros = [1,2,3,4,5]\n",
    "\n",
    "#Output exemples\n",
    "print(llista_simetrica(fruites), fruites)\n",
    "print(llista_simetrica(numeros), numeros)\n",
    "\n",
    "#Output exemple amb pal·lindrom \n",
    "print(llista_simetrica(list(\"luzazul\")), (list('luzazul'))) "
   ]
  },
  {
   "cell_type": "markdown",
   "metadata": {},
   "source": [
    "### Exercici 5\n",
    "\n",
    "Crea un programa que donada una llista, et digui quants números coincideixen amb la seva posició. Per exemple [3,4,2,0,2,3,6] el 2 i el 6 coincideixen."
   ]
  },
  {
   "cell_type": "code",
   "execution_count": 8,
   "metadata": {
    "ExecuteTime": {
     "end_time": "2021-04-12T08:42:05.955037Z",
     "start_time": "2021-04-12T08:42:05.943075Z"
    }
   },
   "outputs": [
    {
     "name": "stdout",
     "output_type": "stream",
     "text": [
      "The values [0, 2, 6, 7, 9, 10] in the list matches their possition\n"
     ]
    }
   ],
   "source": [
    "def list_con (l1):\n",
    "    l2 =[]\n",
    "    for item in range(len(l1)): \n",
    "        if item == l1[item]:\n",
    "            l2.append(l1[item])\n",
    "    if len(l2) == 0: \n",
    "        return ('There is no coincidence between values and their possition')\n",
    "    else: \n",
    "        return (f'The values {l2} in the list matches their possition')\n",
    "\n",
    "#Exemples i output\n",
    "l1 = [0,4,2,0,2,3,6,7,28,9,10,34,5]\n",
    "print(list_con(l1))"
   ]
  }
 ],
 "metadata": {
  "kernelspec": {
   "display_name": "Python 3",
   "language": "python",
   "name": "python3"
  },
  "language_info": {
   "codemirror_mode": {
    "name": "ipython",
    "version": 3
   },
   "file_extension": ".py",
   "mimetype": "text/x-python",
   "name": "python",
   "nbconvert_exporter": "python",
   "pygments_lexer": "ipython3",
   "version": "3.8.5"
  }
 },
 "nbformat": 4,
 "nbformat_minor": 2
}
