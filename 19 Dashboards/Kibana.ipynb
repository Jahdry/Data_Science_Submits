{
 "cells": [
  {
   "cell_type": "markdown",
   "metadata": {},
   "source": [
    "# **S19 T01: Visualització interactiva amb ElasticSearch Stack**"
   ]
  },
  {
   "cell_type": "markdown",
   "metadata": {},
   "source": [
    "## Nivell 1\n",
    "- **Exercici 1**\n",
    "\n",
    "## **Descarrega't Kibana**"
   ]
  },
  {
   "cell_type": "markdown",
   "metadata": {},
   "source": [
    "### **IN THIS CASE WE'RE USING ELASTIC CLOUD SERVICE**\n",
    "\n",
    "* Acces to [cloud.elastic.co](https://cloud.elastic.co) and create a Free Acounnt\n",
    "\n",
    "![Login](./images/Login.png)\n",
    "\n",
    "* Acces with your credentials to elasctic stack and create the enviornemet with the cloud service you prefer. In this case we've selected AWS\n",
    "\n",
    "![Main_panel](./images/Main_panel.png)\n",
    "\n",
    "* Deploy your first enviornement\n",
    "\n",
    "![Deployment](./images/Main_panel2.png)\n",
    "\n",
    "* Open Kibana\n",
    "\n",
    "![Deployment](./images/Kibana.png)\n",
    "\n",
    "* Add the sample data to your enviornement \n",
    "\n",
    "![Sample Data](./images/Adding_data.png)\n",
    "\n",
    "* You also can import any data file you have in your computer\n",
    "\n",
    "![Import Data](./images/Import.png)\n",
    "\n",
    "* Once you have your data you can create your own Logs showing the attributes you select.\n",
    "\n",
    "![Data Log](./images/Table.png)\n",
    "\n",
    "### NOW YOU'RE GOOD TO START CREATING YOUR CHARTS AND DASHBOARDS"
   ]
  },
  {
   "cell_type": "markdown",
   "metadata": {},
   "source": [
    "## **Mostra algunes gràfiques utilitzant conjunts de dades d'Exemple.**"
   ]
  },
  {
   "cell_type": "markdown",
   "metadata": {},
   "source": [
    "### **IN THIS CASE WE'VE CREATED SOME CHARTS USING THE NBA PLAYERS DB THAT WE IMPORTED FROM OUR LOCAL DRIVE**\n",
    "\n",
    "* Line Plot: \n",
    "\n",
    "![LINE PLOT](./images/NBA_1.png)\n",
    "\n",
    "* Heat Map:\n",
    "\n",
    "![HEAT MAP](./images/NBA2.png)"
   ]
  },
  {
   "cell_type": "markdown",
   "metadata": {},
   "source": [
    "\n",
    "## Nivell 2\n",
    "- **Exercici 1**\n",
    "\n",
    "Implementa un dashboard que visualitzi interactivament les dades que triïs.\n",
    "\n",
    "\n",
    "### **WE'VE USED \"kibana_sample_data_flights\" TO CREATE THIS DASHBOARD**\n",
    "\n",
    "[Dashboard 1](https://adria-guerrero-deployment.kb.eu-central-1.aws.cloud.es.io:9243/goto/7bda8302cd338239fdafdc3329d70eda)\n",
    "\n",
    "![Dashboard1](./images/Flights_Dashboard_1.png)"
   ]
  },
  {
   "cell_type": "markdown",
   "metadata": {},
   "source": [
    "## Nivell 3\n",
    "- **Exercici 1**\n",
    "\n",
    "Implementa un dashboard que generi gràfics utilitzant cadascun dels diferents tipus de gràfics que ofereix Kibana.\n",
    "\n",
    "\n",
    "### **WE'VE USED \"kibana_sample_data_flights\" TO CREATE THIS DASHBOARD**\n",
    "\n",
    "[Dashboard 2](https://adria-guerrero-deployment.kb.eu-central-1.aws.cloud.es.io:9243/goto/08ae5c40d743c56efe0ac1c425e83bd2)\n",
    "\n",
    "![Dashboard2_1](./images/Flights_Dashboard_21.png)\n",
    "![Dashboard2_2](./images/Flights_Dashboard_22.png)\n",
    "![Dashboard2_3](./images/Flights_Dashboard_23.png)"
   ]
  },
  {
   "cell_type": "code",
   "execution_count": null,
   "metadata": {},
   "outputs": [],
   "source": []
  },
  {
   "cell_type": "code",
   "execution_count": null,
   "metadata": {},
   "outputs": [],
   "source": []
  },
  {
   "cell_type": "markdown",
   "metadata": {},
   "source": []
  }
 ],
 "metadata": {
  "interpreter": {
   "hash": "dca0ade3e726a953b501b15e8e990130d2b7799f14cfd9f4271676035ebe5511"
  },
  "kernelspec": {
   "display_name": "Python 3.8.5 64-bit ('base': conda)",
   "name": "python3"
  },
  "language_info": {
   "name": "python",
   "version": ""
  },
  "orig_nbformat": 4
 },
 "nbformat": 4,
 "nbformat_minor": 2
}